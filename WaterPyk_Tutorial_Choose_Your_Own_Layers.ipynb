{
  "nbformat": 4,
  "nbformat_minor": 0,
  "metadata": {
    "colab": {
      "provenance": [],
      "collapsed_sections": [],
      "authorship_tag": "ABX9TyPdKFRPCW+p5GNv0fOWOO5I",
      "include_colab_link": true
    },
    "kernelspec": {
      "name": "python3",
      "display_name": "Python 3"
    },
    "language_info": {
      "name": "python"
    }
  },
  "cells": [
    {
      "cell_type": "markdown",
      "metadata": {
        "id": "view-in-github",
        "colab_type": "text"
      },
      "source": [
        "<a href=\"https://colab.research.google.com/github/erica-mccormick/tutorials/blob/main/WaterPyk_Tutorial_Choose_Your_Own_Layers.ipynb\" target=\"_parent\"><img src=\"https://colab.research.google.com/assets/colab-badge.svg\" alt=\"Open In Colab\"/></a>"
      ]
    },
    {
      "cell_type": "markdown",
      "source": [
        "# How to change the ```layers``` argument to extract data of your choice using WaterPyk"
      ],
      "metadata": {
        "id": "XwWrGESD6mUe"
      }
    },
    {
      "cell_type": "markdown",
      "source": [
        "### Imports and initializing"
      ],
      "metadata": {
        "id": "bIWARwyW6_22"
      }
    },
    {
      "cell_type": "code",
      "execution_count": 1,
      "metadata": {
        "id": "17SQRYG1xGxz"
      },
      "outputs": [],
      "source": [
        "pip install geopandas -q"
      ]
    },
    {
      "cell_type": "code",
      "source": [
        "pip install rasterio -q"
      ],
      "metadata": {
        "id": "yG_IJLhrMuvv"
      },
      "execution_count": 2,
      "outputs": []
    },
    {
      "cell_type": "code",
      "execution_count": 3,
      "metadata": {
        "id": "JxzXerTtw9yB",
        "colab": {
          "base_uri": "https://localhost:8080/"
        },
        "outputId": "f87175d3-ad3f-40e4-90e8-74b8150b7ec0"
      },
      "outputs": [
        {
          "output_type": "stream",
          "name": "stdout",
          "text": [
            "To authorize access needed by Earth Engine, open the following URL in a web browser and follow the instructions. If the web browser does not start automatically, please manually browse the URL below.\n",
            "\n",
            "    https://code.earthengine.google.com/client-auth?scopes=https%3A//www.googleapis.com/auth/earthengine%20https%3A//www.googleapis.com/auth/devstorage.full_control&request_id=nOSCcBlZr-p_GY2xBCJusZafhME6SSa_TOjSzD4cUkA&tc=BtebI4xJWNsNtOQpMe7iXj5-7xpIJkCxEbPQDcu5WkY&cc=OcWKvoz1tvy-wvl_pMVr0jLvpguk3ZJm9RDO6Y82wCw\n",
            "\n",
            "The authorization workflow will generate a code, which you should paste in the box below.\n",
            "Enter verification code: 4/1AfgeXvvWMzn4Cr2FOJIQ5P8tmDbgiuzJoiETBk3fR_B_tZQ6jcxBl_Y-h3c\n",
            "\n",
            "Successfully saved authorization token.\n"
          ]
        }
      ],
      "source": [
        "import ee\n",
        "import pandas as pd\n",
        "import numpy as np\n",
        "import matplotlib.pyplot as plt\n",
        "import seaborn as sns\n",
        "\n",
        "import geopandas as gpd\n",
        "import rasterio as rio\n",
        "\n",
        "ee.Authenticate()\n",
        "ee.Initialize()"
      ]
    },
    {
      "cell_type": "code",
      "execution_count": 4,
      "metadata": {
        "id": "nnnV_QA52DOj",
        "colab": {
          "base_uri": "https://localhost:8080/"
        },
        "outputId": "6914a879-5324-4dab-abe3-404afea9b084"
      },
      "outputs": [
        {
          "output_type": "stream",
          "name": "stdout",
          "text": [
            "Mounted at /content/drive\n"
          ]
        }
      ],
      "source": [
        "from google.colab import drive\n",
        "drive.mount('/content/drive', force_remount = True)"
      ]
    },
    {
      "cell_type": "code",
      "source": [
        "pip install waterpyk -q"
      ],
      "metadata": {
        "id": "Hp0yUk1cPOIv"
      },
      "execution_count": 4,
      "outputs": []
    },
    {
      "cell_type": "markdown",
      "source": [
        "If you are still getting an error, make sure you are using at least version 2.3.0 (I just updated it!)\n",
        "\n",
        "But note that eventually it might get updated again, so don't always specify this version indefinitely in the future!"
      ],
      "metadata": {
        "id": "dHOfSLCz_GLN"
      }
    },
    {
      "cell_type": "code",
      "source": [
        "#pip install waterpyk==2.3.0"
      ],
      "metadata": {
        "colab": {
          "base_uri": "https://localhost:8080/",
          "height": 286
        },
        "id": "607t9QFK-8Ex",
        "outputId": "84d92b60-d77a-4e8a-b29f-6cdec1b7f96f"
      },
      "execution_count": 11,
      "outputs": [
        {
          "output_type": "stream",
          "name": "stdout",
          "text": [
            "Looking in indexes: https://pypi.org/simple, https://us-python.pkg.dev/colab-wheels/public/simple/\n",
            "Collecting waterpyk==2.3.0\n",
            "  Downloading waterpyk-2.3.0-py3-none-any.whl (44 kB)\n",
            "\u001b[K     |████████████████████████████████| 44 kB 1.3 MB/s \n",
            "\u001b[?25hInstalling collected packages: waterpyk\n",
            "  Attempting uninstall: waterpyk\n",
            "    Found existing installation: waterpyk 2.2.0\n",
            "    Uninstalling waterpyk-2.2.0:\n",
            "      Successfully uninstalled waterpyk-2.2.0\n",
            "Successfully installed waterpyk-2.3.0\n"
          ]
        },
        {
          "output_type": "display_data",
          "data": {
            "application/vnd.colab-display-data+json": {
              "pip_warning": {
                "packages": [
                  "waterpyk"
                ]
              }
            }
          },
          "metadata": {}
        }
      ]
    },
    {
      "cell_type": "code",
      "source": [
        "from waterpyk.main import StudyArea\n",
        "import waterpyk"
      ],
      "metadata": {
        "id": "Mw3h1h7PPUd1"
      },
      "execution_count": 58,
      "outputs": []
    },
    {
      "cell_type": "markdown",
      "source": [
        "### Initialize a StudyArea object with the default ```layers = 'all'```"
      ],
      "metadata": {
        "id": "TuYiQm86Z4EB"
      }
    },
    {
      "cell_type": "code",
      "source": [
        "rivendell = StudyArea(layers = 'all', coords = [39.7273, -123.6433])"
      ],
      "metadata": {
        "id": "Kkffe9HA09QY",
        "colab": {
          "base_uri": "https://localhost:8080/"
        },
        "outputId": "515f8b96-6d99-47a1-9c5c-f4a8dd63479b"
      },
      "execution_count": 71,
      "outputs": [
        {
          "output_type": "stream",
          "name": "stdout",
          "text": [
            "Getting layers from load_data()...\n",
            "Extracting prism\n",
            "\tOriginal timestep of 1 day(s) was interpolated to daily.\n",
            "Extracting pml\n",
            "\tOriginal timestep of 8 day(s) was interpolated to daily.\n",
            "\tEs, Ec, Ei bands were scaled by 0.01\n",
            "Extracting modis_snow\n",
            "\tBands NDSI_Snow_Cover renamed to snow.\n",
            "\tOriginal timestep of 1 day(s) was interpolated to daily.\n",
            "Extracting modis_ET\n",
            "\tOriginal timestep of 8 day(s) was interpolated to daily.\n",
            "\tET, PET bands were scaled by 0.08\n",
            "Extracting modis_landcover\n",
            "\tBands LC_Type1 renamed to landcover.\n",
            "Extracting srtm_elevation\n",
            "\n",
            "Saving all dataframes at:\n",
            "\t/content/drive/MyDrive/39.7273_-123.6433\n",
            "\n",
            "Time to access data: 17.145 seconds\n"
          ]
        }
      ]
    },
    {
      "cell_type": "markdown",
      "source": [
        "### WaterPyk comes with 2 \"preset\" csvs of assets to extract. We can specify these with the layers = 'all' and layers = 'minimal'. We can see the 'all' csv (imported automatically as a pandas df) by accessing the ```extracted_df``` attribute of our rivendell object."
      ],
      "metadata": {
        "id": "oHEGVHYO7DWg"
      }
    },
    {
      "cell_type": "code",
      "source": [
        "rivendell.extracted_df"
      ],
      "metadata": {
        "colab": {
          "base_uri": "https://localhost:8080/",
          "height": 237
        },
        "id": "GTXhYdZj62jp",
        "outputId": "a45c5c7d-062d-4e77-ad66-d233e923f4c1"
      },
      "execution_count": 72,
      "outputs": [
        {
          "output_type": "execute_result",
          "data": {
            "text/plain": [
              "              name                                           asset_id  scale  \\\n",
              "0            prism                            OREGONSTATE/PRISM/AN81d    500   \n",
              "1              pml  projects/pml_evapotranspiration/PML/OUTPUT/PML...    500   \n",
              "2       modis_snow                                  MODIS/006/MOD10A1    500   \n",
              "3         modis_ET                                  MODIS/006/MOD16A2    500   \n",
              "4  modis_landcover                                  MODIS/006/MCD12Q1    500   \n",
              "5   srtm_elevation                                   USGS/SRTMGL1_003     30   \n",
              "\n",
              "  start_date   end_date relative_date            bands new_bandnames  \\\n",
              "0    10/1/03  10/1/2020           NaN              ppt           NaN   \n",
              "1    10/1/03  10/1/2020           NaN       Es, Ec, Ei           NaN   \n",
              "2    10/1/03  10/1/2020           NaN  NDSI_Snow_Cover          snow   \n",
              "3    10/1/03  10/1/2020           NaN          ET, PET           NaN   \n",
              "4        NaN        NaN   most_recent         LC_Type1     landcover   \n",
              "5        NaN        NaN         image        elevation           NaN   \n",
              "\n",
              "  bands_to_scale  scaling_factor units  \n",
              "0            NaN             NaN    mm  \n",
              "1     Es, Ec, Ei            0.01    mm  \n",
              "2            NaN             NaN    mm  \n",
              "3        ET, PET            0.08    mm  \n",
              "4            NaN             NaN   NaN  \n",
              "5            NaN             NaN     m  "
            ],
            "text/html": [
              "\n",
              "  <div id=\"df-13e6b3b8-8ebb-49c6-94d5-dd26abd58417\">\n",
              "    <div class=\"colab-df-container\">\n",
              "      <div>\n",
              "<style scoped>\n",
              "    .dataframe tbody tr th:only-of-type {\n",
              "        vertical-align: middle;\n",
              "    }\n",
              "\n",
              "    .dataframe tbody tr th {\n",
              "        vertical-align: top;\n",
              "    }\n",
              "\n",
              "    .dataframe thead th {\n",
              "        text-align: right;\n",
              "    }\n",
              "</style>\n",
              "<table border=\"1\" class=\"dataframe\">\n",
              "  <thead>\n",
              "    <tr style=\"text-align: right;\">\n",
              "      <th></th>\n",
              "      <th>name</th>\n",
              "      <th>asset_id</th>\n",
              "      <th>scale</th>\n",
              "      <th>start_date</th>\n",
              "      <th>end_date</th>\n",
              "      <th>relative_date</th>\n",
              "      <th>bands</th>\n",
              "      <th>new_bandnames</th>\n",
              "      <th>bands_to_scale</th>\n",
              "      <th>scaling_factor</th>\n",
              "      <th>units</th>\n",
              "    </tr>\n",
              "  </thead>\n",
              "  <tbody>\n",
              "    <tr>\n",
              "      <th>0</th>\n",
              "      <td>prism</td>\n",
              "      <td>OREGONSTATE/PRISM/AN81d</td>\n",
              "      <td>500</td>\n",
              "      <td>10/1/03</td>\n",
              "      <td>10/1/2020</td>\n",
              "      <td>NaN</td>\n",
              "      <td>ppt</td>\n",
              "      <td>NaN</td>\n",
              "      <td>NaN</td>\n",
              "      <td>NaN</td>\n",
              "      <td>mm</td>\n",
              "    </tr>\n",
              "    <tr>\n",
              "      <th>1</th>\n",
              "      <td>pml</td>\n",
              "      <td>projects/pml_evapotranspiration/PML/OUTPUT/PML...</td>\n",
              "      <td>500</td>\n",
              "      <td>10/1/03</td>\n",
              "      <td>10/1/2020</td>\n",
              "      <td>NaN</td>\n",
              "      <td>Es, Ec, Ei</td>\n",
              "      <td>NaN</td>\n",
              "      <td>Es, Ec, Ei</td>\n",
              "      <td>0.01</td>\n",
              "      <td>mm</td>\n",
              "    </tr>\n",
              "    <tr>\n",
              "      <th>2</th>\n",
              "      <td>modis_snow</td>\n",
              "      <td>MODIS/006/MOD10A1</td>\n",
              "      <td>500</td>\n",
              "      <td>10/1/03</td>\n",
              "      <td>10/1/2020</td>\n",
              "      <td>NaN</td>\n",
              "      <td>NDSI_Snow_Cover</td>\n",
              "      <td>snow</td>\n",
              "      <td>NaN</td>\n",
              "      <td>NaN</td>\n",
              "      <td>mm</td>\n",
              "    </tr>\n",
              "    <tr>\n",
              "      <th>3</th>\n",
              "      <td>modis_ET</td>\n",
              "      <td>MODIS/006/MOD16A2</td>\n",
              "      <td>500</td>\n",
              "      <td>10/1/03</td>\n",
              "      <td>10/1/2020</td>\n",
              "      <td>NaN</td>\n",
              "      <td>ET, PET</td>\n",
              "      <td>NaN</td>\n",
              "      <td>ET, PET</td>\n",
              "      <td>0.08</td>\n",
              "      <td>mm</td>\n",
              "    </tr>\n",
              "    <tr>\n",
              "      <th>4</th>\n",
              "      <td>modis_landcover</td>\n",
              "      <td>MODIS/006/MCD12Q1</td>\n",
              "      <td>500</td>\n",
              "      <td>NaN</td>\n",
              "      <td>NaN</td>\n",
              "      <td>most_recent</td>\n",
              "      <td>LC_Type1</td>\n",
              "      <td>landcover</td>\n",
              "      <td>NaN</td>\n",
              "      <td>NaN</td>\n",
              "      <td>NaN</td>\n",
              "    </tr>\n",
              "    <tr>\n",
              "      <th>5</th>\n",
              "      <td>srtm_elevation</td>\n",
              "      <td>USGS/SRTMGL1_003</td>\n",
              "      <td>30</td>\n",
              "      <td>NaN</td>\n",
              "      <td>NaN</td>\n",
              "      <td>image</td>\n",
              "      <td>elevation</td>\n",
              "      <td>NaN</td>\n",
              "      <td>NaN</td>\n",
              "      <td>NaN</td>\n",
              "      <td>m</td>\n",
              "    </tr>\n",
              "  </tbody>\n",
              "</table>\n",
              "</div>\n",
              "      <button class=\"colab-df-convert\" onclick=\"convertToInteractive('df-13e6b3b8-8ebb-49c6-94d5-dd26abd58417')\"\n",
              "              title=\"Convert this dataframe to an interactive table.\"\n",
              "              style=\"display:none;\">\n",
              "        \n",
              "  <svg xmlns=\"http://www.w3.org/2000/svg\" height=\"24px\"viewBox=\"0 0 24 24\"\n",
              "       width=\"24px\">\n",
              "    <path d=\"M0 0h24v24H0V0z\" fill=\"none\"/>\n",
              "    <path d=\"M18.56 5.44l.94 2.06.94-2.06 2.06-.94-2.06-.94-.94-2.06-.94 2.06-2.06.94zm-11 1L8.5 8.5l.94-2.06 2.06-.94-2.06-.94L8.5 2.5l-.94 2.06-2.06.94zm10 10l.94 2.06.94-2.06 2.06-.94-2.06-.94-.94-2.06-.94 2.06-2.06.94z\"/><path d=\"M17.41 7.96l-1.37-1.37c-.4-.4-.92-.59-1.43-.59-.52 0-1.04.2-1.43.59L10.3 9.45l-7.72 7.72c-.78.78-.78 2.05 0 2.83L4 21.41c.39.39.9.59 1.41.59.51 0 1.02-.2 1.41-.59l7.78-7.78 2.81-2.81c.8-.78.8-2.07 0-2.86zM5.41 20L4 18.59l7.72-7.72 1.47 1.35L5.41 20z\"/>\n",
              "  </svg>\n",
              "      </button>\n",
              "      \n",
              "  <style>\n",
              "    .colab-df-container {\n",
              "      display:flex;\n",
              "      flex-wrap:wrap;\n",
              "      gap: 12px;\n",
              "    }\n",
              "\n",
              "    .colab-df-convert {\n",
              "      background-color: #E8F0FE;\n",
              "      border: none;\n",
              "      border-radius: 50%;\n",
              "      cursor: pointer;\n",
              "      display: none;\n",
              "      fill: #1967D2;\n",
              "      height: 32px;\n",
              "      padding: 0 0 0 0;\n",
              "      width: 32px;\n",
              "    }\n",
              "\n",
              "    .colab-df-convert:hover {\n",
              "      background-color: #E2EBFA;\n",
              "      box-shadow: 0px 1px 2px rgba(60, 64, 67, 0.3), 0px 1px 3px 1px rgba(60, 64, 67, 0.15);\n",
              "      fill: #174EA6;\n",
              "    }\n",
              "\n",
              "    [theme=dark] .colab-df-convert {\n",
              "      background-color: #3B4455;\n",
              "      fill: #D2E3FC;\n",
              "    }\n",
              "\n",
              "    [theme=dark] .colab-df-convert:hover {\n",
              "      background-color: #434B5C;\n",
              "      box-shadow: 0px 1px 3px 1px rgba(0, 0, 0, 0.15);\n",
              "      filter: drop-shadow(0px 1px 2px rgba(0, 0, 0, 0.3));\n",
              "      fill: #FFFFFF;\n",
              "    }\n",
              "  </style>\n",
              "\n",
              "      <script>\n",
              "        const buttonEl =\n",
              "          document.querySelector('#df-13e6b3b8-8ebb-49c6-94d5-dd26abd58417 button.colab-df-convert');\n",
              "        buttonEl.style.display =\n",
              "          google.colab.kernel.accessAllowed ? 'block' : 'none';\n",
              "\n",
              "        async function convertToInteractive(key) {\n",
              "          const element = document.querySelector('#df-13e6b3b8-8ebb-49c6-94d5-dd26abd58417');\n",
              "          const dataTable =\n",
              "            await google.colab.kernel.invokeFunction('convertToInteractive',\n",
              "                                                     [key], {});\n",
              "          if (!dataTable) return;\n",
              "\n",
              "          const docLinkHtml = 'Like what you see? Visit the ' +\n",
              "            '<a target=\"_blank\" href=https://colab.research.google.com/notebooks/data_table.ipynb>data table notebook</a>'\n",
              "            + ' to learn more about interactive tables.';\n",
              "          element.innerHTML = '';\n",
              "          dataTable['output_type'] = 'display_data';\n",
              "          await google.colab.output.renderOutput(dataTable, element);\n",
              "          const docLink = document.createElement('div');\n",
              "          docLink.innerHTML = docLinkHtml;\n",
              "          element.appendChild(docLink);\n",
              "        }\n",
              "      </script>\n",
              "    </div>\n",
              "  </div>\n",
              "  "
            ]
          },
          "metadata": {},
          "execution_count": 72
        }
      ]
    },
    {
      "cell_type": "markdown",
      "source": [
        "### **Option 1** Modify extracted_df\n",
        "\n",
        "### We can save extracted_df to a variable and then modify it to extract the ingredients for the deficit from 2003 to 2010 instead of to 2020. We'll also keep the non-timeseries variables landcover and elevation.\n",
        "\n",
        "### Some other thoughts:\n",
        "\n",
        "* We can't extract the deficit past 2020 because the ET asset (PML) does not extend further than that at this time. See below for how to get individual assets without trying to calculate the deficit.\n",
        "\n",
        "* The majority of waterpyk.StudyArea() relies on storing all of the variables in one dataframe (for example in the format of ```daily_df_wide```. This means that all of the timeseries will be truncated to match the variable with the shortest time range.\n",
        "\n",
        "* If you want to extract variables of mismatched time ranges, you could do them one by one, like I'm showing here. You could also use waterpyk's other functions, like those in the [waterpyk.gee module](https://waterpyk.readthedocs.io/en/latest/waterpyk.html#module-waterpyk.gee). You could also use your own code, or code taken from waterpk's source code! \n",
        "\n",
        "* The stuff that StudyArea does is all taken care of by functions in waterpyk's other modules, like ```gee```, ```calcs``` and ```plots```. In fact, waterpyk does lots of other stuff that StudyArea doesn't do! So feel free to explore and let me know when you run into errors."
      ],
      "metadata": {
        "id": "IgiqnpSb7TXP"
      }
    },
    {
      "cell_type": "code",
      "source": [
        "extract_v1 = rivendell.extracted_df.copy() ### the .copy() makes sure we don't change the actual extracted_df attribute ... which I should have prevented in the code ;)\n",
        "extract_v1['end_date'][0] = '10/1/2010'\n",
        "extract_v1"
      ],
      "metadata": {
        "colab": {
          "base_uri": "https://localhost:8080/",
          "height": 237
        },
        "id": "dUB92IenIByK",
        "outputId": "3fd31c04-6952-464a-86e0-843785923e52"
      },
      "execution_count": 79,
      "outputs": [
        {
          "output_type": "execute_result",
          "data": {
            "text/plain": [
              "              name                                           asset_id  scale  \\\n",
              "0            prism                            OREGONSTATE/PRISM/AN81d    500   \n",
              "1              pml  projects/pml_evapotranspiration/PML/OUTPUT/PML...    500   \n",
              "2       modis_snow                                  MODIS/006/MOD10A1    500   \n",
              "3         modis_ET                                  MODIS/006/MOD16A2    500   \n",
              "4  modis_landcover                                  MODIS/006/MCD12Q1    500   \n",
              "5   srtm_elevation                                   USGS/SRTMGL1_003     30   \n",
              "\n",
              "  start_date   end_date relative_date            bands new_bandnames  \\\n",
              "0    10/1/03  10/1/2010           NaN              ppt           NaN   \n",
              "1    10/1/03  10/1/2020           NaN       Es, Ec, Ei           NaN   \n",
              "2    10/1/03  10/1/2020           NaN  NDSI_Snow_Cover          snow   \n",
              "3    10/1/03  10/1/2020           NaN          ET, PET           NaN   \n",
              "4        NaN        NaN   most_recent         LC_Type1     landcover   \n",
              "5        NaN        NaN         image        elevation           NaN   \n",
              "\n",
              "  bands_to_scale  scaling_factor units  \n",
              "0            NaN             NaN    mm  \n",
              "1     Es, Ec, Ei            0.01    mm  \n",
              "2            NaN             NaN    mm  \n",
              "3        ET, PET            0.08    mm  \n",
              "4            NaN             NaN   NaN  \n",
              "5            NaN             NaN     m  "
            ],
            "text/html": [
              "\n",
              "  <div id=\"df-7f6ece0c-5ab0-46d8-8311-a8f3a5f4b0ab\">\n",
              "    <div class=\"colab-df-container\">\n",
              "      <div>\n",
              "<style scoped>\n",
              "    .dataframe tbody tr th:only-of-type {\n",
              "        vertical-align: middle;\n",
              "    }\n",
              "\n",
              "    .dataframe tbody tr th {\n",
              "        vertical-align: top;\n",
              "    }\n",
              "\n",
              "    .dataframe thead th {\n",
              "        text-align: right;\n",
              "    }\n",
              "</style>\n",
              "<table border=\"1\" class=\"dataframe\">\n",
              "  <thead>\n",
              "    <tr style=\"text-align: right;\">\n",
              "      <th></th>\n",
              "      <th>name</th>\n",
              "      <th>asset_id</th>\n",
              "      <th>scale</th>\n",
              "      <th>start_date</th>\n",
              "      <th>end_date</th>\n",
              "      <th>relative_date</th>\n",
              "      <th>bands</th>\n",
              "      <th>new_bandnames</th>\n",
              "      <th>bands_to_scale</th>\n",
              "      <th>scaling_factor</th>\n",
              "      <th>units</th>\n",
              "    </tr>\n",
              "  </thead>\n",
              "  <tbody>\n",
              "    <tr>\n",
              "      <th>0</th>\n",
              "      <td>prism</td>\n",
              "      <td>OREGONSTATE/PRISM/AN81d</td>\n",
              "      <td>500</td>\n",
              "      <td>10/1/03</td>\n",
              "      <td>10/1/2010</td>\n",
              "      <td>NaN</td>\n",
              "      <td>ppt</td>\n",
              "      <td>NaN</td>\n",
              "      <td>NaN</td>\n",
              "      <td>NaN</td>\n",
              "      <td>mm</td>\n",
              "    </tr>\n",
              "    <tr>\n",
              "      <th>1</th>\n",
              "      <td>pml</td>\n",
              "      <td>projects/pml_evapotranspiration/PML/OUTPUT/PML...</td>\n",
              "      <td>500</td>\n",
              "      <td>10/1/03</td>\n",
              "      <td>10/1/2020</td>\n",
              "      <td>NaN</td>\n",
              "      <td>Es, Ec, Ei</td>\n",
              "      <td>NaN</td>\n",
              "      <td>Es, Ec, Ei</td>\n",
              "      <td>0.01</td>\n",
              "      <td>mm</td>\n",
              "    </tr>\n",
              "    <tr>\n",
              "      <th>2</th>\n",
              "      <td>modis_snow</td>\n",
              "      <td>MODIS/006/MOD10A1</td>\n",
              "      <td>500</td>\n",
              "      <td>10/1/03</td>\n",
              "      <td>10/1/2020</td>\n",
              "      <td>NaN</td>\n",
              "      <td>NDSI_Snow_Cover</td>\n",
              "      <td>snow</td>\n",
              "      <td>NaN</td>\n",
              "      <td>NaN</td>\n",
              "      <td>mm</td>\n",
              "    </tr>\n",
              "    <tr>\n",
              "      <th>3</th>\n",
              "      <td>modis_ET</td>\n",
              "      <td>MODIS/006/MOD16A2</td>\n",
              "      <td>500</td>\n",
              "      <td>10/1/03</td>\n",
              "      <td>10/1/2020</td>\n",
              "      <td>NaN</td>\n",
              "      <td>ET, PET</td>\n",
              "      <td>NaN</td>\n",
              "      <td>ET, PET</td>\n",
              "      <td>0.08</td>\n",
              "      <td>mm</td>\n",
              "    </tr>\n",
              "    <tr>\n",
              "      <th>4</th>\n",
              "      <td>modis_landcover</td>\n",
              "      <td>MODIS/006/MCD12Q1</td>\n",
              "      <td>500</td>\n",
              "      <td>NaN</td>\n",
              "      <td>NaN</td>\n",
              "      <td>most_recent</td>\n",
              "      <td>LC_Type1</td>\n",
              "      <td>landcover</td>\n",
              "      <td>NaN</td>\n",
              "      <td>NaN</td>\n",
              "      <td>NaN</td>\n",
              "    </tr>\n",
              "    <tr>\n",
              "      <th>5</th>\n",
              "      <td>srtm_elevation</td>\n",
              "      <td>USGS/SRTMGL1_003</td>\n",
              "      <td>30</td>\n",
              "      <td>NaN</td>\n",
              "      <td>NaN</td>\n",
              "      <td>image</td>\n",
              "      <td>elevation</td>\n",
              "      <td>NaN</td>\n",
              "      <td>NaN</td>\n",
              "      <td>NaN</td>\n",
              "      <td>m</td>\n",
              "    </tr>\n",
              "  </tbody>\n",
              "</table>\n",
              "</div>\n",
              "      <button class=\"colab-df-convert\" onclick=\"convertToInteractive('df-7f6ece0c-5ab0-46d8-8311-a8f3a5f4b0ab')\"\n",
              "              title=\"Convert this dataframe to an interactive table.\"\n",
              "              style=\"display:none;\">\n",
              "        \n",
              "  <svg xmlns=\"http://www.w3.org/2000/svg\" height=\"24px\"viewBox=\"0 0 24 24\"\n",
              "       width=\"24px\">\n",
              "    <path d=\"M0 0h24v24H0V0z\" fill=\"none\"/>\n",
              "    <path d=\"M18.56 5.44l.94 2.06.94-2.06 2.06-.94-2.06-.94-.94-2.06-.94 2.06-2.06.94zm-11 1L8.5 8.5l.94-2.06 2.06-.94-2.06-.94L8.5 2.5l-.94 2.06-2.06.94zm10 10l.94 2.06.94-2.06 2.06-.94-2.06-.94-.94-2.06-.94 2.06-2.06.94z\"/><path d=\"M17.41 7.96l-1.37-1.37c-.4-.4-.92-.59-1.43-.59-.52 0-1.04.2-1.43.59L10.3 9.45l-7.72 7.72c-.78.78-.78 2.05 0 2.83L4 21.41c.39.39.9.59 1.41.59.51 0 1.02-.2 1.41-.59l7.78-7.78 2.81-2.81c.8-.78.8-2.07 0-2.86zM5.41 20L4 18.59l7.72-7.72 1.47 1.35L5.41 20z\"/>\n",
              "  </svg>\n",
              "      </button>\n",
              "      \n",
              "  <style>\n",
              "    .colab-df-container {\n",
              "      display:flex;\n",
              "      flex-wrap:wrap;\n",
              "      gap: 12px;\n",
              "    }\n",
              "\n",
              "    .colab-df-convert {\n",
              "      background-color: #E8F0FE;\n",
              "      border: none;\n",
              "      border-radius: 50%;\n",
              "      cursor: pointer;\n",
              "      display: none;\n",
              "      fill: #1967D2;\n",
              "      height: 32px;\n",
              "      padding: 0 0 0 0;\n",
              "      width: 32px;\n",
              "    }\n",
              "\n",
              "    .colab-df-convert:hover {\n",
              "      background-color: #E2EBFA;\n",
              "      box-shadow: 0px 1px 2px rgba(60, 64, 67, 0.3), 0px 1px 3px 1px rgba(60, 64, 67, 0.15);\n",
              "      fill: #174EA6;\n",
              "    }\n",
              "\n",
              "    [theme=dark] .colab-df-convert {\n",
              "      background-color: #3B4455;\n",
              "      fill: #D2E3FC;\n",
              "    }\n",
              "\n",
              "    [theme=dark] .colab-df-convert:hover {\n",
              "      background-color: #434B5C;\n",
              "      box-shadow: 0px 1px 3px 1px rgba(0, 0, 0, 0.15);\n",
              "      filter: drop-shadow(0px 1px 2px rgba(0, 0, 0, 0.3));\n",
              "      fill: #FFFFFF;\n",
              "    }\n",
              "  </style>\n",
              "\n",
              "      <script>\n",
              "        const buttonEl =\n",
              "          document.querySelector('#df-7f6ece0c-5ab0-46d8-8311-a8f3a5f4b0ab button.colab-df-convert');\n",
              "        buttonEl.style.display =\n",
              "          google.colab.kernel.accessAllowed ? 'block' : 'none';\n",
              "\n",
              "        async function convertToInteractive(key) {\n",
              "          const element = document.querySelector('#df-7f6ece0c-5ab0-46d8-8311-a8f3a5f4b0ab');\n",
              "          const dataTable =\n",
              "            await google.colab.kernel.invokeFunction('convertToInteractive',\n",
              "                                                     [key], {});\n",
              "          if (!dataTable) return;\n",
              "\n",
              "          const docLinkHtml = 'Like what you see? Visit the ' +\n",
              "            '<a target=\"_blank\" href=https://colab.research.google.com/notebooks/data_table.ipynb>data table notebook</a>'\n",
              "            + ' to learn more about interactive tables.';\n",
              "          element.innerHTML = '';\n",
              "          dataTable['output_type'] = 'display_data';\n",
              "          await google.colab.output.renderOutput(dataTable, element);\n",
              "          const docLink = document.createElement('div');\n",
              "          docLink.innerHTML = docLinkHtml;\n",
              "          element.appendChild(docLink);\n",
              "        }\n",
              "      </script>\n",
              "    </div>\n",
              "  </div>\n",
              "  "
            ]
          },
          "metadata": {},
          "execution_count": 79
        }
      ]
    },
    {
      "cell_type": "markdown",
      "source": [
        "### Now we can use this new, modified dataframe (```extract```) as our input to ```layers``` instead of ```'all'```\n",
        "\n",
        "You could also download the existing ```extracted_df``` as a csv using ```DataFrame.to_csv()``` or supply your own dataframe from scratch by importing a csv as a dataframe!"
      ],
      "metadata": {
        "id": "DpF1P4078Acf"
      }
    },
    {
      "cell_type": "code",
      "source": [
        "rivendell_short = StudyArea(layers = extract_v1, coords = [39.7273, -123.6433])\n",
        "\n",
        "rivendell_short.plot(kind = 'timeseries', dpi = 100);"
      ],
      "metadata": {
        "colab": {
          "base_uri": "https://localhost:8080/",
          "height": 747
        },
        "id": "H_hrxpNXIhcy",
        "outputId": "9f1af3e0-b6f4-4b13-aa83-53a4ad3193e4"
      },
      "execution_count": 83,
      "outputs": [
        {
          "output_type": "stream",
          "name": "stdout",
          "text": [
            "Extracting prism\n",
            "\tOriginal timestep of 1 day(s) was interpolated to daily.\n",
            "Extracting pml\n",
            "\tOriginal timestep of 8 day(s) was interpolated to daily.\n",
            "\tEs, Ec, Ei bands were scaled by 0.01\n",
            "Extracting modis_snow\n",
            "\tBands NDSI_Snow_Cover renamed to snow.\n",
            "\tOriginal timestep of 1 day(s) was interpolated to daily.\n",
            "Extracting modis_ET\n",
            "\tOriginal timestep of 8 day(s) was interpolated to daily.\n",
            "\tET, PET bands were scaled by 0.08\n",
            "Extracting modis_landcover\n",
            "\tBands LC_Type1 renamed to landcover.\n",
            "Extracting srtm_elevation\n",
            "\n",
            "Saving all dataframes at:\n",
            "\t/content/drive/MyDrive/39.7273_-123.6433\n",
            "\n",
            "Time to access data: 12.714 seconds\n",
            "Plotting timeseries...\n"
          ]
        },
        {
          "output_type": "display_data",
          "data": {
            "text/plain": [
              "<Figure size 600x400 with 1 Axes>"
            ],
            "image/png": "[encoded data removed]"
          },
          "metadata": {
            "needs_background": "light"
          }
        }
      ]
    },
    {
      "cell_type": "markdown",
      "source": [
        "# **Option 2**: Using the waterpyk.gee.extract"
      ],
      "metadata": {
        "id": "L7JnxzfvGUdX"
      }
    },
    {
      "cell_type": "markdown",
      "source": [
        "### We can also use the waterpyk.gee.extract() function to get timeseries for any number of assets which are specified in the exact same ```layers`` dataframe format!\n",
        "\n",
        "### Here is an example below that illustrates what happens if you use waterpyk.gee.extract() to extract data from ImageCollections (e.g. prism) AND Images (e.g. MODIS landcover) at the same time. You could also just extract one type or the other."
      ],
      "metadata": {
        "id": "1Xpz3C70I9LP"
      }
    },
    {
      "cell_type": "markdown",
      "source": [
        "First we'll get a new dataframe by changing the original rivendell.extracted_df to include just prism, landcover, and elevation."
      ],
      "metadata": {
        "id": "4tTxN2NJHCVm"
      }
    },
    {
      "cell_type": "code",
      "source": [
        "extract = rivendell.extracted_df.copy() ### the .copy() makes sure we don't change the actual extracted_df attribute ... which I should have prevented in the code ;)\n",
        "extract['end_date'][0] = '10/1/2022'\n",
        "rows_to_keep = [0, 4, 5]\n",
        "extract = extract.iloc[rows_to_keep]\n",
        "extract.reset_index(drop=True, inplace=True)\n",
        "extract"
      ],
      "metadata": {
        "colab": {
          "base_uri": "https://localhost:8080/",
          "height": 143
        },
        "id": "4XoJoge8HBN8",
        "outputId": "dcab0c9a-1b0e-4a31-d693-729464814fa3"
      },
      "execution_count": 67,
      "outputs": [
        {
          "output_type": "execute_result",
          "data": {
            "text/plain": [
              "              name                 asset_id  scale start_date   end_date  \\\n",
              "0            prism  OREGONSTATE/PRISM/AN81d    500    10/1/03  10/1/2022   \n",
              "1  modis_landcover        MODIS/006/MCD12Q1    500        NaN        NaN   \n",
              "2   srtm_elevation         USGS/SRTMGL1_003     30        NaN        NaN   \n",
              "\n",
              "  relative_date      bands new_bandnames bands_to_scale  scaling_factor units  \n",
              "0           NaN        ppt           NaN            NaN             NaN    mm  \n",
              "1   most_recent   LC_Type1     landcover            NaN             NaN   NaN  \n",
              "2         image  elevation           NaN            NaN             NaN     m  "
            ],
            "text/html": [
              "\n",
              "  <div id=\"df-e6e2d439-8f6d-4e4f-bdd9-1172d35001f5\">\n",
              "    <div class=\"colab-df-container\">\n",
              "      <div>\n",
              "<style scoped>\n",
              "    .dataframe tbody tr th:only-of-type {\n",
              "        vertical-align: middle;\n",
              "    }\n",
              "\n",
              "    .dataframe tbody tr th {\n",
              "        vertical-align: top;\n",
              "    }\n",
              "\n",
              "    .dataframe thead th {\n",
              "        text-align: right;\n",
              "    }\n",
              "</style>\n",
              "<table border=\"1\" class=\"dataframe\">\n",
              "  <thead>\n",
              "    <tr style=\"text-align: right;\">\n",
              "      <th></th>\n",
              "      <th>name</th>\n",
              "      <th>asset_id</th>\n",
              "      <th>scale</th>\n",
              "      <th>start_date</th>\n",
              "      <th>end_date</th>\n",
              "      <th>relative_date</th>\n",
              "      <th>bands</th>\n",
              "      <th>new_bandnames</th>\n",
              "      <th>bands_to_scale</th>\n",
              "      <th>scaling_factor</th>\n",
              "      <th>units</th>\n",
              "    </tr>\n",
              "  </thead>\n",
              "  <tbody>\n",
              "    <tr>\n",
              "      <th>0</th>\n",
              "      <td>prism</td>\n",
              "      <td>OREGONSTATE/PRISM/AN81d</td>\n",
              "      <td>500</td>\n",
              "      <td>10/1/03</td>\n",
              "      <td>10/1/2022</td>\n",
              "      <td>NaN</td>\n",
              "      <td>ppt</td>\n",
              "      <td>NaN</td>\n",
              "      <td>NaN</td>\n",
              "      <td>NaN</td>\n",
              "      <td>mm</td>\n",
              "    </tr>\n",
              "    <tr>\n",
              "      <th>1</th>\n",
              "      <td>modis_landcover</td>\n",
              "      <td>MODIS/006/MCD12Q1</td>\n",
              "      <td>500</td>\n",
              "      <td>NaN</td>\n",
              "      <td>NaN</td>\n",
              "      <td>most_recent</td>\n",
              "      <td>LC_Type1</td>\n",
              "      <td>landcover</td>\n",
              "      <td>NaN</td>\n",
              "      <td>NaN</td>\n",
              "      <td>NaN</td>\n",
              "    </tr>\n",
              "    <tr>\n",
              "      <th>2</th>\n",
              "      <td>srtm_elevation</td>\n",
              "      <td>USGS/SRTMGL1_003</td>\n",
              "      <td>30</td>\n",
              "      <td>NaN</td>\n",
              "      <td>NaN</td>\n",
              "      <td>image</td>\n",
              "      <td>elevation</td>\n",
              "      <td>NaN</td>\n",
              "      <td>NaN</td>\n",
              "      <td>NaN</td>\n",
              "      <td>m</td>\n",
              "    </tr>\n",
              "  </tbody>\n",
              "</table>\n",
              "</div>\n",
              "      <button class=\"colab-df-convert\" onclick=\"convertToInteractive('df-e6e2d439-8f6d-4e4f-bdd9-1172d35001f5')\"\n",
              "              title=\"Convert this dataframe to an interactive table.\"\n",
              "              style=\"display:none;\">\n",
              "        \n",
              "  <svg xmlns=\"http://www.w3.org/2000/svg\" height=\"24px\"viewBox=\"0 0 24 24\"\n",
              "       width=\"24px\">\n",
              "    <path d=\"M0 0h24v24H0V0z\" fill=\"none\"/>\n",
              "    <path d=\"M18.56 5.44l.94 2.06.94-2.06 2.06-.94-2.06-.94-.94-2.06-.94 2.06-2.06.94zm-11 1L8.5 8.5l.94-2.06 2.06-.94-2.06-.94L8.5 2.5l-.94 2.06-2.06.94zm10 10l.94 2.06.94-2.06 2.06-.94-2.06-.94-.94-2.06-.94 2.06-2.06.94z\"/><path d=\"M17.41 7.96l-1.37-1.37c-.4-.4-.92-.59-1.43-.59-.52 0-1.04.2-1.43.59L10.3 9.45l-7.72 7.72c-.78.78-.78 2.05 0 2.83L4 21.41c.39.39.9.59 1.41.59.51 0 1.02-.2 1.41-.59l7.78-7.78 2.81-2.81c.8-.78.8-2.07 0-2.86zM5.41 20L4 18.59l7.72-7.72 1.47 1.35L5.41 20z\"/>\n",
              "  </svg>\n",
              "      </button>\n",
              "      \n",
              "  <style>\n",
              "    .colab-df-container {\n",
              "      display:flex;\n",
              "      flex-wrap:wrap;\n",
              "      gap: 12px;\n",
              "    }\n",
              "\n",
              "    .colab-df-convert {\n",
              "      background-color: #E8F0FE;\n",
              "      border: none;\n",
              "      border-radius: 50%;\n",
              "      cursor: pointer;\n",
              "      display: none;\n",
              "      fill: #1967D2;\n",
              "      height: 32px;\n",
              "      padding: 0 0 0 0;\n",
              "      width: 32px;\n",
              "    }\n",
              "\n",
              "    .colab-df-convert:hover {\n",
              "      background-color: #E2EBFA;\n",
              "      box-shadow: 0px 1px 2px rgba(60, 64, 67, 0.3), 0px 1px 3px 1px rgba(60, 64, 67, 0.15);\n",
              "      fill: #174EA6;\n",
              "    }\n",
              "\n",
              "    [theme=dark] .colab-df-convert {\n",
              "      background-color: #3B4455;\n",
              "      fill: #D2E3FC;\n",
              "    }\n",
              "\n",
              "    [theme=dark] .colab-df-convert:hover {\n",
              "      background-color: #434B5C;\n",
              "      box-shadow: 0px 1px 3px 1px rgba(0, 0, 0, 0.15);\n",
              "      filter: drop-shadow(0px 1px 2px rgba(0, 0, 0, 0.3));\n",
              "      fill: #FFFFFF;\n",
              "    }\n",
              "  </style>\n",
              "\n",
              "      <script>\n",
              "        const buttonEl =\n",
              "          document.querySelector('#df-e6e2d439-8f6d-4e4f-bdd9-1172d35001f5 button.colab-df-convert');\n",
              "        buttonEl.style.display =\n",
              "          google.colab.kernel.accessAllowed ? 'block' : 'none';\n",
              "\n",
              "        async function convertToInteractive(key) {\n",
              "          const element = document.querySelector('#df-e6e2d439-8f6d-4e4f-bdd9-1172d35001f5');\n",
              "          const dataTable =\n",
              "            await google.colab.kernel.invokeFunction('convertToInteractive',\n",
              "                                                     [key], {});\n",
              "          if (!dataTable) return;\n",
              "\n",
              "          const docLinkHtml = 'Like what you see? Visit the ' +\n",
              "            '<a target=\"_blank\" href=https://colab.research.google.com/notebooks/data_table.ipynb>data table notebook</a>'\n",
              "            + ' to learn more about interactive tables.';\n",
              "          element.innerHTML = '';\n",
              "          dataTable['output_type'] = 'display_data';\n",
              "          await google.colab.output.renderOutput(dataTable, element);\n",
              "          const docLink = document.createElement('div');\n",
              "          docLink.innerHTML = docLinkHtml;\n",
              "          element.appendChild(docLink);\n",
              "        }\n",
              "      </script>\n",
              "    </div>\n",
              "  </div>\n",
              "  "
            ]
          },
          "metadata": {},
          "execution_count": 67
        }
      ]
    },
    {
      "cell_type": "markdown",
      "source": [
        "Now we'll use waterpyk.gee.extract() to get those assets from GEE. Notice that for the ```gee_feature``` argument, I used the ```rivendell.gee_feature``` attribute. There is also a waterpyk function that will generate a gee_feature from coordinates if you would rather do it all from scratch.\n",
        "\n",
        "Also notice how we are returning 2 dataframe from this function: one holds the timeseries (in this case prism) and the other holds the static values for landcover and elevation."
      ],
      "metadata": {
        "id": "ivZIQ45NHIU7"
      }
    },
    {
      "cell_type": "code",
      "source": [
        "data_timeseries, data_static = waterpyk.gee.extract(layers = extract, gee_feature = rivendell.gee_feature, kind = 'point', combine_ET_bands = False)"
      ],
      "metadata": {
        "colab": {
          "base_uri": "https://localhost:8080/"
        },
        "id": "D_4W2II3Fjv3",
        "outputId": "cef98bf0-a043-4cb9-8dfa-a2af531d9310"
      },
      "execution_count": 64,
      "outputs": [
        {
          "output_type": "stream",
          "name": "stdout",
          "text": [
            "Extracting prism\n",
            "\tOriginal timestep of 1 day(s) was interpolated to daily.\n",
            "Extracting modis_landcover\n",
            "\tBands LC_Type1 renamed to landcover.\n",
            "Extracting srtm_elevation\n"
          ]
        }
      ]
    },
    {
      "cell_type": "code",
      "source": [
        "data_timeseries"
      ],
      "metadata": {
        "colab": {
          "base_uri": "https://localhost:8080/",
          "height": 424
        },
        "id": "R4iO5pkRGBZg",
        "outputId": "2efc465f-d28f-4350-bb29-3a7bba921373"
      },
      "execution_count": 65,
      "outputs": [
        {
          "output_type": "execute_result",
          "data": {
            "text/plain": [
              "           date asset_name  value band\n",
              "0    2003-10-02      prism    0.0  ppt\n",
              "1    2003-10-03      prism    0.0  ppt\n",
              "2    2003-10-04      prism    0.0  ppt\n",
              "3    2003-10-05      prism    0.0  ppt\n",
              "4    2003-10-06      prism    0.0  ppt\n",
              "...         ...        ...    ...  ...\n",
              "6934 2022-09-26      prism    0.0  ppt\n",
              "6935 2022-09-27      prism    0.0  ppt\n",
              "6936 2022-09-28      prism    0.0  ppt\n",
              "6937 2022-09-29      prism    0.0  ppt\n",
              "6938 2022-09-30      prism    0.0  ppt\n",
              "\n",
              "[6939 rows x 4 columns]"
            ],
            "text/html": [
              "\n",
              "  <div id=\"df-9f470b1b-b882-46f4-9a68-59a7ab8a3f08\">\n",
              "    <div class=\"colab-df-container\">\n",
              "      <div>\n",
              "<style scoped>\n",
              "    .dataframe tbody tr th:only-of-type {\n",
              "        vertical-align: middle;\n",
              "    }\n",
              "\n",
              "    .dataframe tbody tr th {\n",
              "        vertical-align: top;\n",
              "    }\n",
              "\n",
              "    .dataframe thead th {\n",
              "        text-align: right;\n",
              "    }\n",
              "</style>\n",
              "<table border=\"1\" class=\"dataframe\">\n",
              "  <thead>\n",
              "    <tr style=\"text-align: right;\">\n",
              "      <th></th>\n",
              "      <th>date</th>\n",
              "      <th>asset_name</th>\n",
              "      <th>value</th>\n",
              "      <th>band</th>\n",
              "    </tr>\n",
              "  </thead>\n",
              "  <tbody>\n",
              "    <tr>\n",
              "      <th>0</th>\n",
              "      <td>2003-10-02</td>\n",
              "      <td>prism</td>\n",
              "      <td>0.0</td>\n",
              "      <td>ppt</td>\n",
              "    </tr>\n",
              "    <tr>\n",
              "      <th>1</th>\n",
              "      <td>2003-10-03</td>\n",
              "      <td>prism</td>\n",
              "      <td>0.0</td>\n",
              "      <td>ppt</td>\n",
              "    </tr>\n",
              "    <tr>\n",
              "      <th>2</th>\n",
              "      <td>2003-10-04</td>\n",
              "      <td>prism</td>\n",
              "      <td>0.0</td>\n",
              "      <td>ppt</td>\n",
              "    </tr>\n",
              "    <tr>\n",
              "      <th>3</th>\n",
              "      <td>2003-10-05</td>\n",
              "      <td>prism</td>\n",
              "      <td>0.0</td>\n",
              "      <td>ppt</td>\n",
              "    </tr>\n",
              "    <tr>\n",
              "      <th>4</th>\n",
              "      <td>2003-10-06</td>\n",
              "      <td>prism</td>\n",
              "      <td>0.0</td>\n",
              "      <td>ppt</td>\n",
              "    </tr>\n",
              "    <tr>\n",
              "      <th>...</th>\n",
              "      <td>...</td>\n",
              "      <td>...</td>\n",
              "      <td>...</td>\n",
              "      <td>...</td>\n",
              "    </tr>\n",
              "    <tr>\n",
              "      <th>6934</th>\n",
              "      <td>2022-09-26</td>\n",
              "      <td>prism</td>\n",
              "      <td>0.0</td>\n",
              "      <td>ppt</td>\n",
              "    </tr>\n",
              "    <tr>\n",
              "      <th>6935</th>\n",
              "      <td>2022-09-27</td>\n",
              "      <td>prism</td>\n",
              "      <td>0.0</td>\n",
              "      <td>ppt</td>\n",
              "    </tr>\n",
              "    <tr>\n",
              "      <th>6936</th>\n",
              "      <td>2022-09-28</td>\n",
              "      <td>prism</td>\n",
              "      <td>0.0</td>\n",
              "      <td>ppt</td>\n",
              "    </tr>\n",
              "    <tr>\n",
              "      <th>6937</th>\n",
              "      <td>2022-09-29</td>\n",
              "      <td>prism</td>\n",
              "      <td>0.0</td>\n",
              "      <td>ppt</td>\n",
              "    </tr>\n",
              "    <tr>\n",
              "      <th>6938</th>\n",
              "      <td>2022-09-30</td>\n",
              "      <td>prism</td>\n",
              "      <td>0.0</td>\n",
              "      <td>ppt</td>\n",
              "    </tr>\n",
              "  </tbody>\n",
              "</table>\n",
              "<p>6939 rows × 4 columns</p>\n",
              "</div>\n",
              "      <button class=\"colab-df-convert\" onclick=\"convertToInteractive('df-9f470b1b-b882-46f4-9a68-59a7ab8a3f08')\"\n",
              "              title=\"Convert this dataframe to an interactive table.\"\n",
              "              style=\"display:none;\">\n",
              "        \n",
              "  <svg xmlns=\"http://www.w3.org/2000/svg\" height=\"24px\"viewBox=\"0 0 24 24\"\n",
              "       width=\"24px\">\n",
              "    <path d=\"M0 0h24v24H0V0z\" fill=\"none\"/>\n",
              "    <path d=\"M18.56 5.44l.94 2.06.94-2.06 2.06-.94-2.06-.94-.94-2.06-.94 2.06-2.06.94zm-11 1L8.5 8.5l.94-2.06 2.06-.94-2.06-.94L8.5 2.5l-.94 2.06-2.06.94zm10 10l.94 2.06.94-2.06 2.06-.94-2.06-.94-.94-2.06-.94 2.06-2.06.94z\"/><path d=\"M17.41 7.96l-1.37-1.37c-.4-.4-.92-.59-1.43-.59-.52 0-1.04.2-1.43.59L10.3 9.45l-7.72 7.72c-.78.78-.78 2.05 0 2.83L4 21.41c.39.39.9.59 1.41.59.51 0 1.02-.2 1.41-.59l7.78-7.78 2.81-2.81c.8-.78.8-2.07 0-2.86zM5.41 20L4 18.59l7.72-7.72 1.47 1.35L5.41 20z\"/>\n",
              "  </svg>\n",
              "      </button>\n",
              "      \n",
              "  <style>\n",
              "    .colab-df-container {\n",
              "      display:flex;\n",
              "      flex-wrap:wrap;\n",
              "      gap: 12px;\n",
              "    }\n",
              "\n",
              "    .colab-df-convert {\n",
              "      background-color: #E8F0FE;\n",
              "      border: none;\n",
              "      border-radius: 50%;\n",
              "      cursor: pointer;\n",
              "      display: none;\n",
              "      fill: #1967D2;\n",
              "      height: 32px;\n",
              "      padding: 0 0 0 0;\n",
              "      width: 32px;\n",
              "    }\n",
              "\n",
              "    .colab-df-convert:hover {\n",
              "      background-color: #E2EBFA;\n",
              "      box-shadow: 0px 1px 2px rgba(60, 64, 67, 0.3), 0px 1px 3px 1px rgba(60, 64, 67, 0.15);\n",
              "      fill: #174EA6;\n",
              "    }\n",
              "\n",
              "    [theme=dark] .colab-df-convert {\n",
              "      background-color: #3B4455;\n",
              "      fill: #D2E3FC;\n",
              "    }\n",
              "\n",
              "    [theme=dark] .colab-df-convert:hover {\n",
              "      background-color: #434B5C;\n",
              "      box-shadow: 0px 1px 3px 1px rgba(0, 0, 0, 0.15);\n",
              "      filter: drop-shadow(0px 1px 2px rgba(0, 0, 0, 0.3));\n",
              "      fill: #FFFFFF;\n",
              "    }\n",
              "  </style>\n",
              "\n",
              "      <script>\n",
              "        const buttonEl =\n",
              "          document.querySelector('#df-9f470b1b-b882-46f4-9a68-59a7ab8a3f08 button.colab-df-convert');\n",
              "        buttonEl.style.display =\n",
              "          google.colab.kernel.accessAllowed ? 'block' : 'none';\n",
              "\n",
              "        async function convertToInteractive(key) {\n",
              "          const element = document.querySelector('#df-9f470b1b-b882-46f4-9a68-59a7ab8a3f08');\n",
              "          const dataTable =\n",
              "            await google.colab.kernel.invokeFunction('convertToInteractive',\n",
              "                                                     [key], {});\n",
              "          if (!dataTable) return;\n",
              "\n",
              "          const docLinkHtml = 'Like what you see? Visit the ' +\n",
              "            '<a target=\"_blank\" href=https://colab.research.google.com/notebooks/data_table.ipynb>data table notebook</a>'\n",
              "            + ' to learn more about interactive tables.';\n",
              "          element.innerHTML = '';\n",
              "          dataTable['output_type'] = 'display_data';\n",
              "          await google.colab.output.renderOutput(dataTable, element);\n",
              "          const docLink = document.createElement('div');\n",
              "          docLink.innerHTML = docLinkHtml;\n",
              "          element.appendChild(docLink);\n",
              "        }\n",
              "      </script>\n",
              "    </div>\n",
              "  </div>\n",
              "  "
            ]
          },
          "metadata": {},
          "execution_count": 65
        }
      ]
    },
    {
      "cell_type": "code",
      "source": [
        "data_static"
      ],
      "metadata": {
        "colab": {
          "base_uri": "https://localhost:8080/",
          "height": 112
        },
        "id": "qe_K431GGmem",
        "outputId": "99e46e47-013c-4691-e241-e10430803473"
      },
      "execution_count": 66,
      "outputs": [
        {
          "output_type": "execute_result",
          "data": {
            "text/plain": [
              "        asset_name  value                 date       band\n",
              "0  modis_landcover      1  2020-01-01 00:00:00  landcover\n",
              "1   srtm_elevation    489                 None  elevation"
            ],
            "text/html": [
              "\n",
              "  <div id=\"df-e69e136e-a933-4356-a5b6-d4961166b3ab\">\n",
              "    <div class=\"colab-df-container\">\n",
              "      <div>\n",
              "<style scoped>\n",
              "    .dataframe tbody tr th:only-of-type {\n",
              "        vertical-align: middle;\n",
              "    }\n",
              "\n",
              "    .dataframe tbody tr th {\n",
              "        vertical-align: top;\n",
              "    }\n",
              "\n",
              "    .dataframe thead th {\n",
              "        text-align: right;\n",
              "    }\n",
              "</style>\n",
              "<table border=\"1\" class=\"dataframe\">\n",
              "  <thead>\n",
              "    <tr style=\"text-align: right;\">\n",
              "      <th></th>\n",
              "      <th>asset_name</th>\n",
              "      <th>value</th>\n",
              "      <th>date</th>\n",
              "      <th>band</th>\n",
              "    </tr>\n",
              "  </thead>\n",
              "  <tbody>\n",
              "    <tr>\n",
              "      <th>0</th>\n",
              "      <td>modis_landcover</td>\n",
              "      <td>1</td>\n",
              "      <td>2020-01-01 00:00:00</td>\n",
              "      <td>landcover</td>\n",
              "    </tr>\n",
              "    <tr>\n",
              "      <th>1</th>\n",
              "      <td>srtm_elevation</td>\n",
              "      <td>489</td>\n",
              "      <td>None</td>\n",
              "      <td>elevation</td>\n",
              "    </tr>\n",
              "  </tbody>\n",
              "</table>\n",
              "</div>\n",
              "      <button class=\"colab-df-convert\" onclick=\"convertToInteractive('df-e69e136e-a933-4356-a5b6-d4961166b3ab')\"\n",
              "              title=\"Convert this dataframe to an interactive table.\"\n",
              "              style=\"display:none;\">\n",
              "        \n",
              "  <svg xmlns=\"http://www.w3.org/2000/svg\" height=\"24px\"viewBox=\"0 0 24 24\"\n",
              "       width=\"24px\">\n",
              "    <path d=\"M0 0h24v24H0V0z\" fill=\"none\"/>\n",
              "    <path d=\"M18.56 5.44l.94 2.06.94-2.06 2.06-.94-2.06-.94-.94-2.06-.94 2.06-2.06.94zm-11 1L8.5 8.5l.94-2.06 2.06-.94-2.06-.94L8.5 2.5l-.94 2.06-2.06.94zm10 10l.94 2.06.94-2.06 2.06-.94-2.06-.94-.94-2.06-.94 2.06-2.06.94z\"/><path d=\"M17.41 7.96l-1.37-1.37c-.4-.4-.92-.59-1.43-.59-.52 0-1.04.2-1.43.59L10.3 9.45l-7.72 7.72c-.78.78-.78 2.05 0 2.83L4 21.41c.39.39.9.59 1.41.59.51 0 1.02-.2 1.41-.59l7.78-7.78 2.81-2.81c.8-.78.8-2.07 0-2.86zM5.41 20L4 18.59l7.72-7.72 1.47 1.35L5.41 20z\"/>\n",
              "  </svg>\n",
              "      </button>\n",
              "      \n",
              "  <style>\n",
              "    .colab-df-container {\n",
              "      display:flex;\n",
              "      flex-wrap:wrap;\n",
              "      gap: 12px;\n",
              "    }\n",
              "\n",
              "    .colab-df-convert {\n",
              "      background-color: #E8F0FE;\n",
              "      border: none;\n",
              "      border-radius: 50%;\n",
              "      cursor: pointer;\n",
              "      display: none;\n",
              "      fill: #1967D2;\n",
              "      height: 32px;\n",
              "      padding: 0 0 0 0;\n",
              "      width: 32px;\n",
              "    }\n",
              "\n",
              "    .colab-df-convert:hover {\n",
              "      background-color: #E2EBFA;\n",
              "      box-shadow: 0px 1px 2px rgba(60, 64, 67, 0.3), 0px 1px 3px 1px rgba(60, 64, 67, 0.15);\n",
              "      fill: #174EA6;\n",
              "    }\n",
              "\n",
              "    [theme=dark] .colab-df-convert {\n",
              "      background-color: #3B4455;\n",
              "      fill: #D2E3FC;\n",
              "    }\n",
              "\n",
              "    [theme=dark] .colab-df-convert:hover {\n",
              "      background-color: #434B5C;\n",
              "      box-shadow: 0px 1px 3px 1px rgba(0, 0, 0, 0.15);\n",
              "      filter: drop-shadow(0px 1px 2px rgba(0, 0, 0, 0.3));\n",
              "      fill: #FFFFFF;\n",
              "    }\n",
              "  </style>\n",
              "\n",
              "      <script>\n",
              "        const buttonEl =\n",
              "          document.querySelector('#df-e69e136e-a933-4356-a5b6-d4961166b3ab button.colab-df-convert');\n",
              "        buttonEl.style.display =\n",
              "          google.colab.kernel.accessAllowed ? 'block' : 'none';\n",
              "\n",
              "        async function convertToInteractive(key) {\n",
              "          const element = document.querySelector('#df-e69e136e-a933-4356-a5b6-d4961166b3ab');\n",
              "          const dataTable =\n",
              "            await google.colab.kernel.invokeFunction('convertToInteractive',\n",
              "                                                     [key], {});\n",
              "          if (!dataTable) return;\n",
              "\n",
              "          const docLinkHtml = 'Like what you see? Visit the ' +\n",
              "            '<a target=\"_blank\" href=https://colab.research.google.com/notebooks/data_table.ipynb>data table notebook</a>'\n",
              "            + ' to learn more about interactive tables.';\n",
              "          element.innerHTML = '';\n",
              "          dataTable['output_type'] = 'display_data';\n",
              "          await google.colab.output.renderOutput(dataTable, element);\n",
              "          const docLink = document.createElement('div');\n",
              "          docLink.innerHTML = docLinkHtml;\n",
              "          element.appendChild(docLink);\n",
              "        }\n",
              "      </script>\n",
              "    </div>\n",
              "  </div>\n",
              "  "
            ]
          },
          "metadata": {},
          "execution_count": 66
        }
      ]
    }
  ]
}