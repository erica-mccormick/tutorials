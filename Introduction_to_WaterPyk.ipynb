{
  "cells": [
    {
      "cell_type": "markdown",
      "metadata": {
        "id": "view-in-github",
        "colab_type": "text"
      },
      "source": [
        "<a href=\"https://colab.research.google.com/github/erica-mccormick/tutorials/blob/main/Introduction_to_WaterPyk.ipynb\" target=\"_parent\"><img src=\"https://colab.research.google.com/assets/colab-badge.svg\" alt=\"Open In Colab\"/></a>"
      ]
    },
    {
      "cell_type": "markdown",
      "source": [
        "# **Basic tutorial for waterpyk**"
      ],
      "metadata": {
        "id": "oJtvv-I48176"
      }
    },
    {
      "cell_type": "markdown",
      "source": [
        "waterpyk is a Python module for extracting and manipulating timeseries data by leveraging the Google Earth Engine (GEE) and USGS APIs. \n",
        "\n",
        "All functionality is described *in detail* in the docs: https://waterpyk.readthedocs.io/en/latest/\n",
        "\n",
        "Last updated by Erica McCormick | May 31, 2022"
      ],
      "metadata": {
        "id": "3CBd0L8EWf-4"
      }
    },
    {
      "cell_type": "markdown",
      "source": [
        "### Installation"
      ],
      "metadata": {
        "id": "Bgwy5DVBCb9r"
      }
    },
    {
      "cell_type": "markdown",
      "source": [
        "waterpyk requires geopandas and ee, so first install those if you are using colab.\n",
        "\n",
        "If you are not using colab, see [here](https://developers.google.com/earth-engine/guides/python_install) to save GEE authentication information in your environment."
      ],
      "metadata": {
        "id": "eJkskNXQCdR0"
      }
    },
    {
      "cell_type": "code",
      "execution_count": null,
      "metadata": {
        "id": "17SQRYG1xGxz"
      },
      "outputs": [],
      "source": [
        "pip install geopandas -q"
      ]
    },
    {
      "cell_type": "code",
      "execution_count": null,
      "metadata": {
        "id": "JxzXerTtw9yB"
      },
      "outputs": [],
      "source": [
        "import ee\n",
        "import pandas as pd\n",
        "import numpy as np\n",
        "import matplotlib.pyplot as plt\n",
        "import seaborn as sns\n",
        "ee.Authenticate()\n",
        "ee.Initialize()"
      ]
    },
    {
      "cell_type": "code",
      "execution_count": null,
      "metadata": {
        "id": "nnnV_QA52DOj"
      },
      "outputs": [],
      "source": [
        "from google.colab import drive\n",
        "drive.mount('/content/drive', force_remount = True)"
      ]
    },
    {
      "cell_type": "markdown",
      "metadata": {
        "id": "Xt1Kev7OzVO3"
      },
      "source": [
        "### Import waterpyk package from PyPi"
      ]
    },
    {
      "cell_type": "code",
      "source": [
        "!pip install -i https://test.pypi.org/simple/ waterpyk==1.1.7"
      ],
      "metadata": {
        "id": "Hp0yUk1cPOIv"
      },
      "execution_count": null,
      "outputs": []
    },
    {
      "cell_type": "markdown",
      "source": [
        "#**Part 1: USING THE STUDYAREA CLASS**"
      ],
      "metadata": {
        "id": "E691TdFlZm6l"
      }
    },
    {
      "cell_type": "markdown",
      "source": [
        "### This is the primary way of interacting with waterpyk if you just want all of the 'normal' data for a site or watershed. First, lets import the StudyArea class from the main module of waterpyk:"
      ],
      "metadata": {
        "id": "aYcvKfMlZqqI"
      }
    },
    {
      "cell_type": "code",
      "source": [
        "from waterpyk.main import StudyArea"
      ],
      "metadata": {
        "id": "Mw3h1h7PPUd1"
      },
      "execution_count": null,
      "outputs": []
    },
    {
      "cell_type": "markdown",
      "source": [
        "### Supply a lat/long or USGS watershed ID and specify that you want 'all' of the default data to be extracted. Now you're done!\n",
        "\n",
        "### Let's test it on a site called Rivendell. We can see some information about what we've extracted by using the `describe()` function."
      ],
      "metadata": {
        "id": "TuYiQm86Z4EB"
      }
    },
    {
      "cell_type": "code",
      "source": [
        "rivendell = StudyArea(layers = 'all', coords = [39.7273, -123.6433])"
      ],
      "metadata": {
        "id": "Kkffe9HA09QY"
      },
      "execution_count": null,
      "outputs": []
    },
    {
      "cell_type": "markdown",
      "source": [
        "### Now the rivendell object contains attributes with all of the extracted data, stored in dataframes, such as:\n",
        "* **daily_df_wide**: daily timeseries (including the deficit and columns for cumulative wateryear values)\n",
        "* **wateryear_totals**: wateryear summed timeseries\n",
        "* **stats**: statistics such as smax, landcover type, and elevation"
      ],
      "metadata": {
        "id": "3C0Oz0wqh3wa"
      }
    },
    {
      "cell_type": "code",
      "source": [
        "rivendell.daily_df_wide.head()"
      ],
      "metadata": {
        "id": "omPOhqEZiSDX"
      },
      "execution_count": null,
      "outputs": []
    },
    {
      "cell_type": "code",
      "source": [
        "rivendell.wateryear_totals.head()"
      ],
      "metadata": {
        "id": "oNy6SdEyikSJ"
      },
      "execution_count": null,
      "outputs": []
    },
    {
      "cell_type": "code",
      "source": [
        "rivendell.smax"
      ],
      "metadata": {
        "id": "9zXgUT_oinZp"
      },
      "execution_count": null,
      "outputs": []
    },
    {
      "cell_type": "code",
      "source": [
        "rivendell.stats"
      ],
      "metadata": {
        "id": "AWIM7jZmiocb"
      },
      "execution_count": null,
      "outputs": []
    },
    {
      "cell_type": "markdown",
      "source": [
        "### We can also make plots without doing any extra work.\n",
        "### We'll change the dpi here to make it easier to see. The default is 300.\n",
        "### Try out all of the kinds on your own:\n",
        "* **kind = 'timeseries'**\n",
        "* **kind = 'spearman'**: correlation between P and summer ET\n",
        "* **kind = 'RWS'**: timeseries\n",
        "* **kind = 'wateryear'**: timeseries of total P, ET, Q, etc.\n",
        "* **kind = 'distribution'**: distribution of P relative to Smax"
      ],
      "metadata": {
        "id": "W8_B0jociwkc"
      }
    },
    {
      "cell_type": "code",
      "source": [
        "rivendell.plot(kind = 'timeseries', dpi = 100);"
      ],
      "metadata": {
        "id": "l7wIhhgJjTB8"
      },
      "execution_count": null,
      "outputs": []
    },
    {
      "cell_type": "code",
      "source": [
        "rivendell.plot(kind = 'spearman', dpi = 100);"
      ],
      "metadata": {
        "id": "MBt6RqE8jdv2"
      },
      "execution_count": null,
      "outputs": []
    },
    {
      "cell_type": "markdown",
      "metadata": {
        "id": "OmPBatXzzpw5"
      },
      "source": [
        "#**PART 2: MORE FUNCTIONALITY**"
      ]
    },
    {
      "cell_type": "markdown",
      "source": [
        "### Part 1 is all you need to use waterpyk. However, all of the functionality of StudyArea is also available independently.\n",
        "\n",
        "###**NOTE: ALL OF THE CODE BELOW (AND MORE) ALREADY HAPPENS WHEN YOU USE STUDYAREA!!!**\n",
        "\n",
        "### **READ THE DOCS FOR MORE INFO:** https://waterpyk.readthedocs.io/en/latest/\n",
        "\n",
        "### There are also may optional arguments you can pass to change the above behavior of extractions and plotting. These are described in the docs. **This code is not exhaustive - there is much more you can do!**"
      ],
      "metadata": {
        "id": "6VwPbYEUkaK5"
      }
    },
    {
      "cell_type": "markdown",
      "source": [
        "###**watershed module**"
      ],
      "metadata": {
        "id": "Et6tHh92leNd"
      }
    },
    {
      "cell_type": "code",
      "source": [
        "from waterpyk import watershed\n",
        "\n",
        "gauge_id = 11475560\n",
        "\n",
        "# Extract gee and geopandas geometry\n",
        "gee_geometry, geopandas_geometry = watershed.extract_geometry(gauge_id)\n",
        "\n",
        "# Extract streamflow dataframe\n",
        "streamflow = watershed.extract_streamflow(gauge_id)\n",
        "\n",
        "# Extract metadata\n",
        "metadata = watershed.extract_metadata(gauge_id)\n",
        "\n",
        "\n",
        "### Lets see it:\n",
        "print('Streamflow df:\\n', streamflow.head(), '\\n')\n",
        "print('Metadata:\\n', metadata)"
      ],
      "metadata": {
        "colab": {
          "base_uri": "https://localhost:8080/"
        },
        "id": "SHMFX_Lok8ln",
        "outputId": "e78bcb78-8603-467d-b634-96adde193612"
      },
      "execution_count": null,
      "outputs": [
        {
          "output_type": "stream",
          "name": "stdout",
          "text": [
            "\n",
            "Streamflow data is being retrieved from: https://labs.waterdata.usgs.gov/api/nldi/linked-data/nwissite/USGS-11475560/navigation/UM/flowlines?f=json&distance=1000 \n",
            "\n",
            "Streamflow df:\n",
            "    Q_cfs       date      Q_m3day       Q_m      Q_mm\n",
            "0   0.66 1980-10-04  1614.953271  0.000096  0.096327\n",
            "1   0.66 1980-10-05  1614.953271  0.000096  0.096327\n",
            "2   0.66 1980-10-06  1614.953271  0.000096  0.096327\n",
            "3   0.66 1980-10-07  1614.953271  0.000096  0.096327\n",
            "4   0.66 1980-10-08  1614.953271  0.000096  0.096327 \n",
            "\n",
            "Metadata:\n",
            " (['Elder C Nr Branscomb Ca'], 'USGS Basin (11475560) imported at Elder C Nr Branscomb CaCRS: epsg:4326')\n"
          ]
        }
      ]
    },
    {
      "cell_type": "markdown",
      "source": [
        "###**gee module**"
      ],
      "metadata": {
        "id": "bITSqnAalgPw"
      }
    },
    {
      "cell_type": "code",
      "source": [
        "from waterpyk import gee\n",
        "\n",
        "gee_feature = gee_geometry # from watershed method, above\n",
        "kind = 'watershed'\n",
        "\n",
        "# Given the information on a single asset, extract that with extract_basic()\n",
        "# If the asset is an image, specify relative_date = 'image'\n",
        "# If the asset should be extracted for a single time period, specify relative_date = 'first' or 'most_recent'\n",
        "# Otherwise, give start_date and end_date to get a timeseries.\n",
        "\n",
        "### Example: PML\n",
        "asset_id = 'projects/pml_evapotranspiration/PML/OUTPUT/PML_V2_8day_v016'\n",
        "start_date = '2003-10-01'\n",
        "end_date = '2004-10-01'\n",
        "scale = 500\n",
        "relative_date = None\n",
        "bands = ['Es', 'Ec','Ei']\n",
        "bands_to_scale = None\n",
        "scaling_factor = 1\n",
        "reducer_type = None\n",
        "\n",
        "print('NOTICE HOW THIS iS NOT CLEANED OR FORMATTED? USE STUDYAREA TO GET BETTER DATA, FASTER\\n')\n",
        "pml = df = gee.extract_basic(gee_feature, kind, asset_id, scale, bands, start_date, end_date, relative_date, bands_to_scale, scaling_factor, reducer_type)\n",
        "pml.head()\n"
      ],
      "metadata": {
        "colab": {
          "base_uri": "https://localhost:8080/",
          "height": 260
        },
        "id": "mEZlssBtlhPm",
        "outputId": "cff66e16-49a8-4e72-c042-71152612e326"
      },
      "execution_count": null,
      "outputs": [
        {
          "output_type": "stream",
          "name": "stdout",
          "text": [
            "NOTICE HOW THIS iS NOT CLEANED OR FORMATTED? USE STUDYAREA TO GET BETTER DATA, FASTER\n",
            "\n",
            "\tOriginal timestep of 8 day(s) was interpolated to daily.\n"
          ]
        },
        {
          "output_type": "execute_result",
          "data": {
            "text/plain": [
              "        variable       value       date band   value_raw\n",
              "0  2003-10-08_Ec  163.873696 2003-10-08   Ec  163.873696\n",
              "1            NaN  160.859257 2003-10-09   Ec         NaN\n",
              "2            NaN  157.844818 2003-10-10   Ec         NaN\n",
              "3            NaN  154.830380 2003-10-11   Ec         NaN\n",
              "4            NaN  151.815941 2003-10-12   Ec         NaN"
            ],
            "text/html": [
              "\n",
              "  <div id=\"df-8b2a11dd-14a0-42c9-8b4e-d03486c7f175\">\n",
              "    <div class=\"colab-df-container\">\n",
              "      <div>\n",
              "<style scoped>\n",
              "    .dataframe tbody tr th:only-of-type {\n",
              "        vertical-align: middle;\n",
              "    }\n",
              "\n",
              "    .dataframe tbody tr th {\n",
              "        vertical-align: top;\n",
              "    }\n",
              "\n",
              "    .dataframe thead th {\n",
              "        text-align: right;\n",
              "    }\n",
              "</style>\n",
              "<table border=\"1\" class=\"dataframe\">\n",
              "  <thead>\n",
              "    <tr style=\"text-align: right;\">\n",
              "      <th></th>\n",
              "      <th>variable</th>\n",
              "      <th>value</th>\n",
              "      <th>date</th>\n",
              "      <th>band</th>\n",
              "      <th>value_raw</th>\n",
              "    </tr>\n",
              "  </thead>\n",
              "  <tbody>\n",
              "    <tr>\n",
              "      <th>0</th>\n",
              "      <td>2003-10-08_Ec</td>\n",
              "      <td>163.873696</td>\n",
              "      <td>2003-10-08</td>\n",
              "      <td>Ec</td>\n",
              "      <td>163.873696</td>\n",
              "    </tr>\n",
              "    <tr>\n",
              "      <th>1</th>\n",
              "      <td>NaN</td>\n",
              "      <td>160.859257</td>\n",
              "      <td>2003-10-09</td>\n",
              "      <td>Ec</td>\n",
              "      <td>NaN</td>\n",
              "    </tr>\n",
              "    <tr>\n",
              "      <th>2</th>\n",
              "      <td>NaN</td>\n",
              "      <td>157.844818</td>\n",
              "      <td>2003-10-10</td>\n",
              "      <td>Ec</td>\n",
              "      <td>NaN</td>\n",
              "    </tr>\n",
              "    <tr>\n",
              "      <th>3</th>\n",
              "      <td>NaN</td>\n",
              "      <td>154.830380</td>\n",
              "      <td>2003-10-11</td>\n",
              "      <td>Ec</td>\n",
              "      <td>NaN</td>\n",
              "    </tr>\n",
              "    <tr>\n",
              "      <th>4</th>\n",
              "      <td>NaN</td>\n",
              "      <td>151.815941</td>\n",
              "      <td>2003-10-12</td>\n",
              "      <td>Ec</td>\n",
              "      <td>NaN</td>\n",
              "    </tr>\n",
              "  </tbody>\n",
              "</table>\n",
              "</div>\n",
              "      <button class=\"colab-df-convert\" onclick=\"convertToInteractive('df-8b2a11dd-14a0-42c9-8b4e-d03486c7f175')\"\n",
              "              title=\"Convert this dataframe to an interactive table.\"\n",
              "              style=\"display:none;\">\n",
              "        \n",
              "  <svg xmlns=\"http://www.w3.org/2000/svg\" height=\"24px\"viewBox=\"0 0 24 24\"\n",
              "       width=\"24px\">\n",
              "    <path d=\"M0 0h24v24H0V0z\" fill=\"none\"/>\n",
              "    <path d=\"M18.56 5.44l.94 2.06.94-2.06 2.06-.94-2.06-.94-.94-2.06-.94 2.06-2.06.94zm-11 1L8.5 8.5l.94-2.06 2.06-.94-2.06-.94L8.5 2.5l-.94 2.06-2.06.94zm10 10l.94 2.06.94-2.06 2.06-.94-2.06-.94-.94-2.06-.94 2.06-2.06.94z\"/><path d=\"M17.41 7.96l-1.37-1.37c-.4-.4-.92-.59-1.43-.59-.52 0-1.04.2-1.43.59L10.3 9.45l-7.72 7.72c-.78.78-.78 2.05 0 2.83L4 21.41c.39.39.9.59 1.41.59.51 0 1.02-.2 1.41-.59l7.78-7.78 2.81-2.81c.8-.78.8-2.07 0-2.86zM5.41 20L4 18.59l7.72-7.72 1.47 1.35L5.41 20z\"/>\n",
              "  </svg>\n",
              "      </button>\n",
              "      \n",
              "  <style>\n",
              "    .colab-df-container {\n",
              "      display:flex;\n",
              "      flex-wrap:wrap;\n",
              "      gap: 12px;\n",
              "    }\n",
              "\n",
              "    .colab-df-convert {\n",
              "      background-color: #E8F0FE;\n",
              "      border: none;\n",
              "      border-radius: 50%;\n",
              "      cursor: pointer;\n",
              "      display: none;\n",
              "      fill: #1967D2;\n",
              "      height: 32px;\n",
              "      padding: 0 0 0 0;\n",
              "      width: 32px;\n",
              "    }\n",
              "\n",
              "    .colab-df-convert:hover {\n",
              "      background-color: #E2EBFA;\n",
              "      box-shadow: 0px 1px 2px rgba(60, 64, 67, 0.3), 0px 1px 3px 1px rgba(60, 64, 67, 0.15);\n",
              "      fill: #174EA6;\n",
              "    }\n",
              "\n",
              "    [theme=dark] .colab-df-convert {\n",
              "      background-color: #3B4455;\n",
              "      fill: #D2E3FC;\n",
              "    }\n",
              "\n",
              "    [theme=dark] .colab-df-convert:hover {\n",
              "      background-color: #434B5C;\n",
              "      box-shadow: 0px 1px 3px 1px rgba(0, 0, 0, 0.15);\n",
              "      filter: drop-shadow(0px 1px 2px rgba(0, 0, 0, 0.3));\n",
              "      fill: #FFFFFF;\n",
              "    }\n",
              "  </style>\n",
              "\n",
              "      <script>\n",
              "        const buttonEl =\n",
              "          document.querySelector('#df-8b2a11dd-14a0-42c9-8b4e-d03486c7f175 button.colab-df-convert');\n",
              "        buttonEl.style.display =\n",
              "          google.colab.kernel.accessAllowed ? 'block' : 'none';\n",
              "\n",
              "        async function convertToInteractive(key) {\n",
              "          const element = document.querySelector('#df-8b2a11dd-14a0-42c9-8b4e-d03486c7f175');\n",
              "          const dataTable =\n",
              "            await google.colab.kernel.invokeFunction('convertToInteractive',\n",
              "                                                     [key], {});\n",
              "          if (!dataTable) return;\n",
              "\n",
              "          const docLinkHtml = 'Like what you see? Visit the ' +\n",
              "            '<a target=\"_blank\" href=https://colab.research.google.com/notebooks/data_table.ipynb>data table notebook</a>'\n",
              "            + ' to learn more about interactive tables.';\n",
              "          element.innerHTML = '';\n",
              "          dataTable['output_type'] = 'display_data';\n",
              "          await google.colab.output.renderOutput(dataTable, element);\n",
              "          const docLink = document.createElement('div');\n",
              "          docLink.innerHTML = docLinkHtml;\n",
              "          element.appendChild(docLink);\n",
              "        }\n",
              "      </script>\n",
              "    </div>\n",
              "  </div>\n",
              "  "
            ]
          },
          "metadata": {},
          "execution_count": 30
        }
      ]
    },
    {
      "cell_type": "code",
      "source": [
        ""
      ],
      "metadata": {
        "id": "4n7TG5QZnn94"
      },
      "execution_count": null,
      "outputs": []
    }
  ],
  "metadata": {
    "colab": {
      "collapsed_sections": [],
      "name": "Introduction_to_WaterPyk.ipynb",
      "provenance": [],
      "include_colab_link": true
    },
    "kernelspec": {
      "display_name": "Python 3",
      "name": "python3"
    },
    "language_info": {
      "name": "python"
    }
  },
  "nbformat": 4,
  "nbformat_minor": 0
}