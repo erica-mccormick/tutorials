{
  "nbformat": 4,
  "nbformat_minor": 0,
  "metadata": {
    "colab": {
      "name": "Intro_to_Watersheds.ipynb",
      "provenance": [],
      "collapsed_sections": [],
      "include_colab_link": true
    },
    "kernelspec": {
      "name": "python3",
      "display_name": "Python 3"
    },
    "language_info": {
      "name": "python"
    }
  },
  "cells": [
    {
      "cell_type": "markdown",
      "metadata": {
        "id": "view-in-github",
        "colab_type": "text"
      },
      "source": [
        "<a href=\"https://colab.research.google.com/github/erica-mccormick/tutorials/blob/main/Intro_to_Watersheds.ipynb\" target=\"_parent\"><img src=\"https://colab.research.google.com/assets/colab-badge.svg\" alt=\"Open In Colab\"/></a>"
      ]
    },
    {
      "cell_type": "markdown",
      "metadata": {
        "id": "Caa4VS25CXZP"
      },
      "source": [
        "Erica McCormick | October 2021"
      ]
    },
    {
      "cell_type": "markdown",
      "metadata": {
        "id": "q5-KEsAD0rqv"
      },
      "source": [
        "#**Accessing and Plotting Data for USGS Watersheds via Google Earth Engine**"
      ]
    },
    {
      "cell_type": "markdown",
      "metadata": {
        "id": "n6pWg83PX79K"
      },
      "source": [
        "#**Other Related Colabs:**"
      ]
    },
    {
      "cell_type": "markdown",
      "metadata": {
        "id": "F7Wvkm4qC9Xi"
      },
      "source": [
        "*These scripts are not necessarily finished or fully functioning.*"
      ]
    },
    {
      "cell_type": "markdown",
      "metadata": {
        "id": "vsS8G747vx3o"
      },
      "source": [
        "**(THIS COLAB IS A USEFUL TUTORIAL)** Skillshare colab with basics and an intro to GEE: https://colab.research.google.com/drive/1HAsF3i5zwDwb8DH8PZnRoacDdUuP5rwB#scrollTo=00geuX0HrNL3"
      ]
    },
    {
      "cell_type": "markdown",
      "metadata": {
        "id": "RFDdB5EFzuWG"
      },
      "source": [
        "**Extract timeseries**:"
      ]
    },
    {
      "cell_type": "markdown",
      "metadata": {
        "id": "Mo9n5M000KV1"
      },
      "source": [
        "for a single watershed id: https://colab.research.google.com/drive/12Rffbu6fTrhM3y9Zbaa1WUrR66xzkbMj?authuser=1"
      ]
    },
    {
      "cell_type": "markdown",
      "metadata": {
        "id": "GylioX52z8qI"
      },
      "source": [
        "Annual sum timeseries for a list of watersheds IDs (check these before use): https://colab.research.google.com/drive/1rLZRaDdHHj5szS8ogHtEkjDd5nON9lrx?authuser=1"
      ]
    },
    {
      "cell_type": "markdown",
      "metadata": {
        "id": "xOhsmzJgCsP6"
      },
      "source": [
        "#**Imports & Set-up**"
      ]
    },
    {
      "cell_type": "markdown",
      "metadata": {
        "id": "b3SYnoFhCygi"
      },
      "source": [
        "## Imports and initializing GEE and GoogleDrive integration"
      ]
    },
    {
      "cell_type": "markdown",
      "metadata": {
        "id": "F_RthtOvoSKJ"
      },
      "source": [
        "In this code, we will use several packages which are not automatically available. We will therefore need to install them before importing."
      ]
    },
    {
      "cell_type": "code",
      "metadata": {
        "id": "8-HyWQvEwKuX",
        "colab": {
          "base_uri": "https://localhost:8080/",
          "height": 1000
        },
        "outputId": "6ff4812d-ac8a-4ab1-ec33-caa7ce3b2c81"
      },
      "source": [
        "pip install geemap"
      ],
      "execution_count": null,
      "outputs": [
        {
          "output_type": "stream",
          "name": "stdout",
          "text": [
            "Collecting geemap\n",
            "  Downloading geemap-0.10.1-py2.py3-none-any.whl (1.9 MB)\n",
            "\u001b[K     |████████████████████████████████| 1.9 MB 5.1 MB/s \n",
            "\u001b[?25hCollecting jupyterlab>=3\n",
            "  Downloading jupyterlab-3.2.4-py3-none-any.whl (8.6 MB)\n",
            "\u001b[K     |████████████████████████████████| 8.6 MB 45.0 MB/s \n",
            "\u001b[?25hCollecting bqplot\n",
            "  Downloading bqplot-0.12.31-py2.py3-none-any.whl (1.2 MB)\n",
            "\u001b[K     |████████████████████████████████| 1.2 MB 49.1 MB/s \n",
            "\u001b[?25hCollecting ipyfilechooser>=0.6.0\n",
            "  Downloading ipyfilechooser-0.6.0-py3-none-any.whl (11 kB)\n",
            "Collecting ipytree\n",
            "  Downloading ipytree-0.2.1-py2.py3-none-any.whl (1.3 MB)\n",
            "\u001b[K     |████████████████████████████████| 1.3 MB 59.4 MB/s \n",
            "\u001b[?25hRequirement already satisfied: palettable in /usr/local/lib/python3.7/dist-packages (from geemap) (3.3.0)\n",
            "Collecting ipyevents\n",
            "  Downloading ipyevents-2.0.1-py2.py3-none-any.whl (130 kB)\n",
            "\u001b[K     |████████████████████████████████| 130 kB 44.6 MB/s \n",
            "\u001b[?25hCollecting ffmpeg-python\n",
            "  Downloading ffmpeg_python-0.2.0-py3-none-any.whl (25 kB)\n",
            "Collecting colour\n",
            "  Downloading colour-0.1.5-py2.py3-none-any.whl (23 kB)\n",
            "Collecting xyzservices\n",
            "  Downloading xyzservices-2021.11.0-py3-none-any.whl (34 kB)\n",
            "Collecting ipynb-py-convert\n",
            "  Downloading ipynb-py-convert-0.4.6.tar.gz (3.9 kB)\n",
            "Requirement already satisfied: googledrivedownloader in /usr/local/lib/python3.7/dist-packages (from geemap) (0.4)\n",
            "Collecting owslib\n",
            "  Downloading OWSLib-0.25.0-py2.py3-none-any.whl (216 kB)\n",
            "\u001b[K     |████████████████████████████████| 216 kB 36.1 MB/s \n",
            "\u001b[?25hCollecting geocoder\n",
            "  Downloading geocoder-1.38.1-py2.py3-none-any.whl (98 kB)\n",
            "\u001b[K     |████████████████████████████████| 98 kB 4.9 MB/s \n",
            "\u001b[?25hCollecting pyshp>=2.1.3\n",
            "  Downloading pyshp-2.1.3.tar.gz (219 kB)\n",
            "\u001b[K     |████████████████████████████████| 219 kB 42.6 MB/s \n",
            "\u001b[?25hCollecting geeadd>=0.5.1\n",
            "  Downloading geeadd-0.5.5-py3-none-any.whl (30 kB)\n",
            "Collecting geojson\n",
            "  Downloading geojson-2.5.0-py2.py3-none-any.whl (14 kB)\n",
            "Requirement already satisfied: earthengine-api>=0.1.230 in /usr/local/lib/python3.7/dist-packages (from geemap) (0.1.290)\n",
            "Collecting ipyleaflet<=0.14.0\n",
            "  Downloading ipyleaflet-0.14.0-py2.py3-none-any.whl (3.3 MB)\n",
            "\u001b[K     |████████████████████████████████| 3.3 MB 52.0 MB/s \n",
            "\u001b[?25hRequirement already satisfied: pandas in /usr/local/lib/python3.7/dist-packages (from geemap) (1.1.5)\n",
            "Collecting mss\n",
            "  Downloading mss-6.1.0-py3-none-any.whl (76 kB)\n",
            "\u001b[K     |████████████████████████████████| 76 kB 6.2 MB/s \n",
            "\u001b[?25hCollecting folium>=0.11.0\n",
            "  Downloading folium-0.12.1.post1-py2.py3-none-any.whl (95 kB)\n",
            "\u001b[K     |████████████████████████████████| 95 kB 4.5 MB/s \n",
            "\u001b[?25hCollecting pycrs\n",
            "  Downloading PyCRS-1.0.2.tar.gz (36 kB)\n",
            "Collecting whiteboxgui>=0.6.0\n",
            "  Downloading whiteboxgui-0.6.0-py2.py3-none-any.whl (93 kB)\n",
            "\u001b[K     |████████████████████████████████| 93 kB 1.5 MB/s \n",
            "\u001b[?25hRequirement already satisfied: pillow in /usr/local/lib/python3.7/dist-packages (from geemap) (7.1.2)\n",
            "Collecting voila\n",
            "  Downloading voila-0.2.16-py3-none-any.whl (1.6 MB)\n",
            "\u001b[K     |████████████████████████████████| 1.6 MB 52.8 MB/s \n",
            "\u001b[?25hRequirement already satisfied: matplotlib in /usr/local/lib/python3.7/dist-packages (from geemap) (3.2.2)\n",
            "Collecting python-box\n",
            "  Downloading python_box-5.4.1-py3-none-any.whl (21 kB)\n",
            "Requirement already satisfied: click in /usr/local/lib/python3.7/dist-packages (from geemap) (7.1.2)\n",
            "Collecting sankee\n",
            "  Downloading sankee-0.0.7.tar.gz (29 kB)\n",
            "Requirement already satisfied: numpy in /usr/local/lib/python3.7/dist-packages (from geemap) (1.19.5)\n",
            "Requirement already satisfied: google-cloud-storage in /usr/local/lib/python3.7/dist-packages (from earthengine-api>=0.1.230->geemap) (1.18.1)\n",
            "Requirement already satisfied: google-auth>=1.4.1 in /usr/local/lib/python3.7/dist-packages (from earthengine-api>=0.1.230->geemap) (1.35.0)\n",
            "Requirement already satisfied: google-auth-httplib2>=0.0.3 in /usr/local/lib/python3.7/dist-packages (from earthengine-api>=0.1.230->geemap) (0.0.4)\n",
            "Requirement already satisfied: future in /usr/local/lib/python3.7/dist-packages (from earthengine-api>=0.1.230->geemap) (0.16.0)\n",
            "Requirement already satisfied: httplib2shim in /usr/local/lib/python3.7/dist-packages (from earthengine-api>=0.1.230->geemap) (0.0.3)\n",
            "Requirement already satisfied: six in /usr/local/lib/python3.7/dist-packages (from earthengine-api>=0.1.230->geemap) (1.15.0)\n",
            "Requirement already satisfied: google-api-python-client<2,>=1.12.1 in /usr/local/lib/python3.7/dist-packages (from earthengine-api>=0.1.230->geemap) (1.12.8)\n",
            "Requirement already satisfied: httplib2<1dev,>=0.9.2 in /usr/local/lib/python3.7/dist-packages (from earthengine-api>=0.1.230->geemap) (0.17.4)\n",
            "Requirement already satisfied: requests in /usr/local/lib/python3.7/dist-packages (from folium>=0.11.0->geemap) (2.23.0)\n",
            "Requirement already satisfied: jinja2>=2.9 in /usr/local/lib/python3.7/dist-packages (from folium>=0.11.0->geemap) (2.11.3)\n",
            "Requirement already satisfied: branca>=0.3.0 in /usr/local/lib/python3.7/dist-packages (from folium>=0.11.0->geemap) (0.4.2)\n",
            "Collecting logzero>=1.5.0\n",
            "  Downloading logzero-1.7.0-py2.py3-none-any.whl (16 kB)\n",
            "Collecting beautifulsoup4>=4.9.0\n",
            "  Downloading beautifulsoup4-4.10.0-py3-none-any.whl (97 kB)\n",
            "\u001b[K     |████████████████████████████████| 97 kB 7.0 MB/s \n",
            "\u001b[?25hCollecting soupsieve>1.2\n",
            "  Downloading soupsieve-2.3.1-py3-none-any.whl (37 kB)\n",
            "Requirement already satisfied: uritemplate<4dev,>=3.0.0 in /usr/local/lib/python3.7/dist-packages (from google-api-python-client<2,>=1.12.1->earthengine-api>=0.1.230->geemap) (3.0.1)\n",
            "Requirement already satisfied: google-api-core<2dev,>=1.21.0 in /usr/local/lib/python3.7/dist-packages (from google-api-python-client<2,>=1.12.1->earthengine-api>=0.1.230->geemap) (1.26.3)\n",
            "Requirement already satisfied: pytz in /usr/local/lib/python3.7/dist-packages (from google-api-core<2dev,>=1.21.0->google-api-python-client<2,>=1.12.1->earthengine-api>=0.1.230->geemap) (2018.9)\n",
            "Requirement already satisfied: protobuf>=3.12.0 in /usr/local/lib/python3.7/dist-packages (from google-api-core<2dev,>=1.21.0->google-api-python-client<2,>=1.12.1->earthengine-api>=0.1.230->geemap) (3.17.3)\n",
            "Requirement already satisfied: packaging>=14.3 in /usr/local/lib/python3.7/dist-packages (from google-api-core<2dev,>=1.21.0->google-api-python-client<2,>=1.12.1->earthengine-api>=0.1.230->geemap) (21.3)\n",
            "Requirement already satisfied: setuptools>=40.3.0 in /usr/local/lib/python3.7/dist-packages (from google-api-core<2dev,>=1.21.0->google-api-python-client<2,>=1.12.1->earthengine-api>=0.1.230->geemap) (57.4.0)\n",
            "Requirement already satisfied: googleapis-common-protos<2.0dev,>=1.6.0 in /usr/local/lib/python3.7/dist-packages (from google-api-core<2dev,>=1.21.0->google-api-python-client<2,>=1.12.1->earthengine-api>=0.1.230->geemap) (1.53.0)\n",
            "Requirement already satisfied: rsa<5,>=3.1.4 in /usr/local/lib/python3.7/dist-packages (from google-auth>=1.4.1->earthengine-api>=0.1.230->geemap) (4.8)\n",
            "Requirement already satisfied: cachetools<5.0,>=2.0.0 in /usr/local/lib/python3.7/dist-packages (from google-auth>=1.4.1->earthengine-api>=0.1.230->geemap) (4.2.4)\n",
            "Requirement already satisfied: pyasn1-modules>=0.2.1 in /usr/local/lib/python3.7/dist-packages (from google-auth>=1.4.1->earthengine-api>=0.1.230->geemap) (0.2.8)\n",
            "Requirement already satisfied: ipywidgets in /usr/local/lib/python3.7/dist-packages (from ipyfilechooser>=0.6.0->geemap) (7.6.5)\n",
            "Collecting traittypes<3,>=0.2.1\n",
            "  Downloading traittypes-0.2.1-py2.py3-none-any.whl (8.6 kB)\n",
            "Requirement already satisfied: nbformat>=4.2.0 in /usr/local/lib/python3.7/dist-packages (from ipywidgets->ipyfilechooser>=0.6.0->geemap) (5.1.3)\n",
            "Requirement already satisfied: widgetsnbextension~=3.5.0 in /usr/local/lib/python3.7/dist-packages (from ipywidgets->ipyfilechooser>=0.6.0->geemap) (3.5.2)\n",
            "Requirement already satisfied: jupyterlab-widgets>=1.0.0 in /usr/local/lib/python3.7/dist-packages (from ipywidgets->ipyfilechooser>=0.6.0->geemap) (1.0.2)\n",
            "Requirement already satisfied: traitlets>=4.3.1 in /usr/local/lib/python3.7/dist-packages (from ipywidgets->ipyfilechooser>=0.6.0->geemap) (5.1.1)\n",
            "Requirement already satisfied: ipython-genutils~=0.2.0 in /usr/local/lib/python3.7/dist-packages (from ipywidgets->ipyfilechooser>=0.6.0->geemap) (0.2.0)\n",
            "Requirement already satisfied: ipython>=4.0.0 in /usr/local/lib/python3.7/dist-packages (from ipywidgets->ipyfilechooser>=0.6.0->geemap) (5.5.0)\n",
            "Requirement already satisfied: ipykernel>=4.5.1 in /usr/local/lib/python3.7/dist-packages (from ipywidgets->ipyfilechooser>=0.6.0->geemap) (4.10.1)\n",
            "Requirement already satisfied: jupyter-client in /usr/local/lib/python3.7/dist-packages (from ipykernel>=4.5.1->ipywidgets->ipyfilechooser>=0.6.0->geemap) (5.3.5)\n",
            "Requirement already satisfied: tornado>=4.0 in /usr/local/lib/python3.7/dist-packages (from ipykernel>=4.5.1->ipywidgets->ipyfilechooser>=0.6.0->geemap) (5.1.1)\n",
            "Requirement already satisfied: pexpect in /usr/local/lib/python3.7/dist-packages (from ipython>=4.0.0->ipywidgets->ipyfilechooser>=0.6.0->geemap) (4.8.0)\n",
            "Requirement already satisfied: pygments in /usr/local/lib/python3.7/dist-packages (from ipython>=4.0.0->ipywidgets->ipyfilechooser>=0.6.0->geemap) (2.6.1)\n",
            "Requirement already satisfied: pickleshare in /usr/local/lib/python3.7/dist-packages (from ipython>=4.0.0->ipywidgets->ipyfilechooser>=0.6.0->geemap) (0.7.5)\n",
            "Requirement already satisfied: simplegeneric>0.8 in /usr/local/lib/python3.7/dist-packages (from ipython>=4.0.0->ipywidgets->ipyfilechooser>=0.6.0->geemap) (0.8.1)\n",
            "Requirement already satisfied: decorator in /usr/local/lib/python3.7/dist-packages (from ipython>=4.0.0->ipywidgets->ipyfilechooser>=0.6.0->geemap) (4.4.2)\n",
            "Requirement already satisfied: prompt-toolkit<2.0.0,>=1.0.4 in /usr/local/lib/python3.7/dist-packages (from ipython>=4.0.0->ipywidgets->ipyfilechooser>=0.6.0->geemap) (1.0.18)\n",
            "Requirement already satisfied: MarkupSafe>=0.23 in /usr/local/lib/python3.7/dist-packages (from jinja2>=2.9->folium>=0.11.0->geemap) (2.0.1)\n",
            "Requirement already satisfied: jupyter-core in /usr/local/lib/python3.7/dist-packages (from jupyterlab>=3->geemap) (4.9.1)\n",
            "Collecting jupyterlab-server~=2.3\n",
            "  Downloading jupyterlab_server-2.8.2-py3-none-any.whl (58 kB)\n",
            "\u001b[K     |████████████████████████████████| 58 kB 4.9 MB/s \n",
            "\u001b[?25hCollecting tornado>=4.0\n",
            "  Downloading tornado-6.1-cp37-cp37m-manylinux2010_x86_64.whl (428 kB)\n",
            "\u001b[K     |████████████████████████████████| 428 kB 50.5 MB/s \n",
            "\u001b[?25hCollecting jupyter-server~=1.4\n",
            "  Downloading jupyter_server-1.12.1-py3-none-any.whl (395 kB)\n",
            "\u001b[K     |████████████████████████████████| 395 kB 50.0 MB/s \n",
            "\u001b[?25hCollecting nbclassic~=0.2\n",
            "  Downloading nbclassic-0.3.4-py3-none-any.whl (25 kB)\n",
            "Requirement already satisfied: Send2Trash in /usr/local/lib/python3.7/dist-packages (from jupyter-server~=1.4->jupyterlab>=3->geemap) (1.8.0)\n",
            "Collecting websocket-client\n",
            "  Downloading websocket_client-1.2.1-py2.py3-none-any.whl (52 kB)\n",
            "\u001b[K     |████████████████████████████████| 52 kB 1.3 MB/s \n",
            "\u001b[?25hCollecting anyio<4,>=3.1.0\n",
            "  Downloading anyio-3.4.0-py3-none-any.whl (78 kB)\n",
            "\u001b[K     |████████████████████████████████| 78 kB 8.2 MB/s \n",
            "\u001b[?25hRequirement already satisfied: prometheus-client in /usr/local/lib/python3.7/dist-packages (from jupyter-server~=1.4->jupyterlab>=3->geemap) (0.12.0)\n",
            "Requirement already satisfied: nbconvert in /usr/local/lib/python3.7/dist-packages (from jupyter-server~=1.4->jupyterlab>=3->geemap) (5.6.1)\n",
            "Requirement already satisfied: argon2-cffi in /usr/local/lib/python3.7/dist-packages (from jupyter-server~=1.4->jupyterlab>=3->geemap) (21.1.0)\n",
            "Requirement already satisfied: pyzmq>=17 in /usr/local/lib/python3.7/dist-packages (from jupyter-server~=1.4->jupyterlab>=3->geemap) (22.3.0)\n",
            "Requirement already satisfied: terminado>=0.8.3 in /usr/local/lib/python3.7/dist-packages (from jupyter-server~=1.4->jupyterlab>=3->geemap) (0.12.1)\n",
            "Collecting jupyter-client\n",
            "  Downloading jupyter_client-7.1.0-py3-none-any.whl (129 kB)\n",
            "\u001b[K     |████████████████████████████████| 129 kB 60.0 MB/s \n",
            "\u001b[?25hRequirement already satisfied: typing-extensions in /usr/local/lib/python3.7/dist-packages (from anyio<4,>=3.1.0->jupyter-server~=1.4->jupyterlab>=3->geemap) (3.10.0.2)\n",
            "Collecting sniffio>=1.1\n",
            "  Downloading sniffio-1.2.0-py3-none-any.whl (10 kB)\n",
            "Requirement already satisfied: idna>=2.8 in /usr/local/lib/python3.7/dist-packages (from anyio<4,>=3.1.0->jupyter-server~=1.4->jupyterlab>=3->geemap) (2.10)\n",
            "Requirement already satisfied: nest-asyncio>=1.5 in /usr/local/lib/python3.7/dist-packages (from jupyter-client->ipykernel>=4.5.1->ipywidgets->ipyfilechooser>=0.6.0->geemap) (1.5.4)\n",
            "Requirement already satisfied: entrypoints in /usr/local/lib/python3.7/dist-packages (from jupyter-client->ipykernel>=4.5.1->ipywidgets->ipyfilechooser>=0.6.0->geemap) (0.3)\n",
            "Requirement already satisfied: python-dateutil>=2.1 in /usr/local/lib/python3.7/dist-packages (from jupyter-client->ipykernel>=4.5.1->ipywidgets->ipyfilechooser>=0.6.0->geemap) (2.8.2)\n",
            "Collecting json5\n",
            "  Downloading json5-0.9.6-py2.py3-none-any.whl (18 kB)\n",
            "Collecting jsonschema>=3.0.1\n",
            "  Downloading jsonschema-4.2.1-py3-none-any.whl (69 kB)\n",
            "\u001b[K     |████████████████████████████████| 69 kB 7.4 MB/s \n",
            "\u001b[?25hRequirement already satisfied: babel in /usr/local/lib/python3.7/dist-packages (from jupyterlab-server~=2.3->jupyterlab>=3->geemap) (2.9.1)\n",
            "Requirement already satisfied: importlib-resources>=1.4.0 in /usr/local/lib/python3.7/dist-packages (from jsonschema>=3.0.1->jupyterlab-server~=2.3->jupyterlab>=3->geemap) (5.4.0)\n",
            "Requirement already satisfied: pyrsistent!=0.17.0,!=0.17.1,!=0.17.2,>=0.14.0 in /usr/local/lib/python3.7/dist-packages (from jsonschema>=3.0.1->jupyterlab-server~=2.3->jupyterlab>=3->geemap) (0.18.0)\n",
            "Requirement already satisfied: importlib-metadata in /usr/local/lib/python3.7/dist-packages (from jsonschema>=3.0.1->jupyterlab-server~=2.3->jupyterlab>=3->geemap) (4.8.2)\n",
            "Requirement already satisfied: attrs>=17.4.0 in /usr/local/lib/python3.7/dist-packages (from jsonschema>=3.0.1->jupyterlab-server~=2.3->jupyterlab>=3->geemap) (21.2.0)\n",
            "Requirement already satisfied: zipp>=3.1.0 in /usr/local/lib/python3.7/dist-packages (from importlib-resources>=1.4.0->jsonschema>=3.0.1->jupyterlab-server~=2.3->jupyterlab>=3->geemap) (3.6.0)\n",
            "Requirement already satisfied: notebook<7 in /usr/local/lib/python3.7/dist-packages (from nbclassic~=0.2->jupyterlab>=3->geemap) (5.3.1)\n",
            "Requirement already satisfied: pyparsing!=3.0.5,>=2.0.2 in /usr/local/lib/python3.7/dist-packages (from packaging>=14.3->google-api-core<2dev,>=1.21.0->google-api-python-client<2,>=1.12.1->earthengine-api>=0.1.230->geemap) (3.0.6)\n",
            "Requirement already satisfied: wcwidth in /usr/local/lib/python3.7/dist-packages (from prompt-toolkit<2.0.0,>=1.0.4->ipython>=4.0.0->ipywidgets->ipyfilechooser>=0.6.0->geemap) (0.2.5)\n",
            "Requirement already satisfied: pyasn1<0.5.0,>=0.4.6 in /usr/local/lib/python3.7/dist-packages (from pyasn1-modules>=0.2.1->google-auth>=1.4.1->earthengine-api>=0.1.230->geemap) (0.4.8)\n",
            "Requirement already satisfied: certifi>=2017.4.17 in /usr/local/lib/python3.7/dist-packages (from requests->folium>=0.11.0->geemap) (2021.10.8)\n",
            "Requirement already satisfied: chardet<4,>=3.0.2 in /usr/local/lib/python3.7/dist-packages (from requests->folium>=0.11.0->geemap) (3.0.4)\n",
            "Requirement already satisfied: urllib3!=1.25.0,!=1.25.1,<1.26,>=1.21.1 in /usr/local/lib/python3.7/dist-packages (from requests->folium>=0.11.0->geemap) (1.24.3)\n",
            "Requirement already satisfied: ptyprocess in /usr/local/lib/python3.7/dist-packages (from terminado>=0.8.3->jupyter-server~=1.4->jupyterlab>=3->geemap) (0.7.0)\n",
            "Collecting whitebox\n",
            "  Downloading whitebox-2.0.3-py2.py3-none-any.whl (70 kB)\n",
            "\u001b[K     |████████████████████████████████| 70 kB 8.2 MB/s \n",
            "\u001b[?25hRequirement already satisfied: cffi>=1.0.0 in /usr/local/lib/python3.7/dist-packages (from argon2-cffi->jupyter-server~=1.4->jupyterlab>=3->geemap) (1.15.0)\n",
            "Requirement already satisfied: pycparser in /usr/local/lib/python3.7/dist-packages (from cffi>=1.0.0->argon2-cffi->jupyter-server~=1.4->jupyterlab>=3->geemap) (2.21)\n",
            "Collecting ratelim\n",
            "  Downloading ratelim-0.1.6-py2.py3-none-any.whl (4.0 kB)\n",
            "Requirement already satisfied: google-resumable-media<0.5.0dev,>=0.3.1 in /usr/local/lib/python3.7/dist-packages (from google-cloud-storage->earthengine-api>=0.1.230->geemap) (0.4.1)\n",
            "Requirement already satisfied: google-cloud-core<2.0dev,>=1.0.0 in /usr/local/lib/python3.7/dist-packages (from google-cloud-storage->earthengine-api>=0.1.230->geemap) (1.0.3)\n",
            "Requirement already satisfied: cycler>=0.10 in /usr/local/lib/python3.7/dist-packages (from matplotlib->geemap) (0.11.0)\n",
            "Requirement already satisfied: kiwisolver>=1.0.1 in /usr/local/lib/python3.7/dist-packages (from matplotlib->geemap) (1.3.2)\n",
            "Requirement already satisfied: testpath in /usr/local/lib/python3.7/dist-packages (from nbconvert->jupyter-server~=1.4->jupyterlab>=3->geemap) (0.5.0)\n",
            "Requirement already satisfied: mistune<2,>=0.8.1 in /usr/local/lib/python3.7/dist-packages (from nbconvert->jupyter-server~=1.4->jupyterlab>=3->geemap) (0.8.4)\n",
            "Requirement already satisfied: bleach in /usr/local/lib/python3.7/dist-packages (from nbconvert->jupyter-server~=1.4->jupyterlab>=3->geemap) (4.1.0)\n",
            "Requirement already satisfied: defusedxml in /usr/local/lib/python3.7/dist-packages (from nbconvert->jupyter-server~=1.4->jupyterlab>=3->geemap) (0.7.1)\n",
            "Requirement already satisfied: pandocfilters>=1.4.1 in /usr/local/lib/python3.7/dist-packages (from nbconvert->jupyter-server~=1.4->jupyterlab>=3->geemap) (1.5.0)\n",
            "Requirement already satisfied: webencodings in /usr/local/lib/python3.7/dist-packages (from bleach->nbconvert->jupyter-server~=1.4->jupyterlab>=3->geemap) (0.5.1)\n",
            "Collecting pyproj>=2\n",
            "  Downloading pyproj-3.2.1-cp37-cp37m-manylinux2010_x86_64.whl (6.3 MB)\n",
            "\u001b[K     |████████████████████████████████| 6.3 MB 21.8 MB/s \n",
            "\u001b[?25hRequirement already satisfied: pyyaml in /usr/local/lib/python3.7/dist-packages (from owslib->geemap) (3.13)\n",
            "Collecting plotly>=5.2.2\n",
            "  Downloading plotly-5.4.0-py2.py3-none-any.whl (25.3 MB)\n",
            "\u001b[K     |████████████████████████████████| 25.3 MB 41.9 MB/s \n",
            "\u001b[?25hCollecting tenacity>=6.2.0\n",
            "  Downloading tenacity-8.0.1-py3-none-any.whl (24 kB)\n",
            "Requirement already satisfied: nbclient<0.6,>=0.4.0 in /usr/local/lib/python3.7/dist-packages (from voila->geemap) (0.5.9)\n",
            "Collecting jupyter-client\n",
            "  Downloading jupyter_client-6.1.12-py3-none-any.whl (112 kB)\n",
            "\u001b[K     |████████████████████████████████| 112 kB 51.7 MB/s \n",
            "\u001b[?25hCollecting nbconvert\n",
            "  Downloading nbconvert-6.3.0-py3-none-any.whl (556 kB)\n",
            "\u001b[K     |████████████████████████████████| 556 kB 52.1 MB/s \n",
            "\u001b[?25hRequirement already satisfied: jupyterlab-pygments in /usr/local/lib/python3.7/dist-packages (from nbconvert->jupyter-server~=1.4->jupyterlab>=3->geemap) (0.1.2)\n",
            "Building wheels for collected packages: pyshp, ipynb-py-convert, pycrs, sankee\n",
            "  Building wheel for pyshp (setup.py) ... \u001b[?25l\u001b[?25hdone\n",
            "  Created wheel for pyshp: filename=pyshp-2.1.3-py3-none-any.whl size=37325 sha256=dd33e4fbd23a1a3325b1e20a71570abe98668fdee822caed696a9f73821582d6\n",
            "  Stored in directory: /root/.cache/pip/wheels/43/f8/87/53c8cd41545ba20e536ea29a8fcb5431b5f477ca50d5dffbbe\n",
            "  Building wheel for ipynb-py-convert (setup.py) ... \u001b[?25l\u001b[?25hdone\n",
            "  Created wheel for ipynb-py-convert: filename=ipynb_py_convert-0.4.6-py3-none-any.whl size=4639 sha256=bd0fd127104d9dcc95fcce9b95dee945c74eaf9b0185870920dad5e61c56d7b9\n",
            "  Stored in directory: /root/.cache/pip/wheels/af/31/a9/761b134adbbca3c92d491eff3bad785c0a0c0079695d6f0504\n",
            "  Building wheel for pycrs (setup.py) ... \u001b[?25l\u001b[?25hdone\n",
            "  Created wheel for pycrs: filename=PyCRS-1.0.2-py3-none-any.whl size=32704 sha256=9735ec727740ae237df6c90888563b87a6f3d5b89f01f536de1f10ec72a7f0b3\n",
            "  Stored in directory: /root/.cache/pip/wheels/3e/ce/32/1ec0aba6b9770681a423e82f0274c57d09ad2c20c2864901f9\n",
            "  Building wheel for sankee (setup.py) ... \u001b[?25l\u001b[?25hdone\n",
            "  Created wheel for sankee: filename=sankee-0.0.7-py3-none-any.whl size=27640 sha256=986d98f5d6ba11270dc9aeb143c2a3b4a9ed7e32958a872d3d5bf65172036854\n",
            "  Stored in directory: /root/.cache/pip/wheels/13/28/83/5726f82a8cb0baf76169d99ee0595c420afedb9020e22bbd4b\n",
            "Successfully built pyshp ipynb-py-convert pycrs sankee\n",
            "Installing collected packages: tornado, jsonschema, jupyter-client, nbconvert, sniffio, websocket-client, anyio, tenacity, soupsieve, jupyter-server, json5, whitebox, traittypes, ratelim, pyproj, plotly, nbclassic, logzero, jupyterlab-server, ipytree, ipyfilechooser, beautifulsoup4, xyzservices, whiteboxgui, voila, sankee, python-box, pyshp, pycrs, owslib, mss, jupyterlab, ipynb-py-convert, ipyleaflet, ipyevents, geojson, geocoder, geeadd, folium, ffmpeg-python, colour, bqplot, geemap\n",
            "  Attempting uninstall: tornado\n",
            "    Found existing installation: tornado 5.1.1\n",
            "    Uninstalling tornado-5.1.1:\n",
            "      Successfully uninstalled tornado-5.1.1\n",
            "  Attempting uninstall: jsonschema\n",
            "    Found existing installation: jsonschema 2.6.0\n",
            "    Uninstalling jsonschema-2.6.0:\n",
            "      Successfully uninstalled jsonschema-2.6.0\n",
            "  Attempting uninstall: jupyter-client\n",
            "    Found existing installation: jupyter-client 5.3.5\n",
            "    Uninstalling jupyter-client-5.3.5:\n",
            "      Successfully uninstalled jupyter-client-5.3.5\n",
            "  Attempting uninstall: nbconvert\n",
            "    Found existing installation: nbconvert 5.6.1\n",
            "    Uninstalling nbconvert-5.6.1:\n",
            "      Successfully uninstalled nbconvert-5.6.1\n",
            "  Attempting uninstall: plotly\n",
            "    Found existing installation: plotly 4.4.1\n",
            "    Uninstalling plotly-4.4.1:\n",
            "      Successfully uninstalled plotly-4.4.1\n",
            "  Attempting uninstall: beautifulsoup4\n",
            "    Found existing installation: beautifulsoup4 4.6.3\n",
            "    Uninstalling beautifulsoup4-4.6.3:\n",
            "      Successfully uninstalled beautifulsoup4-4.6.3\n",
            "  Attempting uninstall: folium\n",
            "    Found existing installation: folium 0.8.3\n",
            "    Uninstalling folium-0.8.3:\n",
            "      Successfully uninstalled folium-0.8.3\n",
            "\u001b[31mERROR: pip's dependency resolver does not currently take into account all the packages that are installed. This behaviour is the source of the following dependency conflicts.\n",
            "google-colab 1.0.0 requires tornado~=5.1.0; python_version >= \"3.0\", but you have tornado 6.1 which is incompatible.\n",
            "datascience 0.10.6 requires folium==0.2.1, but you have folium 0.12.1.post1 which is incompatible.\u001b[0m\n",
            "Successfully installed anyio-3.4.0 beautifulsoup4-4.10.0 bqplot-0.12.31 colour-0.1.5 ffmpeg-python-0.2.0 folium-0.12.1.post1 geeadd-0.5.5 geemap-0.10.1 geocoder-1.38.1 geojson-2.5.0 ipyevents-2.0.1 ipyfilechooser-0.6.0 ipyleaflet-0.14.0 ipynb-py-convert-0.4.6 ipytree-0.2.1 json5-0.9.6 jsonschema-4.2.1 jupyter-client-6.1.12 jupyter-server-1.12.1 jupyterlab-3.2.4 jupyterlab-server-2.8.2 logzero-1.7.0 mss-6.1.0 nbclassic-0.3.4 nbconvert-6.3.0 owslib-0.25.0 plotly-5.4.0 pycrs-1.0.2 pyproj-3.2.1 pyshp-2.1.3 python-box-5.4.1 ratelim-0.1.6 sankee-0.0.7 sniffio-1.2.0 soupsieve-2.3.1 tenacity-8.0.1 tornado-6.1 traittypes-0.2.1 voila-0.2.16 websocket-client-1.2.1 whitebox-2.0.3 whiteboxgui-0.6.0 xyzservices-2021.11.0\n"
          ]
        },
        {
          "output_type": "display_data",
          "data": {
            "application/vnd.colab-display-data+json": {
              "pip_warning": {
                "packages": [
                  "jupyter_client",
                  "tornado"
                ]
              }
            }
          },
          "metadata": {}
        }
      ]
    },
    {
      "cell_type": "code",
      "metadata": {
        "colab": {
          "base_uri": "https://localhost:8080/"
        },
        "id": "Z0F2PuT9kaqT",
        "outputId": "806a8384-1319-46e3-926f-f686d1c263d8"
      },
      "source": [
        "pip install geopandas"
      ],
      "execution_count": null,
      "outputs": [
        {
          "output_type": "stream",
          "name": "stdout",
          "text": [
            "Collecting geopandas\n",
            "  Downloading geopandas-0.10.2-py2.py3-none-any.whl (1.0 MB)\n",
            "\u001b[?25l\r\u001b[K     |▎                               | 10 kB 21.9 MB/s eta 0:00:01\r\u001b[K     |▋                               | 20 kB 26.9 MB/s eta 0:00:01\r\u001b[K     |█                               | 30 kB 19.4 MB/s eta 0:00:01\r\u001b[K     |█▎                              | 40 kB 16.0 MB/s eta 0:00:01\r\u001b[K     |█▋                              | 51 kB 5.3 MB/s eta 0:00:01\r\u001b[K     |██                              | 61 kB 5.9 MB/s eta 0:00:01\r\u001b[K     |██▎                             | 71 kB 5.3 MB/s eta 0:00:01\r\u001b[K     |██▌                             | 81 kB 6.0 MB/s eta 0:00:01\r\u001b[K     |██▉                             | 92 kB 5.9 MB/s eta 0:00:01\r\u001b[K     |███▏                            | 102 kB 5.1 MB/s eta 0:00:01\r\u001b[K     |███▌                            | 112 kB 5.1 MB/s eta 0:00:01\r\u001b[K     |███▉                            | 122 kB 5.1 MB/s eta 0:00:01\r\u001b[K     |████▏                           | 133 kB 5.1 MB/s eta 0:00:01\r\u001b[K     |████▌                           | 143 kB 5.1 MB/s eta 0:00:01\r\u001b[K     |████▊                           | 153 kB 5.1 MB/s eta 0:00:01\r\u001b[K     |█████                           | 163 kB 5.1 MB/s eta 0:00:01\r\u001b[K     |█████▍                          | 174 kB 5.1 MB/s eta 0:00:01\r\u001b[K     |█████▊                          | 184 kB 5.1 MB/s eta 0:00:01\r\u001b[K     |██████                          | 194 kB 5.1 MB/s eta 0:00:01\r\u001b[K     |██████▍                         | 204 kB 5.1 MB/s eta 0:00:01\r\u001b[K     |██████▊                         | 215 kB 5.1 MB/s eta 0:00:01\r\u001b[K     |███████                         | 225 kB 5.1 MB/s eta 0:00:01\r\u001b[K     |███████▎                        | 235 kB 5.1 MB/s eta 0:00:01\r\u001b[K     |███████▋                        | 245 kB 5.1 MB/s eta 0:00:01\r\u001b[K     |████████                        | 256 kB 5.1 MB/s eta 0:00:01\r\u001b[K     |████████▎                       | 266 kB 5.1 MB/s eta 0:00:01\r\u001b[K     |████████▋                       | 276 kB 5.1 MB/s eta 0:00:01\r\u001b[K     |█████████                       | 286 kB 5.1 MB/s eta 0:00:01\r\u001b[K     |█████████▏                      | 296 kB 5.1 MB/s eta 0:00:01\r\u001b[K     |█████████▌                      | 307 kB 5.1 MB/s eta 0:00:01\r\u001b[K     |█████████▉                      | 317 kB 5.1 MB/s eta 0:00:01\r\u001b[K     |██████████▏                     | 327 kB 5.1 MB/s eta 0:00:01\r\u001b[K     |██████████▌                     | 337 kB 5.1 MB/s eta 0:00:01\r\u001b[K     |██████████▉                     | 348 kB 5.1 MB/s eta 0:00:01\r\u001b[K     |███████████▏                    | 358 kB 5.1 MB/s eta 0:00:01\r\u001b[K     |███████████▍                    | 368 kB 5.1 MB/s eta 0:00:01\r\u001b[K     |███████████▊                    | 378 kB 5.1 MB/s eta 0:00:01\r\u001b[K     |████████████                    | 389 kB 5.1 MB/s eta 0:00:01\r\u001b[K     |████████████▍                   | 399 kB 5.1 MB/s eta 0:00:01\r\u001b[K     |████████████▊                   | 409 kB 5.1 MB/s eta 0:00:01\r\u001b[K     |█████████████                   | 419 kB 5.1 MB/s eta 0:00:01\r\u001b[K     |█████████████▍                  | 430 kB 5.1 MB/s eta 0:00:01\r\u001b[K     |█████████████▋                  | 440 kB 5.1 MB/s eta 0:00:01\r\u001b[K     |██████████████                  | 450 kB 5.1 MB/s eta 0:00:01\r\u001b[K     |██████████████▎                 | 460 kB 5.1 MB/s eta 0:00:01\r\u001b[K     |██████████████▋                 | 471 kB 5.1 MB/s eta 0:00:01\r\u001b[K     |███████████████                 | 481 kB 5.1 MB/s eta 0:00:01\r\u001b[K     |███████████████▎                | 491 kB 5.1 MB/s eta 0:00:01\r\u001b[K     |███████████████▋                | 501 kB 5.1 MB/s eta 0:00:01\r\u001b[K     |███████████████▉                | 512 kB 5.1 MB/s eta 0:00:01\r\u001b[K     |████████████████▏               | 522 kB 5.1 MB/s eta 0:00:01\r\u001b[K     |████████████████▌               | 532 kB 5.1 MB/s eta 0:00:01\r\u001b[K     |████████████████▉               | 542 kB 5.1 MB/s eta 0:00:01\r\u001b[K     |█████████████████▏              | 552 kB 5.1 MB/s eta 0:00:01\r\u001b[K     |█████████████████▌              | 563 kB 5.1 MB/s eta 0:00:01\r\u001b[K     |█████████████████▉              | 573 kB 5.1 MB/s eta 0:00:01\r\u001b[K     |██████████████████              | 583 kB 5.1 MB/s eta 0:00:01\r\u001b[K     |██████████████████▍             | 593 kB 5.1 MB/s eta 0:00:01\r\u001b[K     |██████████████████▊             | 604 kB 5.1 MB/s eta 0:00:01\r\u001b[K     |███████████████████             | 614 kB 5.1 MB/s eta 0:00:01\r\u001b[K     |███████████████████▍            | 624 kB 5.1 MB/s eta 0:00:01\r\u001b[K     |███████████████████▊            | 634 kB 5.1 MB/s eta 0:00:01\r\u001b[K     |████████████████████            | 645 kB 5.1 MB/s eta 0:00:01\r\u001b[K     |████████████████████▎           | 655 kB 5.1 MB/s eta 0:00:01\r\u001b[K     |████████████████████▋           | 665 kB 5.1 MB/s eta 0:00:01\r\u001b[K     |█████████████████████           | 675 kB 5.1 MB/s eta 0:00:01\r\u001b[K     |█████████████████████▎          | 686 kB 5.1 MB/s eta 0:00:01\r\u001b[K     |█████████████████████▋          | 696 kB 5.1 MB/s eta 0:00:01\r\u001b[K     |██████████████████████          | 706 kB 5.1 MB/s eta 0:00:01\r\u001b[K     |██████████████████████▎         | 716 kB 5.1 MB/s eta 0:00:01\r\u001b[K     |██████████████████████▋         | 727 kB 5.1 MB/s eta 0:00:01\r\u001b[K     |██████████████████████▉         | 737 kB 5.1 MB/s eta 0:00:01\r\u001b[K     |███████████████████████▏        | 747 kB 5.1 MB/s eta 0:00:01\r\u001b[K     |███████████████████████▌        | 757 kB 5.1 MB/s eta 0:00:01\r\u001b[K     |███████████████████████▉        | 768 kB 5.1 MB/s eta 0:00:01\r\u001b[K     |████████████████████████▏       | 778 kB 5.1 MB/s eta 0:00:01\r\u001b[K     |████████████████████████▌       | 788 kB 5.1 MB/s eta 0:00:01\r\u001b[K     |████████████████████████▉       | 798 kB 5.1 MB/s eta 0:00:01\r\u001b[K     |█████████████████████████       | 808 kB 5.1 MB/s eta 0:00:01\r\u001b[K     |█████████████████████████▍      | 819 kB 5.1 MB/s eta 0:00:01\r\u001b[K     |█████████████████████████▊      | 829 kB 5.1 MB/s eta 0:00:01\r\u001b[K     |██████████████████████████      | 839 kB 5.1 MB/s eta 0:00:01\r\u001b[K     |██████████████████████████▍     | 849 kB 5.1 MB/s eta 0:00:01\r\u001b[K     |██████████████████████████▊     | 860 kB 5.1 MB/s eta 0:00:01\r\u001b[K     |███████████████████████████     | 870 kB 5.1 MB/s eta 0:00:01\r\u001b[K     |███████████████████████████▎    | 880 kB 5.1 MB/s eta 0:00:01\r\u001b[K     |███████████████████████████▋    | 890 kB 5.1 MB/s eta 0:00:01\r\u001b[K     |████████████████████████████    | 901 kB 5.1 MB/s eta 0:00:01\r\u001b[K     |████████████████████████████▎   | 911 kB 5.1 MB/s eta 0:00:01\r\u001b[K     |████████████████████████████▋   | 921 kB 5.1 MB/s eta 0:00:01\r\u001b[K     |█████████████████████████████   | 931 kB 5.1 MB/s eta 0:00:01\r\u001b[K     |█████████████████████████████▎  | 942 kB 5.1 MB/s eta 0:00:01\r\u001b[K     |█████████████████████████████▌  | 952 kB 5.1 MB/s eta 0:00:01\r\u001b[K     |█████████████████████████████▉  | 962 kB 5.1 MB/s eta 0:00:01\r\u001b[K     |██████████████████████████████▏ | 972 kB 5.1 MB/s eta 0:00:01\r\u001b[K     |██████████████████████████████▌ | 983 kB 5.1 MB/s eta 0:00:01\r\u001b[K     |██████████████████████████████▉ | 993 kB 5.1 MB/s eta 0:00:01\r\u001b[K     |███████████████████████████████▏| 1.0 MB 5.1 MB/s eta 0:00:01\r\u001b[K     |███████████████████████████████▌| 1.0 MB 5.1 MB/s eta 0:00:01\r\u001b[K     |███████████████████████████████▊| 1.0 MB 5.1 MB/s eta 0:00:01\r\u001b[K     |████████████████████████████████| 1.0 MB 5.1 MB/s \n",
            "\u001b[?25hRequirement already satisfied: pandas>=0.25.0 in /usr/local/lib/python3.7/dist-packages (from geopandas) (1.1.5)\n",
            "Requirement already satisfied: pyproj>=2.2.0 in /usr/local/lib/python3.7/dist-packages (from geopandas) (3.2.1)\n",
            "Requirement already satisfied: shapely>=1.6 in /usr/local/lib/python3.7/dist-packages (from geopandas) (1.8.0)\n",
            "Collecting fiona>=1.8\n",
            "  Downloading Fiona-1.8.20-cp37-cp37m-manylinux1_x86_64.whl (15.4 MB)\n",
            "\u001b[K     |████████████████████████████████| 15.4 MB 33.4 MB/s \n",
            "\u001b[?25hRequirement already satisfied: attrs>=17 in /usr/local/lib/python3.7/dist-packages (from fiona>=1.8->geopandas) (21.2.0)\n",
            "Collecting cligj>=0.5\n",
            "  Downloading cligj-0.7.2-py3-none-any.whl (7.1 kB)\n",
            "Requirement already satisfied: setuptools in /usr/local/lib/python3.7/dist-packages (from fiona>=1.8->geopandas) (57.4.0)\n",
            "Requirement already satisfied: six>=1.7 in /usr/local/lib/python3.7/dist-packages (from fiona>=1.8->geopandas) (1.15.0)\n",
            "Collecting munch\n",
            "  Downloading munch-2.5.0-py2.py3-none-any.whl (10 kB)\n",
            "Requirement already satisfied: click>=4.0 in /usr/local/lib/python3.7/dist-packages (from fiona>=1.8->geopandas) (7.1.2)\n",
            "Collecting click-plugins>=1.0\n",
            "  Downloading click_plugins-1.1.1-py2.py3-none-any.whl (7.5 kB)\n",
            "Requirement already satisfied: certifi in /usr/local/lib/python3.7/dist-packages (from fiona>=1.8->geopandas) (2021.10.8)\n",
            "Requirement already satisfied: python-dateutil>=2.7.3 in /usr/local/lib/python3.7/dist-packages (from pandas>=0.25.0->geopandas) (2.8.2)\n",
            "Requirement already satisfied: numpy>=1.15.4 in /usr/local/lib/python3.7/dist-packages (from pandas>=0.25.0->geopandas) (1.19.5)\n",
            "Requirement already satisfied: pytz>=2017.2 in /usr/local/lib/python3.7/dist-packages (from pandas>=0.25.0->geopandas) (2018.9)\n",
            "Installing collected packages: munch, cligj, click-plugins, fiona, geopandas\n",
            "Successfully installed click-plugins-1.1.1 cligj-0.7.2 fiona-1.8.20 geopandas-0.10.2 munch-2.5.0\n"
          ]
        }
      ]
    },
    {
      "cell_type": "code",
      "metadata": {
        "colab": {
          "base_uri": "https://localhost:8080/"
        },
        "id": "bik2aEvVkwOu",
        "outputId": "8e1e433c-f5d2-4bd6-b721-604318000e37"
      },
      "source": [
        "pip install contextily"
      ],
      "execution_count": null,
      "outputs": [
        {
          "output_type": "stream",
          "name": "stdout",
          "text": [
            "Collecting contextily\n",
            "  Downloading contextily-1.2.0-py3-none-any.whl (16 kB)\n",
            "Requirement already satisfied: matplotlib in /usr/local/lib/python3.7/dist-packages (from contextily) (3.2.2)\n",
            "Collecting mercantile\n",
            "  Downloading mercantile-1.2.1-py3-none-any.whl (14 kB)\n",
            "Collecting rasterio\n",
            "  Downloading rasterio-1.2.10-cp37-cp37m-manylinux1_x86_64.whl (19.3 MB)\n",
            "\u001b[K     |████████████████████████████████| 19.3 MB 1.2 MB/s \n",
            "\u001b[?25hRequirement already satisfied: pillow in /usr/local/lib/python3.7/dist-packages (from contextily) (7.1.2)\n",
            "Requirement already satisfied: geopy in /usr/local/lib/python3.7/dist-packages (from contextily) (1.17.0)\n",
            "Requirement already satisfied: joblib in /usr/local/lib/python3.7/dist-packages (from contextily) (1.1.0)\n",
            "Requirement already satisfied: requests in /usr/local/lib/python3.7/dist-packages (from contextily) (2.23.0)\n",
            "Requirement already satisfied: xyzservices in /usr/local/lib/python3.7/dist-packages (from contextily) (2021.11.0)\n",
            "Requirement already satisfied: geographiclib<2,>=1.49 in /usr/local/lib/python3.7/dist-packages (from geopy->contextily) (1.52)\n",
            "Requirement already satisfied: python-dateutil>=2.1 in /usr/local/lib/python3.7/dist-packages (from matplotlib->contextily) (2.8.2)\n",
            "Requirement already satisfied: cycler>=0.10 in /usr/local/lib/python3.7/dist-packages (from matplotlib->contextily) (0.11.0)\n",
            "Requirement already satisfied: kiwisolver>=1.0.1 in /usr/local/lib/python3.7/dist-packages (from matplotlib->contextily) (1.3.2)\n",
            "Requirement already satisfied: numpy>=1.11 in /usr/local/lib/python3.7/dist-packages (from matplotlib->contextily) (1.19.5)\n",
            "Requirement already satisfied: pyparsing!=2.0.4,!=2.1.2,!=2.1.6,>=2.0.1 in /usr/local/lib/python3.7/dist-packages (from matplotlib->contextily) (3.0.6)\n",
            "Requirement already satisfied: six>=1.5 in /usr/local/lib/python3.7/dist-packages (from python-dateutil>=2.1->matplotlib->contextily) (1.15.0)\n",
            "Requirement already satisfied: click>=3.0 in /usr/local/lib/python3.7/dist-packages (from mercantile->contextily) (7.1.2)\n",
            "Requirement already satisfied: cligj>=0.5 in /usr/local/lib/python3.7/dist-packages (from rasterio->contextily) (0.7.2)\n",
            "Requirement already satisfied: attrs in /usr/local/lib/python3.7/dist-packages (from rasterio->contextily) (21.2.0)\n",
            "Collecting snuggs>=1.4.1\n",
            "  Downloading snuggs-1.4.7-py3-none-any.whl (5.4 kB)\n",
            "Requirement already satisfied: click-plugins in /usr/local/lib/python3.7/dist-packages (from rasterio->contextily) (1.1.1)\n",
            "Collecting affine\n",
            "  Downloading affine-2.3.0-py2.py3-none-any.whl (15 kB)\n",
            "Requirement already satisfied: setuptools in /usr/local/lib/python3.7/dist-packages (from rasterio->contextily) (57.4.0)\n",
            "Requirement already satisfied: certifi in /usr/local/lib/python3.7/dist-packages (from rasterio->contextily) (2021.10.8)\n",
            "Requirement already satisfied: urllib3!=1.25.0,!=1.25.1,<1.26,>=1.21.1 in /usr/local/lib/python3.7/dist-packages (from requests->contextily) (1.24.3)\n",
            "Requirement already satisfied: idna<3,>=2.5 in /usr/local/lib/python3.7/dist-packages (from requests->contextily) (2.10)\n",
            "Requirement already satisfied: chardet<4,>=3.0.2 in /usr/local/lib/python3.7/dist-packages (from requests->contextily) (3.0.4)\n",
            "Installing collected packages: snuggs, affine, rasterio, mercantile, contextily\n",
            "Successfully installed affine-2.3.0 contextily-1.2.0 mercantile-1.2.1 rasterio-1.2.10 snuggs-1.4.7\n"
          ]
        }
      ]
    },
    {
      "cell_type": "code",
      "metadata": {
        "id": "PmKFvO71wL0l"
      },
      "source": [
        "import geemap\n",
        "import pandas as pd\n",
        "import geopandas as gpd\n",
        "import matplotlib.pyplot as plt\n",
        "import numpy as np\n",
        "import scipy.optimize\n",
        "import os\n",
        "import json\n",
        "from shapely.geometry import box\n",
        "import contextily as ctx\n",
        "import warnings\n",
        "warnings.filterwarnings('ignore')\n",
        "import matplotlib.pyplot as plt\n",
        "import matplotlib as mpl\n",
        "from mpl_toolkits.axes_grid1.axes_divider import make_axes_locatable"
      ],
      "execution_count": null,
      "outputs": []
    },
    {
      "cell_type": "code",
      "metadata": {
        "cellView": "both",
        "colab": {
          "base_uri": "https://localhost:8080/"
        },
        "id": "yxBXo7unYLY1",
        "outputId": "94b3ed4c-4574-460a-9a1e-885e8af3ce8d"
      },
      "source": [
        "import ee\n",
        "ee.Authenticate()"
      ],
      "execution_count": null,
      "outputs": [
        {
          "output_type": "stream",
          "name": "stdout",
          "text": [
            "To authorize access needed by Earth Engine, open the following URL in a web browser and follow the instructions. If the web browser does not start automatically, please manually browse the URL below.\n",
            "\n",
            "    https://accounts.google.com/o/oauth2/auth?client_id=517222506229-vsmmajv00ul0bs7p89v5m89qs8eb9359.apps.googleusercontent.com&scope=https%3A%2F%2Fwww.googleapis.com%2Fauth%2Fearthengine+https%3A%2F%2Fwww.googleapis.com%2Fauth%2Fdevstorage.full_control&redirect_uri=urn%3Aietf%3Awg%3Aoauth%3A2.0%3Aoob&response_type=code&code_challenge=nAxwn-ph9N5h3SpE1ThwndPuc-dcqklFQJJH-7n_iME&code_challenge_method=S256\n",
            "\n",
            "The authorization workflow will generate a code, which you should paste in the box below. \n",
            "Enter verification code: 4/1AX4XfWhEtRKD2ZaLkcJkgvs7OY_PylGfE89-CBnvVXrMZe-tqaKljdjADKk\n",
            "\n",
            "Successfully saved authorization token.\n"
          ]
        }
      ]
    },
    {
      "cell_type": "code",
      "metadata": {
        "id": "gTowStYzt1tU"
      },
      "source": [
        "ee.Initialize()"
      ],
      "execution_count": null,
      "outputs": []
    },
    {
      "cell_type": "code",
      "metadata": {
        "id": "AdyyyXifzUhM",
        "colab": {
          "base_uri": "https://localhost:8080/"
        },
        "outputId": "1265b836-8092-4f26-8c45-fdf65f09b77b"
      },
      "source": [
        "from google.colab import drive\n",
        "drive.mount('/content/drive')"
      ],
      "execution_count": null,
      "outputs": [
        {
          "output_type": "stream",
          "name": "stdout",
          "text": [
            "Mounted at /content/drive\n"
          ]
        }
      ]
    },
    {
      "cell_type": "markdown",
      "metadata": {
        "id": "tU_wYzn5v5Qe"
      },
      "source": [
        "## Specify directory for saving data in GoogleDrive\n",
        "\n",
        "It is HIGHLY recommended to make a folder within your Drive and specify that as the working directory."
      ]
    },
    {
      "cell_type": "code",
      "metadata": {
        "id": "9RGkCDa2wyW9"
      },
      "source": [
        "work_dir = '/content/drive/MyDrive/'"
      ],
      "execution_count": null,
      "outputs": []
    },
    {
      "cell_type": "markdown",
      "metadata": {
        "id": "DFccKdcnDM0c"
      },
      "source": [
        "## Specify location\n",
        "This colab is set up to extract data from a single USGS watershed with a gage ID."
      ]
    },
    {
      "cell_type": "code",
      "metadata": {
        "id": "M-11LLtKlEe9"
      },
      "source": [
        "gage = '11475560' # Elder Creek"
      ],
      "execution_count": null,
      "outputs": []
    },
    {
      "cell_type": "markdown",
      "metadata": {
        "id": "wa7cGMAwpriv"
      },
      "source": [
        "## Specify duration for timeseries extraction\n",
        "Specify the start/stop dates for the various products we will be extracting a timeseries for."
      ]
    },
    {
      "cell_type": "code",
      "metadata": {
        "id": "5mk67gnFpyyp"
      },
      "source": [
        "# Start/stop for USGS streamflow (Q)\n",
        "start_flow = '2007-10-01'\n",
        "stop_flow = '2017-10-01'\n",
        "\n",
        "# Start/stop for PRISM (precipitation and temperature for PET)\n",
        "start_prism = '2007-10-01'\n",
        "stop_prism = '2017-10-01'\n",
        "\n",
        "# Start/stop for PML ET\n",
        "start_pml = '2007-10-01'\n",
        "stop_pml = '2017-10-01'"
      ],
      "execution_count": null,
      "outputs": []
    },
    {
      "cell_type": "markdown",
      "metadata": {
        "id": "a_2iTfJN3EXo"
      },
      "source": [
        "# Set up functions for later"
      ]
    },
    {
      "cell_type": "markdown",
      "metadata": {
        "id": "Q7Sl9lg7BsHM"
      },
      "source": [
        "This function takes several inputs, including the USGS gage ID and our desired output file format, and returns geometry files of the watershed as well as the geometry of a bounding box around the watershed. This function will also print out a map of the watershed area, the flowlines, the bounding box, and a basemap. You can save this image by right-clicking on it. By changing the output_type parameter to 'ee' or 'gpd', this function will return the shape of the watershed in either Google Earth Engine format or Geopandas format."
      ]
    },
    {
      "cell_type": "code",
      "metadata": {
        "id": "UuHOlTVkgkQ6"
      },
      "source": [
        "def getLocation(gage, output_type = 'ee', work_dir = work_dir):\n",
        "\n",
        "  #Importing basin geometery \n",
        "  print('Data is being retrieved from:')\n",
        "  url = 'https://labs.waterdata.usgs.gov/api/nldi/linked-data/nwissite/USGS-%s/basin?f=json'%gage\n",
        "  print(url)\n",
        "  sites = gpd.read_file(url)   \n",
        "\n",
        "  # Importing flow line geometry \n",
        "  flowlines=gpd.read_file('https://labs.waterdata.usgs.gov/api/nldi/linked-data/nwissite/USGS-%s/navigation/UM/flowlines?f=json&distance=1000'%gage)\n",
        "  #print('\\n USGS Basin imported at gage: ' + gage + 'CRS: ' + str(sites.crs))\n",
        "\n",
        "  out_path = os.path.join(work_dir, str(gage)+\".geojson\")\n",
        "  with open(out_path, 'w') as f:\n",
        "    sites.to_file(out_path, driver = \"GeoJSON\")\n",
        "\n",
        "  out_path = os.path.join(work_dir, str(gage)+\"_bbox.geojson\")\n",
        "  with open(out_path, 'w') as f:\n",
        "    sites.to_file(out_path, driver = \"GeoJSON\")\n",
        "    \n",
        "  # getting bounding box with 0.05 degree buffer around basin shape\n",
        "  bbox_gdf = gpd.GeoDataFrame([1], geometry=[box(*sites.buffer(0.05).total_bounds)], crs=sites.crs)\n",
        "  \n",
        "  # Print out a map of the watershed\n",
        "  loc_plot = sites.boundary.plot(color='darkgreen', figsize=(8, 8), label='Site Area')\n",
        "  flowlines.plot(ax=loc_plot, label='Flow Lines')\n",
        "  bbox_gdf.boundary.plot(ax=loc_plot, color='black', label='Bounding Box')\n",
        "  ctx.add_basemap(ax=loc_plot, crs=sites.crs.to_string())\n",
        "  plt.legend()\n",
        "  plt.title('USGS Gage at gage: '+ gage)\n",
        "  plt.show()\n",
        "\n",
        "  #returning bounding box geometry as geopandas dataframe or ee feature collection\n",
        "  if output_type=='gpd': return sites, bbox_gdf\n",
        "  elif output_type=='ee': \n",
        "      # if want outputs as ee feature collections - this section will run\n",
        "      bbox_coords = [item for item in bbox_gdf.geometry[0].exterior.coords]\n",
        "      bbox_geom = ee.Geometry.Polygon(bbox_coords)\n",
        "      sites_features = []\n",
        "      poly_coords = [item for item in sites.geometry[0].exterior.coords]\n",
        "      temp = ee.Feature(ee.Geometry.Polygon(coords=poly_coords), {'Gage':int(gage)})\n",
        "      sites_features = ee.FeatureCollection([temp])\n",
        "      return sites_features, bbox_geom\n"
      ],
      "execution_count": null,
      "outputs": []
    },
    {
      "cell_type": "markdown",
      "metadata": {
        "id": "6cEEG70XtgHp"
      },
      "source": [
        "This function runs a subset of the above function, but just returns the centroid latitude and longitude of the basin."
      ]
    },
    {
      "cell_type": "code",
      "metadata": {
        "id": "7dHIYHgXtjW2"
      },
      "source": [
        "def get_latlon(gage):\n",
        "  basin = gpd.read_file('https://labs.waterdata.usgs.gov/api/nldi/linked-data/nwissite/USGS-%s/basin?f=json'%gage)\n",
        "  site_lat=basin.to_crs('epsg:4326').geometry[0].centroid.y\n",
        "  site_lon=basin.to_crs('epsg:4326').geometry[0].centroid.x\n",
        "  return site_lat, site_lon"
      ],
      "execution_count": null,
      "outputs": []
    },
    {
      "cell_type": "code",
      "metadata": {
        "id": "FjjWp-tqxxif"
      },
      "source": [
        ""
      ],
      "execution_count": null,
      "outputs": []
    },
    {
      "cell_type": "markdown",
      "metadata": {
        "id": "EklJCJqQohd7"
      },
      "source": [
        "This function takes the gage ID and start and end dates and returns a dataframe with the daily USGS streamflow in various units."
      ]
    },
    {
      "cell_type": "code",
      "metadata": {
        "id": "QlS9mT3tpjjN"
      },
      "source": [
        "def getFlow(gage = gage, start_flow = start_flow, stop_flow = stop_flow):\n",
        "    site = str(gage)\n",
        "    basin = gpd.read_file('https://labs.waterdata.usgs.gov/api/nldi/linked-data/nwissite/USGS-%s/basin?f=json'%gage)\n",
        "\n",
        "    # url of flow data (usgs)\n",
        "    url = 'https://waterdata.usgs.gov/nwis/dv?cb_00060=on&format=rdb&site_no=' + site + '&referred_module=sw&period=&begin_date='+start_flow+'&end_date='+stop_flow\n",
        "    print('Data is being retrieved from:')\n",
        "    print(url)\n",
        "    # get df\n",
        "    df = pd.read_csv(url, header=31, delim_whitespace=True)\n",
        "    df.columns = ['usgs', 'site_number', 'datetime', 'q_cfs', 'a'] \n",
        "    df['id'] = pd.to_datetime(df.datetime)\n",
        "    df = df[['q_cfs','id']]\n",
        "    df['q_cfs'] = df['q_cfs'].astype(float, errors='ignore')  #this is needed because sometimes there are non-numeric entries and we want to ignore them\n",
        "    df['q_m3day']= (86400*df['q_cfs'])/(35.31) #m3/day\n",
        "    # Calculate drainage area in m^2\n",
        "    drainage_area_m2=basin.to_crs('epsg:26910').geometry.area \n",
        "\n",
        "    df['q_m'] = df['q_m3day'] / float(drainage_area_m2)\n",
        "    df['q_mm'] = df['q_m3day'] / float(drainage_area_m2) * 1000\n",
        "\n",
        "    df.set_index('id',inplace=True) \n",
        "    print('\\n', df.head())\n",
        "    return df"
      ],
      "execution_count": null,
      "outputs": []
    },
    {
      "cell_type": "markdown",
      "metadata": {
        "id": "QnaX56K1uWcu"
      },
      "source": [
        "The following 2 functions use geemap to extract single bands of the asset PRISM and PML. Because of the limit on extractions using the geemap method (see [this colab](https://colab.research.google.com/drive/1Yq_0Hyk5IwK4Dbn9qntFpmYz9Qkgd3YL?authuser=1#scrollTo=2M7YMoPNwDws), section \"Extraction Method I: GEEMAP\", for more information), it is easiest to do the extractions one band at a time. Because of the similarity from band to band, we can make a function to avoid repeating big chunks of code over and over again! NOTE This function will save 2 files to your working directory (work_dir) in your GoogleDrive: a raw file and a file with the final, cleaned up dataframe."
      ]
    },
    {
      "cell_type": "code",
      "metadata": {
        "id": "Xc4UchEtupmW"
      },
      "source": [
        "def extract_prism_geemap(band_name, ft_collection, start_prism = start_prism, stop_prism = stop_prism):\n",
        "  prism = ee.ImageCollection(\"OREGONSTATE/PRISM/AN81d\").select(band_name)\n",
        "\n",
        "  prism_band = prism.filterDate(start_prism, stop_prism)\n",
        "  prism_band = prism_band.toBands()\n",
        "\n",
        "  out_csv = os.path.join(work_dir, gage+'_prism_'+ band_name + '_raw.csv')\n",
        "  geemap.extract_values_to_points(ft_collection, prism_band, out_csv)\n",
        "\n",
        "  # Import data you just exported to clean it and make the df nicer\n",
        "  raw = pd.read_csv(out_csv).melt()\n",
        "\n",
        "  df = pd.DataFrame()\n",
        "  df[band_name] = raw['value'][:-1]\n",
        "  df['Date'] = [pd.to_datetime(i.split('_')[0], format = \"%Y%m%d\", errors='coerce')  for i in raw['variable'].values[:-1]]\n",
        "\n",
        "  # Re-export final df\n",
        "  out_csv = os.path.join(work_dir, gage+'_'+ band_name + '.csv')\n",
        "\n",
        "  with open(out_csv, 'w') as f:\n",
        "    df.to_csv(f)\n",
        "\n",
        "  #print(df.head())\n",
        "  return df"
      ],
      "execution_count": null,
      "outputs": []
    },
    {
      "cell_type": "code",
      "metadata": {
        "id": "qVJNbx7Jy9cL"
      },
      "source": [
        "def extract_pml_geemap(band_name, ft_collection, start_pml = start_pml, stop_pml = stop_pml):\n",
        "\n",
        "  pml = ee.ImageCollection(\"CAS/IGSNRR/PML/V2\").select(band_name) #mm d-1\n",
        "\n",
        "  pml = pml.filterDate(start_pml, stop_pml)\n",
        "  pml_image = pml.toBands().reproject(crs = 'EPSG:4326', scale = 500)\n",
        "\n",
        "  out_csv = os.path.join(work_dir, gage+ '_pml_'+ band_name + '_raw.csv')\n",
        "  geemap.extract_values_to_points(ft_collection, pml_image, out_csv)\n",
        "\n",
        "  # Read in data again\n",
        "  raw = pd.read_csv(out_csv).melt()\n",
        "  df = pd.DataFrame()\n",
        "  df[band_name] = raw['value'][:-1]\n",
        "  df['Date'] = [pd.to_datetime(i[:-3], format = \"%Y-%m-%d\", errors = 'coerce')  for i in raw['variable'].values[:-1]]\n",
        "\n",
        "  #print(df.head())\n",
        "  return df"
      ],
      "execution_count": null,
      "outputs": []
    },
    {
      "cell_type": "markdown",
      "metadata": {
        "id": "o_KqkZXNrI8n"
      },
      "source": [
        "#**Extract USGS data**\n",
        "\n",
        "Let's use the functions from above to extract the shape and streamflow from USGS websites."
      ]
    },
    {
      "cell_type": "code",
      "metadata": {
        "id": "yjKVHIqljyOu",
        "colab": {
          "base_uri": "https://localhost:8080/",
          "height": 357
        },
        "outputId": "f907f03d-bff9-4cba-9cb6-6de7d87453e6"
      },
      "source": [
        "ft_collection, bbox_geom = getLocation(gage = gage, output_type = 'ee', work_dir = work_dir)"
      ],
      "execution_count": null,
      "outputs": [
        {
          "output_type": "stream",
          "name": "stdout",
          "text": [
            "Data is being retrieved from:\n",
            "https://labs.waterdata.usgs.gov/api/nldi/linked-data/nwissite/USGS-14046890/basin?f=json\n"
          ]
        },
        {
          "output_type": "display_data",
          "data": {
            "image/png": "[encoded data removed]",
            "text/plain": [
              "<Figure size 576x576 with 1 Axes>"
            ]
          },
          "metadata": {
            "needs_background": "light"
          }
        }
      ]
    },
    {
      "cell_type": "code",
      "metadata": {
        "id": "eY_AmInBqoDs",
        "colab": {
          "base_uri": "https://localhost:8080/"
        },
        "outputId": "9572d8ea-c495-40fe-dbbe-ce189fd2b0bb"
      },
      "source": [
        "q = getFlow()"
      ],
      "execution_count": null,
      "outputs": [
        {
          "output_type": "stream",
          "name": "stdout",
          "text": [
            "Data is being retrieved from:\n",
            "https://waterdata.usgs.gov/nwis/dv?cb_00060=on&format=rdb&site_no=14046890&referred_module=sw&period=&begin_date=2007-10-01&end_date=2017-10-01\n",
            "\n",
            "             q_cfs      q_m3day       q_m      q_mm\n",
            "id                                                \n",
            "2007-10-04   0.48  1174.511470  0.000007  0.006915\n",
            "2007-10-05   0.47  1150.042481  0.000007  0.006771\n",
            "2007-10-06   0.47  1150.042481  0.000007  0.006771\n",
            "2007-10-07   0.45  1101.104503  0.000006  0.006483\n",
            "2007-10-08   0.44  1076.635514  0.000006  0.006339\n"
          ]
        }
      ]
    },
    {
      "cell_type": "markdown",
      "metadata": {
        "id": "oqMec5Cartkb"
      },
      "source": [
        "#**Extract GEE Timeseries**\n",
        "\n",
        "Now we can use the featureCollection we made (which contains a single feature, the watershed) and use the package \"geemap\" to extract timeseries of precipitation and ET. We will also use the temperature bands of PRISM (where we get precipitation from as well) to calculate PET using the Hargreaves method."
      ]
    },
    {
      "cell_type": "markdown",
      "metadata": {
        "id": "ekkegwP_sSHT"
      },
      "source": [
        "###PRISM"
      ]
    },
    {
      "cell_type": "markdown",
      "metadata": {
        "id": "mRGAOKxavo_M"
      },
      "source": [
        "We will use the PRISM dataset for precipitation, as well as for the minimum, maximum, and mean temperature required to calculate PET using the Hargreaves method."
      ]
    },
    {
      "cell_type": "code",
      "metadata": {
        "id": "68ISgmFLw80n",
        "colab": {
          "base_uri": "https://localhost:8080/"
        },
        "outputId": "359ae3f4-7bfb-4ea4-952c-2cd942264eeb"
      },
      "source": [
        "# Let's see what bands are available with PRISM\n",
        "prism = ee.ImageCollection(\"OREGONSTATE/PRISM/AN81d\").first()\n",
        "prism.bandNames().getInfo()"
      ],
      "execution_count": null,
      "outputs": [
        {
          "output_type": "execute_result",
          "data": {
            "text/plain": [
              "['ppt', 'tmean', 'tmin', 'tmax', 'tdmean', 'vpdmin', 'vpdmax']"
            ]
          },
          "metadata": {},
          "execution_count": 17
        }
      ]
    },
    {
      "cell_type": "code",
      "metadata": {
        "id": "2M7YMoPNwDws",
        "colab": {
          "base_uri": "https://localhost:8080/",
          "height": 168
        },
        "outputId": "d6bee673-a02e-405c-a07e-816de07aa1c3"
      },
      "source": [
        "ppt = extract_prism_geemap(band_name = 'ppt', ft_collection = ft_collection, start_prism=start_prism, stop_prism=stop_prism)"
      ],
      "execution_count": null,
      "outputs": [
        {
          "output_type": "error",
          "ename": "NameError",
          "evalue": "ignored",
          "traceback": [
            "\u001b[0;31m---------------------------------------------------------------------------\u001b[0m",
            "\u001b[0;31mNameError\u001b[0m                                 Traceback (most recent call last)",
            "\u001b[0;32m<ipython-input-18-8ea3ecdd6bf7>\u001b[0m in \u001b[0;36m<module>\u001b[0;34m()\u001b[0m\n\u001b[0;32m----> 1\u001b[0;31m \u001b[0mppt\u001b[0m \u001b[0;34m=\u001b[0m \u001b[0mextract_prism_geemap\u001b[0m\u001b[0;34m(\u001b[0m\u001b[0mband_name\u001b[0m \u001b[0;34m=\u001b[0m \u001b[0;34m'ppt'\u001b[0m\u001b[0;34m,\u001b[0m \u001b[0mft_collection\u001b[0m \u001b[0;34m=\u001b[0m \u001b[0mft_collection\u001b[0m\u001b[0;34m,\u001b[0m \u001b[0mstart_prism\u001b[0m\u001b[0;34m=\u001b[0m\u001b[0mstart_prism\u001b[0m\u001b[0;34m,\u001b[0m \u001b[0mstop_prism\u001b[0m\u001b[0;34m=\u001b[0m\u001b[0mstop_prism\u001b[0m\u001b[0;34m)\u001b[0m\u001b[0;34m\u001b[0m\u001b[0;34m\u001b[0m\u001b[0m\n\u001b[0m",
            "\u001b[0;31mNameError\u001b[0m: name 'ft_collection' is not defined"
          ]
        }
      ]
    },
    {
      "cell_type": "code",
      "metadata": {
        "id": "tMvmdWhctcqM",
        "colab": {
          "base_uri": "https://localhost:8080/"
        },
        "outputId": "6c866825-bf72-474b-e299-eaad6376e043"
      },
      "source": [
        "# Since we set up the rest of the input arguments in the definition of the function itself, we don't need to repeat them when we call the function.\n",
        "tmin = extract_prism_geemap(band_name = 'tmin', ft_collection = ft_collection)\n",
        "tmax = extract_prism_geemap(band_name = 'tmax', ft_collection = ft_collection)\n",
        "tmean = extract_prism_geemap(band_name = 'tmean', ft_collection = ft_collection)"
      ],
      "execution_count": null,
      "outputs": [
        {
          "output_type": "stream",
          "name": "stdout",
          "text": [
            "Generating URL ...\n",
            "Downloading data from https://earthengine.googleapis.com/v1alpha/projects/earthengine-legacy/tables/c28c1f09571aa919c1774f3d1c83d858-039c23c9849ad4dac74e69fb818fb317:getFeatures\n",
            "Please wait ...\n",
            "Data downloaded to /content/drive/MyDrive/PhysHydro/14046890_prism_tmin_raw.csv\n",
            "Generating URL ...\n",
            "Downloading data from https://earthengine.googleapis.com/v1alpha/projects/earthengine-legacy/tables/daf9e0743ee7dc3c3909aea80c5c6363-53a9a59638fb74f92ac1726a2737a344:getFeatures\n",
            "Please wait ...\n",
            "Data downloaded to /content/drive/MyDrive/PhysHydro/14046890_prism_tmax_raw.csv\n",
            "Generating URL ...\n",
            "Downloading data from https://earthengine.googleapis.com/v1alpha/projects/earthengine-legacy/tables/639a7a6a420b90eabf26d5bdb5d277e6-a396583a6bd4986bf4ece5821201d357:getFeatures\n",
            "Please wait ...\n",
            "Data downloaded to /content/drive/MyDrive/PhysHydro/14046890_prism_tmean_raw.csv\n"
          ]
        }
      ]
    },
    {
      "cell_type": "markdown",
      "metadata": {
        "id": "8uR9ZRz2wR2J"
      },
      "source": [
        "We can combine all 4 of these dataframes into a single dataframe if we so choose."
      ]
    },
    {
      "cell_type": "code",
      "metadata": {
        "id": "L8-zG56kvzGC",
        "colab": {
          "base_uri": "https://localhost:8080/",
          "height": 206
        },
        "outputId": "d75d848b-4634-4d98-8e2f-e95e576e7a8c"
      },
      "source": [
        "prism_df = ppt.merge(tmin, how = 'inner', on ='Date')\n",
        "prism_df = prism_df.merge(tmax, how = 'inner', on = 'Date')\n",
        "prism_df = prism_df.merge(tmean, how = 'inner', on = 'Date')\n",
        "prism_df.head()"
      ],
      "execution_count": null,
      "outputs": [
        {
          "output_type": "execute_result",
          "data": {
            "text/html": [
              "<div>\n",
              "<style scoped>\n",
              "    .dataframe tbody tr th:only-of-type {\n",
              "        vertical-align: middle;\n",
              "    }\n",
              "\n",
              "    .dataframe tbody tr th {\n",
              "        vertical-align: top;\n",
              "    }\n",
              "\n",
              "    .dataframe thead th {\n",
              "        text-align: right;\n",
              "    }\n",
              "</style>\n",
              "<table border=\"1\" class=\"dataframe\">\n",
              "  <thead>\n",
              "    <tr style=\"text-align: right;\">\n",
              "      <th></th>\n",
              "      <th>ppt</th>\n",
              "      <th>Date</th>\n",
              "      <th>tmin</th>\n",
              "      <th>tmax</th>\n",
              "      <th>tmean</th>\n",
              "    </tr>\n",
              "  </thead>\n",
              "  <tbody>\n",
              "    <tr>\n",
              "      <th>0</th>\n",
              "      <td>0.473</td>\n",
              "      <td>2007-10-02</td>\n",
              "      <td>3.943</td>\n",
              "      <td>14.028</td>\n",
              "      <td>8.985001</td>\n",
              "    </tr>\n",
              "    <tr>\n",
              "      <th>1</th>\n",
              "      <td>2.670</td>\n",
              "      <td>2007-10-03</td>\n",
              "      <td>5.229</td>\n",
              "      <td>16.730</td>\n",
              "      <td>10.979000</td>\n",
              "    </tr>\n",
              "    <tr>\n",
              "      <th>2</th>\n",
              "      <td>1.202</td>\n",
              "      <td>2007-10-04</td>\n",
              "      <td>1.317</td>\n",
              "      <td>13.433</td>\n",
              "      <td>7.374001</td>\n",
              "    </tr>\n",
              "    <tr>\n",
              "      <th>3</th>\n",
              "      <td>2.455</td>\n",
              "      <td>2007-10-05</td>\n",
              "      <td>0.800</td>\n",
              "      <td>11.494</td>\n",
              "      <td>6.147000</td>\n",
              "    </tr>\n",
              "    <tr>\n",
              "      <th>4</th>\n",
              "      <td>0.636</td>\n",
              "      <td>2007-10-06</td>\n",
              "      <td>-0.421</td>\n",
              "      <td>11.435</td>\n",
              "      <td>5.507000</td>\n",
              "    </tr>\n",
              "  </tbody>\n",
              "</table>\n",
              "</div>"
            ],
            "text/plain": [
              "     ppt       Date   tmin    tmax      tmean\n",
              "0  0.473 2007-10-02  3.943  14.028   8.985001\n",
              "1  2.670 2007-10-03  5.229  16.730  10.979000\n",
              "2  1.202 2007-10-04  1.317  13.433   7.374001\n",
              "3  2.455 2007-10-05  0.800  11.494   6.147000\n",
              "4  0.636 2007-10-06 -0.421  11.435   5.507000"
            ]
          },
          "metadata": {},
          "execution_count": 21
        }
      ]
    },
    {
      "cell_type": "markdown",
      "metadata": {
        "id": "DeuDL2B9w0WD"
      },
      "source": [
        "Uncomment this chunk to export this dataframe as a csv."
      ]
    },
    {
      "cell_type": "code",
      "metadata": {
        "id": "8gguvdE-wbAw"
      },
      "source": [
        "#out_csv = os.path.join(work_dir, gage+'_all_prism' + '.csv')\n",
        "#with open(out_csv, 'w') as f:\n",
        "#  prism_df.to_csv(f)"
      ],
      "execution_count": null,
      "outputs": []
    },
    {
      "cell_type": "markdown",
      "metadata": {
        "id": "7nXVmd0uw4yV"
      },
      "source": [
        "###PML ET\n",
        "\n",
        "For more ET extractions, see the code [here](https://colab.research.google.com/drive/1Yq_0Hyk5IwK4Dbn9qntFpmYz9Qkgd3YL?authuser=1#scrollTo=2M7YMoPNwDws). All you need to do is replace the ft_collection from a lat/long with the ft_collection of the watershed we create at the beginning of this script."
      ]
    },
    {
      "cell_type": "code",
      "metadata": {
        "id": "XuBkJHxsyGDD",
        "colab": {
          "base_uri": "https://localhost:8080/"
        },
        "outputId": "52e6f955-33fd-48ff-d8dc-eef5876edb2b"
      },
      "source": [
        "Es_PML = extract_pml_geemap(band_name = 'Es', ft_collection = ft_collection)\n",
        "Ec_PML = extract_pml_geemap(band_name = 'Ec', ft_collection = ft_collection)"
      ],
      "execution_count": null,
      "outputs": [
        {
          "output_type": "stream",
          "name": "stdout",
          "text": [
            "Generating URL ...\n",
            "Downloading data from https://earthengine.googleapis.com/v1alpha/projects/earthengine-legacy/tables/971b07cca5fbc2ec16c351a622a7a84a-84e76d073a65bbb21f60065190a25214:getFeatures\n",
            "Please wait ...\n",
            "Data downloaded to /content/drive/MyDrive/PhysHydro/14046890_pml_Es_raw.csv\n",
            "Generating URL ...\n",
            "Downloading data from https://earthengine.googleapis.com/v1alpha/projects/earthengine-legacy/tables/88db5aaa9cd73c9debcae2a18271647e-06c897094d8e0ce802f1bed219d57357:getFeatures\n",
            "Please wait ...\n",
            "Data downloaded to /content/drive/MyDrive/PhysHydro/14046890_pml_Ec_raw.csv\n"
          ]
        }
      ]
    },
    {
      "cell_type": "code",
      "metadata": {
        "id": "BV_X0jX8Ijrh",
        "colab": {
          "base_uri": "https://localhost:8080/",
          "height": 206
        },
        "outputId": "6a9e1487-9980-4ddb-c2ff-9caa775733e7"
      },
      "source": [
        "# Combine Es and Ec into one df, add columns, and export\n",
        "pml_df = Es_PML.merge(Ec_PML, how = 'inner', on = 'Date')\n",
        "pml_df['ET'] = pml_df['Es'] + pml_df['Ec']\n",
        "\n",
        "# Re-export final df\n",
        "#out_csv = os.path.join(work_dir, gage+'_all_pml' + '.csv')\n",
        "#with open(out_csv, 'w') as f:\n",
        "#  pml_df.to_csv(f)\n",
        "\n",
        "pml_df.head()"
      ],
      "execution_count": null,
      "outputs": [
        {
          "output_type": "execute_result",
          "data": {
            "text/html": [
              "<div>\n",
              "<style scoped>\n",
              "    .dataframe tbody tr th:only-of-type {\n",
              "        vertical-align: middle;\n",
              "    }\n",
              "\n",
              "    .dataframe tbody tr th {\n",
              "        vertical-align: top;\n",
              "    }\n",
              "\n",
              "    .dataframe thead th {\n",
              "        text-align: right;\n",
              "    }\n",
              "</style>\n",
              "<table border=\"1\" class=\"dataframe\">\n",
              "  <thead>\n",
              "    <tr style=\"text-align: right;\">\n",
              "      <th></th>\n",
              "      <th>Es</th>\n",
              "      <th>Date</th>\n",
              "      <th>Ec</th>\n",
              "      <th>ET</th>\n",
              "    </tr>\n",
              "  </thead>\n",
              "  <tbody>\n",
              "    <tr>\n",
              "      <th>0</th>\n",
              "      <td>0.925797</td>\n",
              "      <td>2007-10-08</td>\n",
              "      <td>0.113280</td>\n",
              "      <td>1.039077</td>\n",
              "    </tr>\n",
              "    <tr>\n",
              "      <th>1</th>\n",
              "      <td>0.708248</td>\n",
              "      <td>2007-10-16</td>\n",
              "      <td>0.080885</td>\n",
              "      <td>0.789133</td>\n",
              "    </tr>\n",
              "    <tr>\n",
              "      <th>2</th>\n",
              "      <td>0.494382</td>\n",
              "      <td>2007-10-24</td>\n",
              "      <td>0.095921</td>\n",
              "      <td>0.590302</td>\n",
              "    </tr>\n",
              "    <tr>\n",
              "      <th>3</th>\n",
              "      <td>0.140201</td>\n",
              "      <td>2007-11-01</td>\n",
              "      <td>0.090291</td>\n",
              "      <td>0.230493</td>\n",
              "    </tr>\n",
              "    <tr>\n",
              "      <th>4</th>\n",
              "      <td>0.170490</td>\n",
              "      <td>2007-11-09</td>\n",
              "      <td>0.056429</td>\n",
              "      <td>0.226919</td>\n",
              "    </tr>\n",
              "  </tbody>\n",
              "</table>\n",
              "</div>"
            ],
            "text/plain": [
              "         Es       Date        Ec        ET\n",
              "0  0.925797 2007-10-08  0.113280  1.039077\n",
              "1  0.708248 2007-10-16  0.080885  0.789133\n",
              "2  0.494382 2007-10-24  0.095921  0.590302\n",
              "3  0.140201 2007-11-01  0.090291  0.230493\n",
              "4  0.170490 2007-11-09  0.056429  0.226919"
            ]
          },
          "metadata": {},
          "execution_count": 24
        }
      ]
    },
    {
      "cell_type": "markdown",
      "metadata": {
        "id": "D8uo6qrYzUaC"
      },
      "source": [
        "#**Calculate PET using Hargreaves method**"
      ]
    },
    {
      "cell_type": "markdown",
      "metadata": {
        "id": "Y7usCa7YyQt0"
      },
      "source": [
        "These two functions use the equations below from Hargreave and Samani (1985) to calculate PET. The first function calculates daily exterrestrial radiation (Rext) using the given equation from Allen et al. (1998). This equation requires the latitude of the watershed as an input and proceeds to calculate a generic Rext value for each julian day. We combine the information about daily temperature (from PRISM) with the Rext to calculate PET.\n",
        "\n",
        "Notice that the first function (getRA) is used in the second function (getPET) but is never called on its own. This is a handy way to break down complicated code into manageable, more easily testable, steps. In fact, there is one *more* hidden function we are using here... (hint: it is called getlatlon, and it is given at the beginning of this document!)."
      ]
    },
    {
      "cell_type": "markdown",
      "metadata": {
        "id": "Whvqk8ewqMBg"
      },
      "source": [
        "Hargreave and Samani 1985: Equation:\n",
        "\n",
        "Ep = 0.0023 · (Tmean + 17.8)·(Tmax − Tmin)^0.5 · 0.408 · Rext"
      ]
    },
    {
      "cell_type": "markdown",
      "metadata": {
        "id": "AnHAHiHssfWf"
      },
      "source": [
        "Rext = Exterrestrial radiation [MJ m-2 day-1] (Allen et al 1998)\n",
        "\n",
        "Equation:\n",
        "Ra = 1440/pi(Gsc)(dr)[ws*sin(ϕ)*sin(δ)+cos(ϕ)*cos(δ)*sin(ws)]"
      ]
    },
    {
      "cell_type": "markdown",
      "metadata": {
        "id": "q6zHnWnPzOHL"
      },
      "source": [
        "**Functions to calculate Rext (aka Ra) and PET:**"
      ]
    },
    {
      "cell_type": "code",
      "metadata": {
        "id": "P4rJo26w3-li"
      },
      "source": [
        "def getRA(site_lat_decimal):\n",
        "\n",
        "  ## J (julian day)\n",
        "  J = (np.linspace(1,365,365))\n",
        "\n",
        "  ## Gsc (solar constant)  [MJ m-2 day -1] \n",
        "  Gsc = 0.0820\n",
        "\n",
        "  ## inverse relative distance Earth-Sun\n",
        "  dr = 1+0.033*np.cos(((2*np.pi)/365)*J) \n",
        "\n",
        "  ## delta = solar declination [rad]\n",
        "  delta = 0.409*np.sin(((2*np.pi)/365)*J-1.39)  \n",
        "\n",
        "  ## psi [rad] = convert decimal latitude to radians\n",
        "  psi = (np.pi/180)*(32.3863) \n",
        "\n",
        "  ## omega_s (ws)= solar time angle at beginning of period [rad]\n",
        "  omega_s = np.arccos(-np.tan(psi)*np.tan(delta)) \n",
        "\n",
        "\n",
        "  ### RA = Put it all together\n",
        "\n",
        "  ## [ws * sin(psi) * sin(delta) + cos(psi) * cos(delta) * sin(ws)]\n",
        "  angles = omega_s * np.sin(psi) * np.sin(delta) + np.cos(psi) * np.cos(delta) * np.sin(omega_s)\n",
        "\n",
        "  RA = ((24*60)/np.pi) * Gsc * dr * angles\n",
        "\n",
        "  df = pd.DataFrame()\n",
        "  df['RA'] = RA\n",
        "  df['J'] = J\n",
        "  df['J']= df['J'].astype(int)\n",
        "  return df\n",
        "\n",
        "# tmin, tmax, tmean are specifying the names of the columns in the prism df (called \"p\" here)\n",
        "def getPET(gage, p, tmin = 'tmin', tmax = 'tmax', tmean = 'tmean'):\n",
        "  #p['id'] = p.index\n",
        "\n",
        "  # get RA (extraterrestrial radiation) with julian day column\n",
        "  site_lat, site_lon = get_latlon(gage)\n",
        "  RA_df = getRA(site_lat)\n",
        "\n",
        "  # add a julian day column to the original prism extraction df\n",
        "  p['J'] = pd.to_datetime(p['Date']).dt.strftime('%j')\n",
        "  p = p.dropna()\n",
        "  p['J'] = p['J'].astype(int)\n",
        "\n",
        "\n",
        "  # merge prism df with RA\n",
        "  p = p.merge(RA_df, how='left', on=['J'])\n",
        "\n",
        "  # calculate PET (Hargreave and Semani 1985)\n",
        "  # Ep = 0.0023 · (Tmean + 17.8)·(Tmax − Tmin)^0.5 · 0.408 · Rext\n",
        "  Krs = 0.0023 # Erica changed this from 0.00023 on Oct 15, 2021\n",
        "  p['PET'] = Krs * p['RA'] * np.sqrt(p[tmax] - p[tmin]) * (p[tmean] + 17.8)\n",
        "\n",
        "  p['Date'] = pd.to_datetime(p['Date'])\n",
        "  return p\n"
      ],
      "execution_count": null,
      "outputs": []
    },
    {
      "cell_type": "markdown",
      "metadata": {
        "id": "0Icuh-nezIW8"
      },
      "source": [
        "Now we can call the function getPET, which uses the function getRA and getlatlon, and we have our PET dataframe!"
      ]
    },
    {
      "cell_type": "code",
      "metadata": {
        "id": "N5NuwS43uY9V",
        "colab": {
          "base_uri": "https://localhost:8080/",
          "height": 206
        },
        "outputId": "1510074e-b869-4eb8-ac48-b8c435dd7d82"
      },
      "source": [
        "pet_df = getPET(gage, p = prism_df, tmin = 'tmin', tmax = 'tmax', tmean = 'tmean')\n",
        "pet_df.head()"
      ],
      "execution_count": null,
      "outputs": [
        {
          "output_type": "execute_result",
          "data": {
            "text/html": [
              "<div>\n",
              "<style scoped>\n",
              "    .dataframe tbody tr th:only-of-type {\n",
              "        vertical-align: middle;\n",
              "    }\n",
              "\n",
              "    .dataframe tbody tr th {\n",
              "        vertical-align: top;\n",
              "    }\n",
              "\n",
              "    .dataframe thead th {\n",
              "        text-align: right;\n",
              "    }\n",
              "</style>\n",
              "<table border=\"1\" class=\"dataframe\">\n",
              "  <thead>\n",
              "    <tr style=\"text-align: right;\">\n",
              "      <th></th>\n",
              "      <th>ppt</th>\n",
              "      <th>Date</th>\n",
              "      <th>tmin</th>\n",
              "      <th>tmax</th>\n",
              "      <th>tmean</th>\n",
              "      <th>J</th>\n",
              "      <th>RA</th>\n",
              "      <th>PET</th>\n",
              "    </tr>\n",
              "  </thead>\n",
              "  <tbody>\n",
              "    <tr>\n",
              "      <th>0</th>\n",
              "      <td>0.473</td>\n",
              "      <td>2007-10-02</td>\n",
              "      <td>3.943</td>\n",
              "      <td>14.028</td>\n",
              "      <td>8.985001</td>\n",
              "      <td>275</td>\n",
              "      <td>29.100477</td>\n",
              "      <td>5.693215</td>\n",
              "    </tr>\n",
              "    <tr>\n",
              "      <th>1</th>\n",
              "      <td>2.670</td>\n",
              "      <td>2007-10-03</td>\n",
              "      <td>5.229</td>\n",
              "      <td>16.730</td>\n",
              "      <td>10.979000</td>\n",
              "      <td>276</td>\n",
              "      <td>28.888647</td>\n",
              "      <td>6.484829</td>\n",
              "    </tr>\n",
              "    <tr>\n",
              "      <th>2</th>\n",
              "      <td>1.202</td>\n",
              "      <td>2007-10-04</td>\n",
              "      <td>1.317</td>\n",
              "      <td>13.433</td>\n",
              "      <td>7.374001</td>\n",
              "      <td>277</td>\n",
              "      <td>28.676672</td>\n",
              "      <td>5.779476</td>\n",
              "    </tr>\n",
              "    <tr>\n",
              "      <th>3</th>\n",
              "      <td>2.455</td>\n",
              "      <td>2007-10-05</td>\n",
              "      <td>0.800</td>\n",
              "      <td>11.494</td>\n",
              "      <td>6.147000</td>\n",
              "      <td>278</td>\n",
              "      <td>28.464637</td>\n",
              "      <td>5.126898</td>\n",
              "    </tr>\n",
              "    <tr>\n",
              "      <th>4</th>\n",
              "      <td>0.636</td>\n",
              "      <td>2007-10-06</td>\n",
              "      <td>-0.421</td>\n",
              "      <td>11.435</td>\n",
              "      <td>5.507000</td>\n",
              "      <td>279</td>\n",
              "      <td>28.252626</td>\n",
              "      <td>5.214854</td>\n",
              "    </tr>\n",
              "  </tbody>\n",
              "</table>\n",
              "</div>"
            ],
            "text/plain": [
              "     ppt       Date   tmin    tmax      tmean    J         RA       PET\n",
              "0  0.473 2007-10-02  3.943  14.028   8.985001  275  29.100477  5.693215\n",
              "1  2.670 2007-10-03  5.229  16.730  10.979000  276  28.888647  6.484829\n",
              "2  1.202 2007-10-04  1.317  13.433   7.374001  277  28.676672  5.779476\n",
              "3  2.455 2007-10-05  0.800  11.494   6.147000  278  28.464637  5.126898\n",
              "4  0.636 2007-10-06 -0.421  11.435   5.507000  279  28.252626  5.214854"
            ]
          },
          "metadata": {},
          "execution_count": 26
        }
      ]
    },
    {
      "cell_type": "markdown",
      "metadata": {
        "id": "pgU52kZZzXhV"
      },
      "source": [
        "#**Plot & Explore**"
      ]
    },
    {
      "cell_type": "markdown",
      "metadata": {
        "id": "bWYHjLfTgp61"
      },
      "source": [
        "##**Cumulative wateryear plots**"
      ]
    },
    {
      "cell_type": "markdown",
      "metadata": {
        "id": "w66rm9jW1ogj"
      },
      "source": [
        "Let's set up one more function to help us process and plot the data. We will make a function that adds more columns to our dataframe. These columns will have the wateryear cumulative sum of our variables."
      ]
    },
    {
      "cell_type": "code",
      "metadata": {
        "id": "fFRpEm4U01Kp"
      },
      "source": [
        "def wtryear_cum(df, et = 'ET', pet = 'PET', ppt = 'ppt', q = 'q_mm'):\n",
        "    df = df.set_index(pd.to_datetime(df['Date']))\n",
        "    df['wateryear'] = np.where(~df.index.month.isin([10,11,12]),df.index.year,df.index.year+1)\n",
        "\n",
        "    if et != np.nan:\n",
        "        df['cum_'+ et] = df.groupby(['wateryear'])[et].cumsum()\n",
        "    if pet != np.nan:\n",
        "        df['cum_'+ pet] = df.groupby(['wateryear'])[pet].cumsum()\n",
        "    if ppt != np.nan:\n",
        "        df['cum_'+ ppt] = df.groupby(['wateryear'])[ppt].cumsum()\n",
        "    if q in df.columns:\n",
        "        if q != np.nan:\n",
        "            df['cum_'+ q] = df.groupby(['wateryear'])[q].cumsum()\n",
        "\n",
        "    return df\n",
        "    "
      ],
      "execution_count": null,
      "outputs": []
    },
    {
      "cell_type": "code",
      "metadata": {
        "id": "hcqV57ho0E0L"
      },
      "source": [
        "# If our dataframes are the same size (ie start/stop dates are the same), then we can combine our data into one df\n",
        "df = pet_df.merge(pml_df, how = 'outer', on = 'Date')\n",
        "df = df.merge(q, how = 'outer', left_on = 'Date', right_on = q.index)\n",
        "\n",
        "# We also need to interpolate our ET to daily, because at the moment it is at 8 day resolution!\n",
        "df = df.interpolate(axis = 'index', method='linear', limit = 32, limit_direction='both', limit_area='inside')"
      ],
      "execution_count": null,
      "outputs": []
    },
    {
      "cell_type": "code",
      "metadata": {
        "id": "Ub48Svkt1Ry3",
        "colab": {
          "base_uri": "https://localhost:8080/",
          "height": 257
        },
        "outputId": "20270751-c819-44f9-b32e-956924e208c9"
      },
      "source": [
        "df_cumulative = wtryear_cum(df)\n",
        "df_cumulative = df_cumulative.dropna()\n",
        "df_cumulative.head()"
      ],
      "execution_count": null,
      "outputs": [
        {
          "output_type": "execute_result",
          "data": {
            "text/html": [
              "<div>\n",
              "<style scoped>\n",
              "    .dataframe tbody tr th:only-of-type {\n",
              "        vertical-align: middle;\n",
              "    }\n",
              "\n",
              "    .dataframe tbody tr th {\n",
              "        vertical-align: top;\n",
              "    }\n",
              "\n",
              "    .dataframe thead th {\n",
              "        text-align: right;\n",
              "    }\n",
              "</style>\n",
              "<table border=\"1\" class=\"dataframe\">\n",
              "  <thead>\n",
              "    <tr style=\"text-align: right;\">\n",
              "      <th></th>\n",
              "      <th>ppt</th>\n",
              "      <th>Date</th>\n",
              "      <th>tmin</th>\n",
              "      <th>tmax</th>\n",
              "      <th>tmean</th>\n",
              "      <th>J</th>\n",
              "      <th>RA</th>\n",
              "      <th>PET</th>\n",
              "      <th>Es</th>\n",
              "      <th>Ec</th>\n",
              "      <th>ET</th>\n",
              "      <th>q_cfs</th>\n",
              "      <th>q_m3day</th>\n",
              "      <th>q_m</th>\n",
              "      <th>q_mm</th>\n",
              "      <th>wateryear</th>\n",
              "      <th>cum_ET</th>\n",
              "      <th>cum_PET</th>\n",
              "      <th>cum_ppt</th>\n",
              "      <th>cum_q_mm</th>\n",
              "    </tr>\n",
              "    <tr>\n",
              "      <th>Date</th>\n",
              "      <th></th>\n",
              "      <th></th>\n",
              "      <th></th>\n",
              "      <th></th>\n",
              "      <th></th>\n",
              "      <th></th>\n",
              "      <th></th>\n",
              "      <th></th>\n",
              "      <th></th>\n",
              "      <th></th>\n",
              "      <th></th>\n",
              "      <th></th>\n",
              "      <th></th>\n",
              "      <th></th>\n",
              "      <th></th>\n",
              "      <th></th>\n",
              "      <th></th>\n",
              "      <th></th>\n",
              "      <th></th>\n",
              "      <th></th>\n",
              "    </tr>\n",
              "  </thead>\n",
              "  <tbody>\n",
              "    <tr>\n",
              "      <th>2007-10-08</th>\n",
              "      <td>0.000</td>\n",
              "      <td>2007-10-08</td>\n",
              "      <td>6.214</td>\n",
              "      <td>20.065001</td>\n",
              "      <td>13.139001</td>\n",
              "      <td>281.0</td>\n",
              "      <td>27.829022</td>\n",
              "      <td>7.370087</td>\n",
              "      <td>0.925797</td>\n",
              "      <td>0.113280</td>\n",
              "      <td>1.039077</td>\n",
              "      <td>0.44</td>\n",
              "      <td>1076.635514</td>\n",
              "      <td>0.000006</td>\n",
              "      <td>0.006339</td>\n",
              "      <td>2008.0</td>\n",
              "      <td>1.039077</td>\n",
              "      <td>41.083942</td>\n",
              "      <td>7.436</td>\n",
              "      <td>0.033277</td>\n",
              "    </tr>\n",
              "    <tr>\n",
              "      <th>2007-10-09</th>\n",
              "      <td>0.000</td>\n",
              "      <td>2007-10-09</td>\n",
              "      <td>5.449</td>\n",
              "      <td>18.113001</td>\n",
              "      <td>11.781000</td>\n",
              "      <td>282.0</td>\n",
              "      <td>27.617602</td>\n",
              "      <td>6.686704</td>\n",
              "      <td>0.898603</td>\n",
              "      <td>0.109231</td>\n",
              "      <td>1.007834</td>\n",
              "      <td>0.42</td>\n",
              "      <td>1027.697536</td>\n",
              "      <td>0.000006</td>\n",
              "      <td>0.006050</td>\n",
              "      <td>2008.0</td>\n",
              "      <td>2.046911</td>\n",
              "      <td>47.770646</td>\n",
              "      <td>7.436</td>\n",
              "      <td>0.039328</td>\n",
              "    </tr>\n",
              "    <tr>\n",
              "      <th>2007-10-10</th>\n",
              "      <td>0.838</td>\n",
              "      <td>2007-10-10</td>\n",
              "      <td>6.434</td>\n",
              "      <td>21.764999</td>\n",
              "      <td>14.099001</td>\n",
              "      <td>283.0</td>\n",
              "      <td>27.406553</td>\n",
              "      <td>7.873078</td>\n",
              "      <td>0.871410</td>\n",
              "      <td>0.105182</td>\n",
              "      <td>0.976591</td>\n",
              "      <td>0.43</td>\n",
              "      <td>1052.166525</td>\n",
              "      <td>0.000006</td>\n",
              "      <td>0.006194</td>\n",
              "      <td>2008.0</td>\n",
              "      <td>3.023502</td>\n",
              "      <td>55.643724</td>\n",
              "      <td>8.274</td>\n",
              "      <td>0.045522</td>\n",
              "    </tr>\n",
              "    <tr>\n",
              "      <th>2007-10-11</th>\n",
              "      <td>4.498</td>\n",
              "      <td>2007-10-11</td>\n",
              "      <td>2.622</td>\n",
              "      <td>13.999000</td>\n",
              "      <td>8.310000</td>\n",
              "      <td>284.0</td>\n",
              "      <td>27.195962</td>\n",
              "      <td>5.508749</td>\n",
              "      <td>0.844216</td>\n",
              "      <td>0.101132</td>\n",
              "      <td>0.945348</td>\n",
              "      <td>0.42</td>\n",
              "      <td>1027.697536</td>\n",
              "      <td>0.000006</td>\n",
              "      <td>0.006050</td>\n",
              "      <td>2008.0</td>\n",
              "      <td>3.968851</td>\n",
              "      <td>61.152474</td>\n",
              "      <td>12.772</td>\n",
              "      <td>0.051572</td>\n",
              "    </tr>\n",
              "    <tr>\n",
              "      <th>2007-10-12</th>\n",
              "      <td>0.000</td>\n",
              "      <td>2007-10-12</td>\n",
              "      <td>2.534</td>\n",
              "      <td>14.088000</td>\n",
              "      <td>8.311001</td>\n",
              "      <td>285.0</td>\n",
              "      <td>26.985919</td>\n",
              "      <td>5.508771</td>\n",
              "      <td>0.817022</td>\n",
              "      <td>0.097083</td>\n",
              "      <td>0.914105</td>\n",
              "      <td>0.39</td>\n",
              "      <td>954.290569</td>\n",
              "      <td>0.000006</td>\n",
              "      <td>0.005618</td>\n",
              "      <td>2008.0</td>\n",
              "      <td>4.882956</td>\n",
              "      <td>66.661245</td>\n",
              "      <td>12.772</td>\n",
              "      <td>0.057191</td>\n",
              "    </tr>\n",
              "  </tbody>\n",
              "</table>\n",
              "</div>"
            ],
            "text/plain": [
              "              ppt       Date   tmin  ...    cum_PET  cum_ppt  cum_q_mm\n",
              "Date                                 ...                              \n",
              "2007-10-08  0.000 2007-10-08  6.214  ...  41.083942    7.436  0.033277\n",
              "2007-10-09  0.000 2007-10-09  5.449  ...  47.770646    7.436  0.039328\n",
              "2007-10-10  0.838 2007-10-10  6.434  ...  55.643724    8.274  0.045522\n",
              "2007-10-11  4.498 2007-10-11  2.622  ...  61.152474   12.772  0.051572\n",
              "2007-10-12  0.000 2007-10-12  2.534  ...  66.661245   12.772  0.057191\n",
              "\n",
              "[5 rows x 20 columns]"
            ]
          },
          "metadata": {},
          "execution_count": 29
        }
      ]
    },
    {
      "cell_type": "code",
      "metadata": {
        "id": "AdB0N3R1k_wb",
        "colab": {
          "base_uri": "https://localhost:8080/",
          "height": 257
        },
        "outputId": "482201d1-e81d-40fc-a7a7-5114b031c34e"
      },
      "source": [
        "df_cumulative.tail()"
      ],
      "execution_count": null,
      "outputs": [
        {
          "output_type": "execute_result",
          "data": {
            "text/html": [
              "<div>\n",
              "<style scoped>\n",
              "    .dataframe tbody tr th:only-of-type {\n",
              "        vertical-align: middle;\n",
              "    }\n",
              "\n",
              "    .dataframe tbody tr th {\n",
              "        vertical-align: top;\n",
              "    }\n",
              "\n",
              "    .dataframe thead th {\n",
              "        text-align: right;\n",
              "    }\n",
              "</style>\n",
              "<table border=\"1\" class=\"dataframe\">\n",
              "  <thead>\n",
              "    <tr style=\"text-align: right;\">\n",
              "      <th></th>\n",
              "      <th>ppt</th>\n",
              "      <th>Date</th>\n",
              "      <th>tmin</th>\n",
              "      <th>tmax</th>\n",
              "      <th>tmean</th>\n",
              "      <th>J</th>\n",
              "      <th>RA</th>\n",
              "      <th>PET</th>\n",
              "      <th>Es</th>\n",
              "      <th>Ec</th>\n",
              "      <th>ET</th>\n",
              "      <th>q_cfs</th>\n",
              "      <th>q_m3day</th>\n",
              "      <th>q_m</th>\n",
              "      <th>q_mm</th>\n",
              "      <th>wateryear</th>\n",
              "      <th>cum_ET</th>\n",
              "      <th>cum_PET</th>\n",
              "      <th>cum_ppt</th>\n",
              "      <th>cum_q_mm</th>\n",
              "    </tr>\n",
              "    <tr>\n",
              "      <th>Date</th>\n",
              "      <th></th>\n",
              "      <th></th>\n",
              "      <th></th>\n",
              "      <th></th>\n",
              "      <th></th>\n",
              "      <th></th>\n",
              "      <th></th>\n",
              "      <th></th>\n",
              "      <th></th>\n",
              "      <th></th>\n",
              "      <th></th>\n",
              "      <th></th>\n",
              "      <th></th>\n",
              "      <th></th>\n",
              "      <th></th>\n",
              "      <th></th>\n",
              "      <th></th>\n",
              "      <th></th>\n",
              "      <th></th>\n",
              "      <th></th>\n",
              "    </tr>\n",
              "  </thead>\n",
              "  <tbody>\n",
              "    <tr>\n",
              "      <th>2017-09-27</th>\n",
              "      <td>0.0</td>\n",
              "      <td>2017-09-27</td>\n",
              "      <td>7.989</td>\n",
              "      <td>21.493000</td>\n",
              "      <td>14.740001</td>\n",
              "      <td>270.0</td>\n",
              "      <td>30.154558</td>\n",
              "      <td>8.293342</td>\n",
              "      <td>0.384322</td>\n",
              "      <td>0.069407</td>\n",
              "      <td>0.453729</td>\n",
              "      <td>0.95</td>\n",
              "      <td>2324.553951</td>\n",
              "      <td>0.000014</td>\n",
              "      <td>0.013685</td>\n",
              "      <td>2017.0</td>\n",
              "      <td>302.960134</td>\n",
              "      <td>2739.715500</td>\n",
              "      <td>410.151001</td>\n",
              "      <td>34.491162</td>\n",
              "    </tr>\n",
              "    <tr>\n",
              "      <th>2017-09-28</th>\n",
              "      <td>0.0</td>\n",
              "      <td>2017-09-28</td>\n",
              "      <td>9.287</td>\n",
              "      <td>23.295000</td>\n",
              "      <td>16.290001</td>\n",
              "      <td>271.0</td>\n",
              "      <td>29.944688</td>\n",
              "      <td>8.787447</td>\n",
              "      <td>0.389351</td>\n",
              "      <td>0.068446</td>\n",
              "      <td>0.457797</td>\n",
              "      <td>0.94</td>\n",
              "      <td>2300.084962</td>\n",
              "      <td>0.000014</td>\n",
              "      <td>0.013541</td>\n",
              "      <td>2017.0</td>\n",
              "      <td>303.417931</td>\n",
              "      <td>2748.502947</td>\n",
              "      <td>410.151001</td>\n",
              "      <td>34.504704</td>\n",
              "    </tr>\n",
              "    <tr>\n",
              "      <th>2017-09-29</th>\n",
              "      <td>0.0</td>\n",
              "      <td>2017-09-29</td>\n",
              "      <td>9.942</td>\n",
              "      <td>26.433001</td>\n",
              "      <td>18.187000</td>\n",
              "      <td>272.0</td>\n",
              "      <td>29.734265</td>\n",
              "      <td>9.994342</td>\n",
              "      <td>0.394379</td>\n",
              "      <td>0.067486</td>\n",
              "      <td>0.461865</td>\n",
              "      <td>0.94</td>\n",
              "      <td>2300.084962</td>\n",
              "      <td>0.000014</td>\n",
              "      <td>0.013541</td>\n",
              "      <td>2017.0</td>\n",
              "      <td>303.879796</td>\n",
              "      <td>2758.497289</td>\n",
              "      <td>410.151001</td>\n",
              "      <td>34.518245</td>\n",
              "    </tr>\n",
              "    <tr>\n",
              "      <th>2017-09-30</th>\n",
              "      <td>0.0</td>\n",
              "      <td>2017-09-30</td>\n",
              "      <td>5.821</td>\n",
              "      <td>19.934999</td>\n",
              "      <td>12.877001</td>\n",
              "      <td>273.0</td>\n",
              "      <td>29.523368</td>\n",
              "      <td>7.825853</td>\n",
              "      <td>0.399408</td>\n",
              "      <td>0.066526</td>\n",
              "      <td>0.465933</td>\n",
              "      <td>0.95</td>\n",
              "      <td>2324.553951</td>\n",
              "      <td>0.000014</td>\n",
              "      <td>0.013685</td>\n",
              "      <td>2017.0</td>\n",
              "      <td>304.345729</td>\n",
              "      <td>2766.323142</td>\n",
              "      <td>410.151001</td>\n",
              "      <td>34.531931</td>\n",
              "    </tr>\n",
              "    <tr>\n",
              "      <th>2017-10-01</th>\n",
              "      <td>0.0</td>\n",
              "      <td>2017-10-01</td>\n",
              "      <td>4.674</td>\n",
              "      <td>14.497000</td>\n",
              "      <td>9.585000</td>\n",
              "      <td>274.0</td>\n",
              "      <td>29.312078</td>\n",
              "      <td>5.786411</td>\n",
              "      <td>0.199704</td>\n",
              "      <td>0.033263</td>\n",
              "      <td>0.232967</td>\n",
              "      <td>0.94</td>\n",
              "      <td>2300.084962</td>\n",
              "      <td>0.000014</td>\n",
              "      <td>0.013541</td>\n",
              "      <td>2018.0</td>\n",
              "      <td>0.232967</td>\n",
              "      <td>5.786411</td>\n",
              "      <td>0.000000</td>\n",
              "      <td>0.013541</td>\n",
              "    </tr>\n",
              "  </tbody>\n",
              "</table>\n",
              "</div>"
            ],
            "text/plain": [
              "            ppt       Date   tmin  ...      cum_PET     cum_ppt   cum_q_mm\n",
              "Date                               ...                                    \n",
              "2017-09-27  0.0 2017-09-27  7.989  ...  2739.715500  410.151001  34.491162\n",
              "2017-09-28  0.0 2017-09-28  9.287  ...  2748.502947  410.151001  34.504704\n",
              "2017-09-29  0.0 2017-09-29  9.942  ...  2758.497289  410.151001  34.518245\n",
              "2017-09-30  0.0 2017-09-30  5.821  ...  2766.323142  410.151001  34.531931\n",
              "2017-10-01  0.0 2017-10-01  4.674  ...     5.786411    0.000000   0.013541\n",
              "\n",
              "[5 rows x 20 columns]"
            ]
          },
          "metadata": {},
          "execution_count": 30
        }
      ]
    },
    {
      "cell_type": "code",
      "metadata": {
        "id": "Z5Ahhmri3qJw",
        "colab": {
          "base_uri": "https://localhost:8080/",
          "height": 295
        },
        "outputId": "2fcf038b-f862-4726-96c3-223cd497a38a"
      },
      "source": [
        "plot_data = df_cumulative.dropna().copy()\n",
        "plt.fill_between(plot_data['Date'], 0, plot_data['cum_ppt'],color='#b1d6f0', label='Precipitation (mm)', alpha = 0.7)\n",
        "\n",
        "plt.plot(plot_data['Date'], plot_data['cum_ET'], '-',color='#ED9935', label='ET (mm)')\n",
        "plt.plot(plot_data['Date'], plot_data['cum_PET'], '-',color='#612fa3', label='PET (mm)')\n",
        "plt.plot(plot_data['Date'], plot_data['cum_q_mm'], color='darkgreen', label='Q (mm)')\n",
        "plt.legend(loc = 'best')\n",
        "plt.xlabel('Date')\n",
        "plt.ylabel('Flux (mm)')\n",
        "plt.title('USGS gage '+ gage);"
      ],
      "execution_count": null,
      "outputs": [
        {
          "output_type": "display_data",
          "data": {
            "image/png": "[encoded data removed]",
            "text/plain": [
              "<Figure size 432x288 with 1 Axes>"
            ]
          },
          "metadata": {
            "needs_background": "light"
          }
        }
      ]
    },
    {
      "cell_type": "code",
      "metadata": {
        "id": "4IRjFt1M6NzR",
        "colab": {
          "base_uri": "https://localhost:8080/",
          "height": 350
        },
        "outputId": "dd7066fe-e4f5-42c9-85cc-dc58df08399a"
      },
      "source": [
        "plt.figure(figsize=(8, 5))\n",
        "\n",
        "plot_data = df_cumulative.dropna().copy()\n",
        "\n",
        "plt.fill_between(plot_data['Date'], 0, plot_data['cum_ppt'],color='#b1d6f0', label='Precipitation (mm)', alpha = 0.7)\n",
        "\n",
        "plt.plot(plot_data['Date'], plot_data['cum_ET'], '-',color='#ED9935', label='ET (mm)')\n",
        "#plt.plot(plot_data['Date'], plot_data['cum_PET'], '-',color='#612fa3', label='PET (mm)')\n",
        "\n",
        "plt.plot(plot_data['Date'], plot_data['cum_q_mm'], color='darkgreen', label='Q (mm)')\n",
        "\n",
        "plt.legend(loc = 'best')\n",
        "plt.xlabel('Date')\n",
        "plt.ylabel('Flux (mm)')\n",
        "plt.title('USGS gage '+ gage);"
      ],
      "execution_count": null,
      "outputs": [
        {
          "output_type": "display_data",
          "data": {
            "image/png": "[encoded data removed]",
            "text/plain": [
              "<Figure size 576x360 with 1 Axes>"
            ]
          },
          "metadata": {
            "needs_background": "light"
          }
        }
      ]
    },
    {
      "cell_type": "markdown",
      "metadata": {
        "id": "8Hd7fRDAgucn"
      },
      "source": [
        "##**2.5 FLOOD FREQUENCY CURVE**"
      ]
    },
    {
      "cell_type": "markdown",
      "metadata": {
        "id": "Cd5cq2SXg0Ay"
      },
      "source": [
        "Let's go back to our USGS discharge dataframe (*q*) and plot the frequency of flooding."
      ]
    },
    {
      "cell_type": "code",
      "metadata": {
        "id": "6YiVN9yU6mpP",
        "colab": {
          "base_uri": "https://localhost:8080/",
          "height": 237
        },
        "outputId": "929f60ee-bd03-4060-f18c-d1a4171f1cf3"
      },
      "source": [
        "df_ff = q.resample('AS').max()\n",
        "df_ff.head()"
      ],
      "execution_count": null,
      "outputs": [
        {
          "output_type": "execute_result",
          "data": {
            "text/html": [
              "<div>\n",
              "<style scoped>\n",
              "    .dataframe tbody tr th:only-of-type {\n",
              "        vertical-align: middle;\n",
              "    }\n",
              "\n",
              "    .dataframe tbody tr th {\n",
              "        vertical-align: top;\n",
              "    }\n",
              "\n",
              "    .dataframe thead th {\n",
              "        text-align: right;\n",
              "    }\n",
              "</style>\n",
              "<table border=\"1\" class=\"dataframe\">\n",
              "  <thead>\n",
              "    <tr style=\"text-align: right;\">\n",
              "      <th></th>\n",
              "      <th>q_cfs</th>\n",
              "      <th>q_m3day</th>\n",
              "      <th>q_m</th>\n",
              "      <th>q_mm</th>\n",
              "    </tr>\n",
              "    <tr>\n",
              "      <th>id</th>\n",
              "      <th></th>\n",
              "      <th></th>\n",
              "      <th></th>\n",
              "      <th></th>\n",
              "    </tr>\n",
              "  </thead>\n",
              "  <tbody>\n",
              "    <tr>\n",
              "      <th>2007-01-01</th>\n",
              "      <td>0.48</td>\n",
              "      <td>1174.511470</td>\n",
              "      <td>0.000007</td>\n",
              "      <td>0.006915</td>\n",
              "    </tr>\n",
              "    <tr>\n",
              "      <th>2008-01-01</th>\n",
              "      <td>6.93</td>\n",
              "      <td>16957.009346</td>\n",
              "      <td>0.000100</td>\n",
              "      <td>0.099832</td>\n",
              "    </tr>\n",
              "    <tr>\n",
              "      <th>2009-01-01</th>\n",
              "      <td>4.85</td>\n",
              "      <td>11867.459643</td>\n",
              "      <td>0.000070</td>\n",
              "      <td>0.069868</td>\n",
              "    </tr>\n",
              "    <tr>\n",
              "      <th>2010-01-01</th>\n",
              "      <td>44.70</td>\n",
              "      <td>109376.380629</td>\n",
              "      <td>0.000644</td>\n",
              "      <td>0.643935</td>\n",
              "    </tr>\n",
              "    <tr>\n",
              "      <th>2011-01-01</th>\n",
              "      <td>24.00</td>\n",
              "      <td>58725.573492</td>\n",
              "      <td>0.000346</td>\n",
              "      <td>0.345737</td>\n",
              "    </tr>\n",
              "  </tbody>\n",
              "</table>\n",
              "</div>"
            ],
            "text/plain": [
              "            q_cfs        q_m3day       q_m      q_mm\n",
              "id                                                  \n",
              "2007-01-01   0.48    1174.511470  0.000007  0.006915\n",
              "2008-01-01   6.93   16957.009346  0.000100  0.099832\n",
              "2009-01-01   4.85   11867.459643  0.000070  0.069868\n",
              "2010-01-01  44.70  109376.380629  0.000644  0.643935\n",
              "2011-01-01  24.00   58725.573492  0.000346  0.345737"
            ]
          },
          "metadata": {},
          "execution_count": 33
        }
      ]
    },
    {
      "cell_type": "code",
      "metadata": {
        "id": "qX8Zd3KQhI9l",
        "colab": {
          "base_uri": "https://localhost:8080/",
          "height": 426
        },
        "outputId": "c4929672-0967-43f0-e003-d769042d3e39"
      },
      "source": [
        "# Sort data smallest to largest\n",
        "df_ff_sorted = df_ff.sort_values(by=\"q_mm\")\n",
        "\n",
        "df_ff_sorted"
      ],
      "execution_count": null,
      "outputs": [
        {
          "output_type": "execute_result",
          "data": {
            "text/html": [
              "<div>\n",
              "<style scoped>\n",
              "    .dataframe tbody tr th:only-of-type {\n",
              "        vertical-align: middle;\n",
              "    }\n",
              "\n",
              "    .dataframe tbody tr th {\n",
              "        vertical-align: top;\n",
              "    }\n",
              "\n",
              "    .dataframe thead th {\n",
              "        text-align: right;\n",
              "    }\n",
              "</style>\n",
              "<table border=\"1\" class=\"dataframe\">\n",
              "  <thead>\n",
              "    <tr style=\"text-align: right;\">\n",
              "      <th></th>\n",
              "      <th>q_cfs</th>\n",
              "      <th>q_m3day</th>\n",
              "      <th>q_m</th>\n",
              "      <th>q_mm</th>\n",
              "    </tr>\n",
              "    <tr>\n",
              "      <th>id</th>\n",
              "      <th></th>\n",
              "      <th></th>\n",
              "      <th></th>\n",
              "      <th></th>\n",
              "    </tr>\n",
              "  </thead>\n",
              "  <tbody>\n",
              "    <tr>\n",
              "      <th>2007-01-01</th>\n",
              "      <td>0.48</td>\n",
              "      <td>1174.511470</td>\n",
              "      <td>0.000007</td>\n",
              "      <td>0.006915</td>\n",
              "    </tr>\n",
              "    <tr>\n",
              "      <th>2015-01-01</th>\n",
              "      <td>3.74</td>\n",
              "      <td>9151.401869</td>\n",
              "      <td>0.000054</td>\n",
              "      <td>0.053877</td>\n",
              "    </tr>\n",
              "    <tr>\n",
              "      <th>2013-01-01</th>\n",
              "      <td>3.87</td>\n",
              "      <td>9469.498726</td>\n",
              "      <td>0.000056</td>\n",
              "      <td>0.055750</td>\n",
              "    </tr>\n",
              "    <tr>\n",
              "      <th>2009-01-01</th>\n",
              "      <td>4.85</td>\n",
              "      <td>11867.459643</td>\n",
              "      <td>0.000070</td>\n",
              "      <td>0.069868</td>\n",
              "    </tr>\n",
              "    <tr>\n",
              "      <th>2014-01-01</th>\n",
              "      <td>6.00</td>\n",
              "      <td>14681.393373</td>\n",
              "      <td>0.000086</td>\n",
              "      <td>0.086434</td>\n",
              "    </tr>\n",
              "    <tr>\n",
              "      <th>2016-01-01</th>\n",
              "      <td>6.75</td>\n",
              "      <td>16516.567545</td>\n",
              "      <td>0.000097</td>\n",
              "      <td>0.097239</td>\n",
              "    </tr>\n",
              "    <tr>\n",
              "      <th>2008-01-01</th>\n",
              "      <td>6.93</td>\n",
              "      <td>16957.009346</td>\n",
              "      <td>0.000100</td>\n",
              "      <td>0.099832</td>\n",
              "    </tr>\n",
              "    <tr>\n",
              "      <th>2012-01-01</th>\n",
              "      <td>10.70</td>\n",
              "      <td>26181.818182</td>\n",
              "      <td>0.000154</td>\n",
              "      <td>0.154141</td>\n",
              "    </tr>\n",
              "    <tr>\n",
              "      <th>2017-01-01</th>\n",
              "      <td>22.10</td>\n",
              "      <td>54076.465590</td>\n",
              "      <td>0.000318</td>\n",
              "      <td>0.318366</td>\n",
              "    </tr>\n",
              "    <tr>\n",
              "      <th>2011-01-01</th>\n",
              "      <td>24.00</td>\n",
              "      <td>58725.573492</td>\n",
              "      <td>0.000346</td>\n",
              "      <td>0.345737</td>\n",
              "    </tr>\n",
              "    <tr>\n",
              "      <th>2010-01-01</th>\n",
              "      <td>44.70</td>\n",
              "      <td>109376.380629</td>\n",
              "      <td>0.000644</td>\n",
              "      <td>0.643935</td>\n",
              "    </tr>\n",
              "  </tbody>\n",
              "</table>\n",
              "</div>"
            ],
            "text/plain": [
              "            q_cfs        q_m3day       q_m      q_mm\n",
              "id                                                  \n",
              "2007-01-01   0.48    1174.511470  0.000007  0.006915\n",
              "2015-01-01   3.74    9151.401869  0.000054  0.053877\n",
              "2013-01-01   3.87    9469.498726  0.000056  0.055750\n",
              "2009-01-01   4.85   11867.459643  0.000070  0.069868\n",
              "2014-01-01   6.00   14681.393373  0.000086  0.086434\n",
              "2016-01-01   6.75   16516.567545  0.000097  0.097239\n",
              "2008-01-01   6.93   16957.009346  0.000100  0.099832\n",
              "2012-01-01  10.70   26181.818182  0.000154  0.154141\n",
              "2017-01-01  22.10   54076.465590  0.000318  0.318366\n",
              "2011-01-01  24.00   58725.573492  0.000346  0.345737\n",
              "2010-01-01  44.70  109376.380629  0.000644  0.643935"
            ]
          },
          "metadata": {},
          "execution_count": 34
        }
      ]
    },
    {
      "cell_type": "code",
      "metadata": {
        "id": "ATERH1UYhPIX"
      },
      "source": [
        "# Count total obervations\n",
        "n = df_ff_sorted.shape[0]\n",
        "\n",
        "# Add a numbered column 1 -> n to use in return calculation for rank\n",
        "df_ff_sorted.insert(0, 'rank', range(1, 1 + n))"
      ],
      "execution_count": null,
      "outputs": []
    },
    {
      "cell_type": "code",
      "metadata": {
        "id": "32qlV6m3hRMy",
        "colab": {
          "base_uri": "https://localhost:8080/",
          "height": 426
        },
        "outputId": "e0c078b8-45ae-43b7-c1fc-7ae9e5d97fb5"
      },
      "source": [
        "# Calculate probability - note you may need to adjust this value based upon the time period of your data\n",
        "df_ff_sorted[\"probability\"] = (\n",
        "    (n - df_ff_sorted[\"rank\"] + 1) / (n + 1))\n",
        "df_ff_sorted[\"return-years\"] = (\n",
        "    1 / df_ff_sorted[\"probability\"])\n",
        "df_ff_sorted"
      ],
      "execution_count": null,
      "outputs": [
        {
          "output_type": "execute_result",
          "data": {
            "text/html": [
              "<div>\n",
              "<style scoped>\n",
              "    .dataframe tbody tr th:only-of-type {\n",
              "        vertical-align: middle;\n",
              "    }\n",
              "\n",
              "    .dataframe tbody tr th {\n",
              "        vertical-align: top;\n",
              "    }\n",
              "\n",
              "    .dataframe thead th {\n",
              "        text-align: right;\n",
              "    }\n",
              "</style>\n",
              "<table border=\"1\" class=\"dataframe\">\n",
              "  <thead>\n",
              "    <tr style=\"text-align: right;\">\n",
              "      <th></th>\n",
              "      <th>rank</th>\n",
              "      <th>q_cfs</th>\n",
              "      <th>q_m3day</th>\n",
              "      <th>q_m</th>\n",
              "      <th>q_mm</th>\n",
              "      <th>probability</th>\n",
              "      <th>return-years</th>\n",
              "    </tr>\n",
              "    <tr>\n",
              "      <th>id</th>\n",
              "      <th></th>\n",
              "      <th></th>\n",
              "      <th></th>\n",
              "      <th></th>\n",
              "      <th></th>\n",
              "      <th></th>\n",
              "      <th></th>\n",
              "    </tr>\n",
              "  </thead>\n",
              "  <tbody>\n",
              "    <tr>\n",
              "      <th>2007-01-01</th>\n",
              "      <td>1</td>\n",
              "      <td>0.48</td>\n",
              "      <td>1174.511470</td>\n",
              "      <td>0.000007</td>\n",
              "      <td>0.006915</td>\n",
              "      <td>0.916667</td>\n",
              "      <td>1.090909</td>\n",
              "    </tr>\n",
              "    <tr>\n",
              "      <th>2015-01-01</th>\n",
              "      <td>2</td>\n",
              "      <td>3.74</td>\n",
              "      <td>9151.401869</td>\n",
              "      <td>0.000054</td>\n",
              "      <td>0.053877</td>\n",
              "      <td>0.833333</td>\n",
              "      <td>1.200000</td>\n",
              "    </tr>\n",
              "    <tr>\n",
              "      <th>2013-01-01</th>\n",
              "      <td>3</td>\n",
              "      <td>3.87</td>\n",
              "      <td>9469.498726</td>\n",
              "      <td>0.000056</td>\n",
              "      <td>0.055750</td>\n",
              "      <td>0.750000</td>\n",
              "      <td>1.333333</td>\n",
              "    </tr>\n",
              "    <tr>\n",
              "      <th>2009-01-01</th>\n",
              "      <td>4</td>\n",
              "      <td>4.85</td>\n",
              "      <td>11867.459643</td>\n",
              "      <td>0.000070</td>\n",
              "      <td>0.069868</td>\n",
              "      <td>0.666667</td>\n",
              "      <td>1.500000</td>\n",
              "    </tr>\n",
              "    <tr>\n",
              "      <th>2014-01-01</th>\n",
              "      <td>5</td>\n",
              "      <td>6.00</td>\n",
              "      <td>14681.393373</td>\n",
              "      <td>0.000086</td>\n",
              "      <td>0.086434</td>\n",
              "      <td>0.583333</td>\n",
              "      <td>1.714286</td>\n",
              "    </tr>\n",
              "    <tr>\n",
              "      <th>2016-01-01</th>\n",
              "      <td>6</td>\n",
              "      <td>6.75</td>\n",
              "      <td>16516.567545</td>\n",
              "      <td>0.000097</td>\n",
              "      <td>0.097239</td>\n",
              "      <td>0.500000</td>\n",
              "      <td>2.000000</td>\n",
              "    </tr>\n",
              "    <tr>\n",
              "      <th>2008-01-01</th>\n",
              "      <td>7</td>\n",
              "      <td>6.93</td>\n",
              "      <td>16957.009346</td>\n",
              "      <td>0.000100</td>\n",
              "      <td>0.099832</td>\n",
              "      <td>0.416667</td>\n",
              "      <td>2.400000</td>\n",
              "    </tr>\n",
              "    <tr>\n",
              "      <th>2012-01-01</th>\n",
              "      <td>8</td>\n",
              "      <td>10.70</td>\n",
              "      <td>26181.818182</td>\n",
              "      <td>0.000154</td>\n",
              "      <td>0.154141</td>\n",
              "      <td>0.333333</td>\n",
              "      <td>3.000000</td>\n",
              "    </tr>\n",
              "    <tr>\n",
              "      <th>2017-01-01</th>\n",
              "      <td>9</td>\n",
              "      <td>22.10</td>\n",
              "      <td>54076.465590</td>\n",
              "      <td>0.000318</td>\n",
              "      <td>0.318366</td>\n",
              "      <td>0.250000</td>\n",
              "      <td>4.000000</td>\n",
              "    </tr>\n",
              "    <tr>\n",
              "      <th>2011-01-01</th>\n",
              "      <td>10</td>\n",
              "      <td>24.00</td>\n",
              "      <td>58725.573492</td>\n",
              "      <td>0.000346</td>\n",
              "      <td>0.345737</td>\n",
              "      <td>0.166667</td>\n",
              "      <td>6.000000</td>\n",
              "    </tr>\n",
              "    <tr>\n",
              "      <th>2010-01-01</th>\n",
              "      <td>11</td>\n",
              "      <td>44.70</td>\n",
              "      <td>109376.380629</td>\n",
              "      <td>0.000644</td>\n",
              "      <td>0.643935</td>\n",
              "      <td>0.083333</td>\n",
              "      <td>12.000000</td>\n",
              "    </tr>\n",
              "  </tbody>\n",
              "</table>\n",
              "</div>"
            ],
            "text/plain": [
              "            rank  q_cfs        q_m3day  ...      q_mm  probability  return-years\n",
              "id                                      ...                                     \n",
              "2007-01-01     1   0.48    1174.511470  ...  0.006915     0.916667      1.090909\n",
              "2015-01-01     2   3.74    9151.401869  ...  0.053877     0.833333      1.200000\n",
              "2013-01-01     3   3.87    9469.498726  ...  0.055750     0.750000      1.333333\n",
              "2009-01-01     4   4.85   11867.459643  ...  0.069868     0.666667      1.500000\n",
              "2014-01-01     5   6.00   14681.393373  ...  0.086434     0.583333      1.714286\n",
              "2016-01-01     6   6.75   16516.567545  ...  0.097239     0.500000      2.000000\n",
              "2008-01-01     7   6.93   16957.009346  ...  0.099832     0.416667      2.400000\n",
              "2012-01-01     8  10.70   26181.818182  ...  0.154141     0.333333      3.000000\n",
              "2017-01-01     9  22.10   54076.465590  ...  0.318366     0.250000      4.000000\n",
              "2011-01-01    10  24.00   58725.573492  ...  0.345737     0.166667      6.000000\n",
              "2010-01-01    11  44.70  109376.380629  ...  0.643935     0.083333     12.000000\n",
              "\n",
              "[11 rows x 7 columns]"
            ]
          },
          "metadata": {},
          "execution_count": 36
        }
      ]
    },
    {
      "cell_type": "code",
      "metadata": {
        "id": "PJaWyNt8hUXU",
        "colab": {
          "base_uri": "https://localhost:8080/",
          "height": 313
        },
        "outputId": "d20c4ecf-fb5a-4cb9-e991-394ca2d3ac5a"
      },
      "source": [
        "plt.scatter(df_ff_sorted['return-years'],df_ff_sorted['q_cfs'])\n",
        "plt.xlabel('Return Period (years)')\n",
        "plt.ylabel('Discharge ($ft^3/sec$)')\n",
        "plt.title('Flood frequency at ' + str(gage))"
      ],
      "execution_count": null,
      "outputs": [
        {
          "output_type": "execute_result",
          "data": {
            "text/plain": [
              "Text(0.5, 1.0, 'Flood frequency at 14046890')"
            ]
          },
          "metadata": {},
          "execution_count": 37
        },
        {
          "output_type": "display_data",
          "data": {
            "image/png": "[encoded data removed]",
            "text/plain": [
              "<Figure size 432x288 with 1 Axes>"
            ]
          },
          "metadata": {
            "needs_background": "light"
          }
        }
      ]
    },
    {
      "cell_type": "code",
      "metadata": {
        "id": "hON7tnrx_Iyz",
        "colab": {
          "base_uri": "https://localhost:8080/",
          "height": 313
        },
        "outputId": "3d843572-4645-418c-eaf5-105b05bff283"
      },
      "source": [
        "def linear_model(x, m):\n",
        "  return m*x\n",
        "\n",
        "params, covariance = scipy.optimize.curve_fit(linear_model,df_ff_sorted['return-years'], df_ff_sorted['q_cfs'])\n",
        "m = params[0]\n",
        "m_err = covariance[0,0]**.5\n",
        "x_fit=[]\n",
        "x_fit_bounds=[0,12]\n",
        "for i in range(1000):\n",
        "  x_fit.append(float(i)*x_fit_bounds[1]/1000)\n",
        "y_fit=[]\n",
        "for i in range(len(x_fit)):\n",
        "  y_fit.append(linear_model(x_fit[i],m))\n",
        "\n",
        "plt.plot(x_fit, y_fit, 'r')\n",
        "plt.scatter(df_ff_sorted['return-years'],df_ff_sorted['q_cfs'])\n",
        "plt.xlabel('Return Period (years)')\n",
        "plt.ylabel('Discharge ($ft^3/sec$)')\n",
        "plt.title('Flood frequency at ' + str(gage))\n",
        "\n",
        "print('Best Fit Slope =', m)\n",
        "\n",
        "\n",
        "\n",
        "\n",
        "# plt.plot()\n",
        "# model.fit(df_ff_sorted['return-years'],df_ff_sorted['q_cfs'])"
      ],
      "execution_count": null,
      "outputs": [
        {
          "output_type": "stream",
          "name": "stdout",
          "text": [
            "Best Fit Slope = 3.8276752880940714\n"
          ]
        },
        {
          "output_type": "display_data",
          "data": {
            "image/png": "[encoded data removed]",
            "text/plain": [
              "<Figure size 432x288 with 1 Axes>"
            ]
          },
          "metadata": {
            "needs_background": "light"
          }
        }
      ]
    }
  ]
}