{
  "nbformat": 4,
  "nbformat_minor": 0,
  "metadata": {
    "colab": {
      "name": "Introduction_to_Colab.ipynb",
      "provenance": [],
      "collapsed_sections": [
        "3nZcRIoAhixP",
        "n-M9EhLXXVSe"
      ],
      "toc_visible": true,
      "authorship_tag": "ABX9TyPb4yCpPuNbO+o0K8GfC8TF",
      "include_colab_link": true
    },
    "kernelspec": {
      "name": "python3",
      "display_name": "Python 3"
    },
    "language_info": {
      "name": "python"
    }
  },
  "cells": [
    {
      "cell_type": "markdown",
      "metadata": {
        "id": "view-in-github",
        "colab_type": "text"
      },
      "source": [
        "<a href=\"https://colab.research.google.com/github/erica-mccormick/tutorials/blob/main/Introduction_to_Colab.ipynb\" target=\"_parent\"><img src=\"https://colab.research.google.com/assets/colab-badge.svg\" alt=\"Open In Colab\"/></a>"
      ]
    },
    {
      "cell_type": "markdown",
      "source": [
        "# **Helpful Tips & Tricks for Python and GoogleColab**\n",
        "## Erica McCormick | 2022"
      ],
      "metadata": {
        "id": "0KOIsh_9dfC1"
      }
    },
    {
      "cell_type": "markdown",
      "source": [
        "# **Colab Caveat**:"
      ],
      "metadata": {
        "id": "3nZcRIoAhixP"
      }
    },
    {
      "cell_type": "markdown",
      "source": [
        "GoogleColab is great for testing out Python code quickly and for making easily-sharable notebooks (the .ipynb ending) with lots of documentation.\n",
        "\n",
        "However, using a code editor to work with .py files directly can also be powerful and efficient once you learn the basics.\n",
        "\n",
        "Some of the advantages to developing your skill in using a code editor are:\n",
        "\n",
        "* Easily install & keep track of external packages and environments \n",
        "  * No pip installing each time = faster!\n",
        "  * No authentication each time = faster!\n",
        "  * Use conda to make environments so your code will still run years from now when there is a new Python version and updated packages!\n",
        "  * Colab could change at any time without warning, or become $$$!\n",
        "* Make scripts, not chunks\n",
        "  * Python files run from the beginning every time\n",
        "  * This avoids accidentally running Colab chunks out of order and getting weird results!\n",
        "* Save your figures and data\n",
        "  * You can make folders right from your Python code\n",
        "  * You can save right to your computer without going through Drive\n",
        "  * Make and save more data and figures throughout the analysis process\n",
        "* Easier version control (such as GitHub)\n",
        "  *  Reduce the chance of losing unsaved or overwritten data in a shared Colab file!\n",
        "  * Get acquainted with command line git commands\n",
        "  * Utilize features like 'branches' which let you work on your code AND still run the old version at the same time.\n",
        "* Turn your code into functions and your functions into modules (ie packages!)\n",
        "  * Functions and modules let you reuse your code over and and over for different projects - so fast and efficient!\n",
        "  * Make bigger projects and maintain organization and structure\n",
        "  * You can also learn to make tests for your code, and practice coding paradigms like \"[functional programming](https://realpython.com/python-functional-programming/)\" and \"[object oriented programming](https://realpython.com/python3-object-oriented-programming/)\" which are very hire-able skills and give you power to work efficiently!\n",
        "* Run your code on more complicated machines - like supercomputers - by interacting with computers via the command line (like bash). This is actually super duper easy to learn!\n"
      ],
      "metadata": {
        "id": "n-M9EhLXXVSe"
      }
    },
    {
      "cell_type": "markdown",
      "source": [
        "If you're feeling convinced, a popular and easy-to-use code editor right now is [Visual Studio Code](https://code.visualstudio.com/). There are many others, though! \n",
        "\n",
        "Watch this (and read the article) on \"[Finding the Perfect Python Code Editor](https://realpython.com/courses/finding-perfect-python-code-editor/).\"\n",
        "\n",
        "All of the code here will work anywhere - Colab or elsewhere."
      ],
      "metadata": {
        "id": "nl4iJoKIa_CP"
      }
    },
    {
      "cell_type": "markdown",
      "source": [
        "#**Import Packages**"
      ],
      "metadata": {
        "id": "VC0Z2IqlWdlp"
      }
    },
    {
      "cell_type": "markdown",
      "source": [
        "Generic packages you'll almost always import:\n",
        "\n",
        "The ``as`` convention lets you 'rename' the package for when you use it in this file only. Many packages have common nicknames.\n",
        "\n",
        "The `.` notation in ``matplotlib.pyplot`` means that we are importing the module ``pyplot`` from the package ``matplotlib`` and nicknaming it plt. This is more efficient than writing matplotlib.pyplot() every time we want to use a function from the module."
      ],
      "metadata": {
        "id": "zU_Lh50ad13b"
      }
    },
    {
      "cell_type": "code",
      "source": [
        "import pandas as pd # dealing with dataframes\n",
        "import numpy as np # dealing with numbers and arrays\n",
        "import matplotlib # plotting\n",
        "import matplotlib.pyplot as plt # plotting\n",
        "import seaborn as sns # an alternative plotting package to matplotlib"
      ],
      "metadata": {
        "id": "szND-l7PHHAm"
      },
      "execution_count": null,
      "outputs": []
    },
    {
      "cell_type": "markdown",
      "source": [
        "If a package isn't included in colab, you'll need to pip install it, like the following two packages:\n",
        "* Rasterio (pronounced raster - eye - oh) has tools for rasters (like .tiff)\n",
        "* Geopandas has lots of geospatial tools but is commonly used in our lab for dealing with vector-based files like shapefiles (.shp)."
      ],
      "metadata": {
        "id": "NY16BZi-d3x9"
      }
    },
    {
      "cell_type": "markdown",
      "source": [
        "Be aware there are packages that often have similiar names to the real package, but which may in fact contain security bugs that steal your information. Do a quick search and double check the spelling for any packages you use to check for malicious similiar names. "
      ],
      "metadata": {
        "id": "39rjTNQLg7RI"
      }
    },
    {
      "cell_type": "code",
      "source": [
        "pip install rasterio"
      ],
      "metadata": {
        "id": "bQ2EpAoVe93G"
      },
      "execution_count": null,
      "outputs": []
    },
    {
      "cell_type": "code",
      "source": [
        "pip install geopandas"
      ],
      "metadata": {
        "id": "Oa_7noJQfQ-I"
      },
      "execution_count": null,
      "outputs": []
    },
    {
      "cell_type": "code",
      "source": [
        "import rasterio as rio\n",
        "import geopandas as gpd"
      ],
      "metadata": {
        "id": "VFPM34G5fUCv"
      },
      "execution_count": null,
      "outputs": []
    },
    {
      "cell_type": "markdown",
      "source": [
        "## Google Earth Engine"
      ],
      "metadata": {
        "id": "mYJVhyP4Wfzz"
      }
    },
    {
      "cell_type": "markdown",
      "source": [
        "New users sign up [here](https://earthengine.google.com/new_signup/). The authentication steps can change, so be aware. [This page](https://developers.google.com/earth-engine/guides/python_install) seems to be detailing the new authentication steps as of late 2022. If you are not using Colab (and opt to use a code editor like Visual Studio Code - VSCode for short - you can save your authentication keys and skip this step. This process is changing so you might have to do some digging to find out how."
      ],
      "metadata": {
        "id": "KTVAj-4eWhlf"
      }
    },
    {
      "cell_type": "code",
      "source": [
        ""
      ],
      "metadata": {
        "id": "bSJrp1VXi-Lt"
      },
      "execution_count": null,
      "outputs": []
    },
    {
      "cell_type": "code",
      "source": [
        "import ee\n",
        "\n",
        "# This step will prompt for logins and warnings to agree to\n",
        "ee.Authenticate()\n",
        "\n",
        "ee.Initialize()"
      ],
      "metadata": {
        "id": "3cGvTjBYWcx6"
      },
      "execution_count": null,
      "outputs": []
    },
    {
      "cell_type": "markdown",
      "source": [
        "## Erica's Packages"
      ],
      "metadata": {
        "id": "wLLxAN48hz7G"
      }
    },
    {
      "cell_type": "markdown",
      "source": [
        "Erica has a few packages and modules made specifically for our group! There are detailed tutorials and documentation elsewhere, but in general they are pip installable."
      ],
      "metadata": {
        "id": "2cGL9wxHh2oW"
      }
    },
    {
      "cell_type": "markdown",
      "source": [
        "WaterPyk extracts point, watershed, and polygon data from GEE assets, performs simple analyses (like wateryear aggregation and the root-zone water storage deficit calculation), and makes commonly used plots!\n",
        "\n",
        "After installing, import the waterpyk package to get all the functions individually and the StudyArea class which, when given a lat/long, watershed ID, or geopandas geodataframe, runs all of the necessary analyses in one line!\n",
        "\n",
        "[Documenation](https://waterpyk.readthedocs.io/en/latest/)\n",
        "\n",
        "[Colab Tutorial](https://colab.research.google.com/github/erica-mccormick/waterpyk/blob/main/waterpyk_tutorialL.ipynb)"
      ],
      "metadata": {
        "id": "pl6miUT3iLGr"
      }
    },
    {
      "cell_type": "code",
      "source": [
        "pip install waterpyk"
      ],
      "metadata": {
        "id": "v4-Cl4vPiBF5"
      },
      "execution_count": null,
      "outputs": []
    },
    {
      "cell_type": "code",
      "source": [
        "import waterpyk\n",
        "from waterpyk.main import StudyArea"
      ],
      "metadata": {
        "id": "K-N-qHWXiCK5"
      },
      "execution_count": null,
      "outputs": []
    },
    {
      "cell_type": "markdown",
      "source": [
        "I have a raster and shapefile tools package under development that will be here soon!"
      ],
      "metadata": {
        "id": "8OOuGin9ikYD"
      }
    },
    {
      "cell_type": "markdown",
      "source": [
        "## From GitHub"
      ],
      "metadata": {
        "id": "N8HHwBL7gpyn"
      }
    },
    {
      "cell_type": "markdown",
      "source": [
        "To import code from GitHub to use as a package, grab the 'raw' URL from the website. Here's an example that imports a python file from GitHub. Note that the name of the file (everything between the last ``/`` and the ``.py`` must exactly match what is typed in the ``import FILE_NAME`` statement."
      ],
      "metadata": {
        "id": "2zhfM7AlJv1a"
      }
    },
    {
      "cell_type": "code",
      "source": [
        "import requests"
      ],
      "metadata": {
        "id": "Jn0ttgn1LmW-"
      },
      "execution_count": null,
      "outputs": []
    },
    {
      "cell_type": "code",
      "source": [
        "url = 'https://raw.githubusercontent.com/DendraScience/dendra-api-client-python/master/dendra_api_client.py'\n",
        "r = requests.get(url)\n",
        "with open('dendra_api_client.py', 'w') as f:\n",
        "  f.write(r.text)\n",
        "\n",
        "import dendra_api_client as dendra\n"
      ],
      "metadata": {
        "id": "RIRVl2jfLkf-"
      },
      "execution_count": null,
      "outputs": []
    },
    {
      "cell_type": "markdown",
      "source": [
        "#**Importing Files**"
      ],
      "metadata": {
        "id": "1boqZ1GZErIa"
      }
    },
    {
      "cell_type": "markdown",
      "source": [
        "##Mount Drive\n",
        "This chunk must be run to use ''content/drive/'' as a path or to export files to GoogleDrive. Will require authentication via a pop-up."
      ],
      "metadata": {
        "id": "oEQ2-cgPFLPA"
      }
    },
    {
      "cell_type": "code",
      "execution_count": null,
      "metadata": {
        "colab": {
          "base_uri": "https://localhost:8080/"
        },
        "id": "B4Fw8EpXEgLp",
        "outputId": "66f8f585-9975-4fb4-e4ba-fb84502add53"
      },
      "outputs": [
        {
          "output_type": "stream",
          "name": "stdout",
          "text": [
            "Mounted at /content/drive\n"
          ]
        }
      ],
      "source": [
        "# Mount Drive\n",
        "from google.colab import drive\n",
        "drive.mount('/content/drive')"
      ]
    },
    {
      "cell_type": "markdown",
      "source": [
        "## Import GoogleSheets\n",
        "Use the URL to get the docID (unique to each file) and the gID (unique to each page of a file). Make sure the file has share priveleges enabled if you want others to use this code. The formula in the line 'df...' stays the same for any sheet. "
      ],
      "metadata": {
        "id": "zS8JiznFFbGJ"
      }
    },
    {
      "cell_type": "code",
      "source": [
        "# Example sheets:\n",
        "# https://docs.google.com/spreadsheets/d/1mUapzkCggRwQDpIxxOStomeXw7yfd4lQ6RiF7fptmJ0/edit#gid=0\n",
        "\n",
        "docID = '1mUapzkCggRwQDpIxxOStomeXw7yfd4lQ6RiF7fptmJ0' # unique to file - can be found in URL above\n",
        "gID = '0' # different for each page\n",
        "df = pd.read_csv('https://docs.google.com/spreadsheets/d/' + docID + '/export?gid=' + gID + '&format=csv')"
      ],
      "metadata": {
        "id": "MIVD2TZqFJCA"
      },
      "execution_count": null,
      "outputs": []
    },
    {
      "cell_type": "markdown",
      "source": [
        "## Import file from Drive\n",
        "For a file in drive such as .csv, .tif, .shp, etc, you can import using a file path to that file. Click the top symbol on the lefthand sidebar with 3 dots and 3 lines to browse Drive (if it is mounted, see above). Right click on a file to get its path. Here are some examples of how that might look for various data types and packages. More info on packages above.\n",
        "\n",
        "You can also import files with raw URLs from GitHub, Hydroshare, and many other places. Just make sure you grab the 'raw' URL. On GitHub, there is a button in the upper right of the page when you are looking at the file in question and on Hydroshare there is a 'link' button that will copy the raw URL."
      ],
      "metadata": {
        "id": "j5M4CcFLF5xW"
      }
    },
    {
      "cell_type": "code",
      "source": [
        "# Import csv using pandas package\n",
        "df = pd.read_csv('YOUR_DRIVE_PATH_HERE.csv')\n",
        "\n",
        "# Import raster (.tif or .tiff) using rasterio package\n",
        "with rio.open('YOUR_DRIVE_PATH_HERE.tif') as src:\n",
        "  array = src.read()\n",
        "\n",
        "# Import shapefile using geopandas package\n",
        "gdf = gpd.read_data('YOUR DRIVE_PATH_HERE.shp')"
      ],
      "metadata": {
        "id": "0kjwxgDDGQdM"
      },
      "execution_count": null,
      "outputs": []
    },
    {
      "cell_type": "markdown",
      "source": [
        "#**Exporting**"
      ],
      "metadata": {
        "id": "BNKIV9OIEx1R"
      }
    },
    {
      "cell_type": "markdown",
      "source": [
        "## Export figures"
      ],
      "metadata": {
        "id": "koyNCPCjgDL_"
      }
    },
    {
      "cell_type": "markdown",
      "source": [
        "The file name in plt.savefig and files.download must match.\n",
        "\n",
        "This code works for any extension: pdf, png, etc.\n",
        "\n",
        "Using plt.savefig will work even if a seaborn plot has been created, though you may need to assign the seaborn figure to a variable name to use some matplotlib functions."
      ],
      "metadata": {
        "id": "szmJQzPdgSFV"
      }
    },
    {
      "cell_type": "code",
      "source": [
        "from google.colab import files\n",
        "plt.savefig('FILE_NAME.png', bbox_inches = 'tight', pad_inches = 0.1)\n",
        "files.download('FILE_NAME.png')\n",
        "\n",
        "# Note that if any part of plot is being cut=off during export, \n",
        "# you can add the following to plt.savefig and adjust as needed:\n",
        "plt.savefig('FILE_NAME.png', bbox_inches = 'tight', pad_inches = 0.1)"
      ],
      "metadata": {
        "id": "uHVHLUPtgEpC"
      },
      "execution_count": null,
      "outputs": []
    },
    {
      "cell_type": "code",
      "source": [
        "# To optimize plot exports for AdobeIllustrator\n",
        "plt.rcParams['pdf.fonttype'] = 42\n",
        "plt.rcParams['ps.fonttype'] = 42"
      ],
      "metadata": {
        "id": "d75ZohAmE0xm"
      },
      "execution_count": null,
      "outputs": []
    },
    {
      "cell_type": "markdown",
      "source": [
        "## Export csv to Drive"
      ],
      "metadata": {
        "id": "rKcPaLhnHkEF"
      }
    },
    {
      "cell_type": "code",
      "source": [
        "path = 'YOUR_DRIVE_PATH_HERE/NEW_FILE_NAME.csv'\n",
        "with open(path, 'w') as f:\n",
        "  df.to_csv(f)"
      ],
      "metadata": {
        "id": "DYyBJCZJHi7Q"
      },
      "execution_count": null,
      "outputs": []
    },
    {
      "cell_type": "markdown",
      "source": [
        "## Exporting from GEE"
      ],
      "metadata": {
        "id": "p6NhsOtxML7p"
      }
    },
    {
      "cell_type": "markdown",
      "metadata": {
        "id": "_Z8wc8z70LU5"
      },
      "source": [
        "\n",
        "* The majority of the keys in this dictionary (notice the { around task_config... this is a dictionary!) are optional. \n",
        "* The 'folder' key will save the .tiff in the most recently created folder with that name anywhere in your GoogleDrive. You can't specify a direct path, simply the name of a folder. If you don't specify this, the raster will be saved in your main folder.\n",
        "* There are additional keyword arguments you can use (ie add to this dictionary), so read some documentation to find out more!\n"
      ]
    },
    {
      "cell_type": "markdown",
      "source": [
        "Export GEE Image to .tif in Drive"
      ],
      "metadata": {
        "id": "pxMadEyGNQTa"
      }
    },
    {
      "cell_type": "code",
      "metadata": {
        "id": "q33lW8WB4qWi"
      },
      "source": [
        "to_save = IMAGE_TO_SAVE.toDouble().clip(tx.geometry()) # convert .toDouble() and clip to desired geometry\n",
        "task_config = {\n",
        "        'region': tx.geometry(), # repeat desired geometry\n",
        "        'fileFormat': 'GeoTIFF',\n",
        "        'fileNamePrefix': 'FILE_NAME',\n",
        "        'image': to_save,\n",
        "        'description': 'DESCRIPTION_OF_FILE',\n",
        "        'folder': 'FOLDER_NAME'\n",
        "        'scale': 1000, # scale in m^2, but its not exact\n",
        "        'maxPixels': 10000000000000 # how many pixels you wantt o export. If too small, will throw error.\n",
        "    }\n",
        "\n",
        "task=ee.batch.Export.image.toDrive(**task_config)\n",
        "task.start()"
      ],
      "execution_count": null,
      "outputs": []
    },
    {
      "cell_type": "markdown",
      "metadata": {
        "id": "_lsEptaY0Msl"
      },
      "source": [
        "Export GEE Image to GEE asset"
      ]
    },
    {
      "cell_type": "code",
      "metadata": {
        "id": "iM09IN02aYcc"
      },
      "source": [
        "to_save = IMAGE_TO_SAVE.clip(tx.geometry()) # DOn't need the .toDouble() but do clip to geometry\n",
        "task_config = {\n",
        "        'region': ca.geometry(),\n",
        "        'image': to_save,\n",
        "        'description': 'DESCRIPTION_OF_FILE',\n",
        "        'assetId' : 'users/ericaelmstead/ASSET_NAME', # The full path and name of the asset\n",
        "        'scale': 1000,\n",
        "        'maxPixels': 10000000000000\n",
        "    }\n",
        "\n",
        "task=ee.batch.Export.image.toAsset(**task_config)\n",
        "task.start()"
      ],
      "execution_count": null,
      "outputs": []
    },
    {
      "cell_type": "markdown",
      "source": [
        "#**Plotting**"
      ],
      "metadata": {
        "id": "eW1Gyjq4E3Dl"
      }
    },
    {
      "cell_type": "markdown",
      "source": [
        "## Matplotlib parameters"
      ],
      "metadata": {
        "id": "ogPTsYRZQMGW"
      }
    },
    {
      "cell_type": "code",
      "source": [
        "# To optimize plot exports for AdobeIllustrator (to increase likelihood fonts are recognized)\n",
        "plt.rcParams['pdf.fonttype'] = 42\n",
        "plt.rcParams['ps.fonttype'] = 42"
      ],
      "metadata": {
        "id": "AYLNVVJlE4uy"
      },
      "execution_count": null,
      "outputs": []
    },
    {
      "cell_type": "markdown",
      "source": [
        "## Make a custom legend"
      ],
      "metadata": {
        "id": "FPy-i57iN1JN"
      }
    },
    {
      "cell_type": "markdown",
      "source": [
        "There are so many options, see [here](https://matplotlib.org/stable/gallery/text_labels_and_annotations/custom_legends.html), but this is an example of a custom legend!"
      ],
      "metadata": {
        "id": "3c5KWIAZPoL7"
      }
    },
    {
      "cell_type": "code",
      "source": [
        "# Make custom legend with these matplotlib modules (THERE ARE MORE!)\n",
        "from matplotlib.patches import Patch\n",
        "from matplotlib.lines import Line2D\n",
        "\n",
        "# Set up lists of colors and years\n",
        "colors = np.array([\"#ee6cba\",\"#745f4f\",\"#d97b00\",\"#6b3ba9\",\"#c009fd\",\"#968ac3\",\"#8be088\",\"#2a9452\",\"#221ffa\", \"#e5c006\",\"#72f986\",\"#d90000\",\"#3a3f39\",\"#ecadd7\"])\n",
        "years = np.arange(2003, 2018, step=1)\n",
        "\n",
        "# Loop through the colors and years to make dots with each color and labels, for example\n",
        "legend_elements = []\n",
        "for i in range(len(years)-1):\n",
        "  new_element = [Line2D([0], [0],\n",
        "                 marker='o',\n",
        "                 color='k',\n",
        "                 label=years[i],\n",
        "                 markerfacecolor=colors[i],\n",
        "                 markersize=15)\n",
        "                 ]\n",
        "  legend_elements.extend(new_element)\n",
        "\n",
        "# Makes figure and shows legend\n",
        "fig, ax = plt.subplots(figsize = (3,3),dpi=300)\n",
        "ax.legend(handles=legend_elements, loc='center', frameon = False)\n",
        "\n",
        "# Get rid of box around plot and axes labels\n",
        "ax.spines['top'].set_visible(False)\n",
        "ax.spines['right'].set_visible(False)\n",
        "ax.spines['bottom'].set_visible(False)\n",
        "ax.spines['left'].set_visible(False)\n",
        "ax.get_xaxis().set_ticks([])\n",
        "ax.get_yaxis().set_ticks([])\n",
        "\n",
        "plt.show()"
      ],
      "metadata": {
        "colab": {
          "base_uri": "https://localhost:8080/",
          "height": 969
        },
        "id": "J8hwtI-NN3Rs",
        "outputId": "2d9d45d3-8ac2-42be-eb66-8c44ac3caded"
      },
      "execution_count": null,
      "outputs": [
        {
          "output_type": "display_data",
          "data": {
            "text/plain": [
              "<Figure size 900x900 with 1 Axes>"
            ],
            "image/png": "[encoded data removed]"
          },
          "metadata": {}
        }
      ]
    },
    {
      "cell_type": "markdown",
      "source": [
        "#**Background Reading**\n",
        "\n",
        "Good resources for reading more about Python coding practices and particularly techniques used in this tutorial.\n",
        "\n",
        "In general, I highly recommend the website [RealPython](https://realpython.com/). In Erica's opinion, its even worth the subscription price for unlimited articles! 😀"
      ],
      "metadata": {
        "id": "LyLGpo0PH5zl"
      }
    },
    {
      "cell_type": "markdown",
      "source": [
        "## Context Managers  \n",
        "\n"
      ],
      "metadata": {
        "id": "RamrxAPdIDES"
      }
    },
    {
      "cell_type": "markdown",
      "source": [
        "Notice how when opening a raster with rasterio or while saving a .csv to Drive, we use this formula that starts with ``with``?\n",
        "\n",
        "\n",
        "```\n",
        "with func(something) as var:\n",
        "  do_something(var)\n",
        "\n",
        "```\n",
        "\n",
        "This setup is called a context manager, and it ensures that when we open a file or path, that file will be closed properly once we are done running the code in the indented block (ie the do_something).\n",
        "\n",
        "Read more about that [here](https://realpython.com/python-with-statement/)\n",
        "\n"
      ],
      "metadata": {
        "id": "0l8-lVLyNsJb"
      }
    },
    {
      "cell_type": "markdown",
      "source": [
        "## Working outside of Colab"
      ],
      "metadata": {
        "id": "_-5wwQSrfhV_"
      }
    },
    {
      "cell_type": "markdown",
      "source": [
        "* Consider using conda to create environments and install and manage packages, instead of pip. An environment is a list of packages and their versions that you can name. Having an environment for each project lets you easily switch between projects with different package needs without re-importing or having conflicting package versions!"
      ],
      "metadata": {
        "id": "DGnMv33EfjAr"
      }
    },
    {
      "cell_type": "markdown",
      "source": [
        "* To import and save a GitHub file in a code folder, you can use the urlopen package like this.Here, for example, the code checks if the file is already importable (ie in the code/ folder), and if not, it gets it from GitHub."
      ],
      "metadata": {
        "id": "5c0r33jLLvpB"
      }
    },
    {
      "cell_type": "code",
      "source": [
        "import urlopen"
      ],
      "metadata": {
        "id": "aZpTb5iwL_bp"
      },
      "execution_count": null,
      "outputs": []
    },
    {
      "cell_type": "code",
      "source": [
        "try:\n",
        "    import dendra_api_client as dendra\n",
        "except ModuleNotFoundError:\n",
        "    print('\\nDownloading the dendra_api_client module from:')\n",
        "    url = 'https://raw.githubusercontent.com/DendraScience/dendra-api-client-python/master/dendra_api_client.py'\n",
        "    print(url)\n",
        "    with urlopen(url) as f:\n",
        "        data = f.read()\n",
        "    with open('code/' + url.split('/')[-1], 'wb') as myfile:\n",
        "        myfile.write(data)\n",
        "    import dendra_api_client as dendra\n"
      ],
      "metadata": {
        "id": "c3g9K7n9L23A"
      },
      "execution_count": null,
      "outputs": []
    }
  ]
}