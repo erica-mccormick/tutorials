{
  "nbformat": 4,
  "nbformat_minor": 0,
  "metadata": {
    "colab": {
      "name": "Introduction_to_GEE.ipynb",
      "provenance": [],
      "collapsed_sections": [],
      "include_colab_link": true
    },
    "kernelspec": {
      "name": "python3",
      "display_name": "Python 3"
    },
    "language_info": {
      "name": "python"
    }
  },
  "cells": [
    {
      "cell_type": "markdown",
      "metadata": {
        "id": "view-in-github",
        "colab_type": "text"
      },
      "source": [
        "<a href=\"https://colab.research.google.com/github/erica-mccormick/tutorials/blob/main/Introduction_to_GEE.ipynb\" target=\"_parent\"><img src=\"https://colab.research.google.com/assets/colab-badge.svg\" alt=\"Open In Colab\"/></a>"
      ]
    },
    {
      "cell_type": "markdown",
      "metadata": {
        "id": "YAbVFyFoE-LU"
      },
      "source": [
        "#**Introduction to Google Earth Engine**\n",
        "\n",
        "Erica McCormick | 09/15/2021"
      ]
    },
    {
      "cell_type": "markdown",
      "metadata": {
        "id": "Ig0KUSOoGfGw"
      },
      "source": [
        "#**Part 1**: Getting set up with GEE and Drive"
      ]
    },
    {
      "cell_type": "markdown",
      "metadata": {
        "id": "0Znb09xHFGyp"
      },
      "source": [
        "*   Prior to using GEE for the first time, you must register [here](https://earthengine.google.com/new_signup/)\n",
        "*   If you intend to use Python from the terminal or Jupyter Notebooks, I suggest setting up a conda environment for GEE using [this](https://developers.google.com/earth-engine/guides/python_install-conda#install_api) tutorial. After that, you will not have to authenticate GEE at the start of each session unless you use GoogleColab."
      ]
    },
    {
      "cell_type": "code",
      "metadata": {
        "cellView": "both",
        "colab": {
          "base_uri": "https://localhost:8080/"
        },
        "id": "yxBXo7unYLY1",
        "outputId": "31e1077e-ce9e-422b-8ee5-8e45fb9bf05b"
      },
      "source": [
        "import ee\n",
        "ee.Authenticate()"
      ],
      "execution_count": null,
      "outputs": [
        {
          "output_type": "stream",
          "name": "stdout",
          "text": [
            "To authorize access needed by Earth Engine, open the following URL in a web browser and follow the instructions. If the web browser does not start automatically, please manually browse the URL below.\n",
            "\n",
            "    https://accounts.google.com/o/oauth2/auth?client_id=517222506229-vsmmajv00ul0bs7p89v5m89qs8eb9359.apps.googleusercontent.com&scope=https%3A%2F%2Fwww.googleapis.com%2Fauth%2Fearthengine+https%3A%2F%2Fwww.googleapis.com%2Fauth%2Fdevstorage.full_control&redirect_uri=urn%3Aietf%3Awg%3Aoauth%3A2.0%3Aoob&response_type=code&code_challenge=m-l9CEVENHllTxcb72Xi_j_nBDUDeiyi_2eOojrqiS4&code_challenge_method=S256\n",
            "\n",
            "The authorization workflow will generate a code, which you should paste in the box below. \n",
            "Enter verification code: 4/1AX4XfWjQUyZOtjlrUmdluaAe5ceoaAXxR24UhcOBQoDg_ZY7pKzxAOho43M\n",
            "\n",
            "Successfully saved authorization token.\n"
          ]
        }
      ]
    },
    {
      "cell_type": "code",
      "metadata": {
        "id": "gTowStYzt1tU"
      },
      "source": [
        "ee.Initialize()"
      ],
      "execution_count": null,
      "outputs": []
    },
    {
      "cell_type": "markdown",
      "metadata": {
        "id": "9kkASNqNGzi5"
      },
      "source": [
        "Connect your GoogleDrive. Once you've done this, you can import and export files directly to your drive. This is the only way to export results from GEE if you are using GoogleColab."
      ]
    },
    {
      "cell_type": "code",
      "metadata": {
        "id": "AdyyyXifzUhM",
        "colab": {
          "base_uri": "https://localhost:8080/"
        },
        "outputId": "bc81a750-5d47-40de-8e6a-70dc18199a06"
      },
      "source": [
        "from google.colab import drive\n",
        "drive.mount('/content/drive')"
      ],
      "execution_count": null,
      "outputs": [
        {
          "output_type": "stream",
          "name": "stdout",
          "text": [
            "Drive already mounted at /content/drive; to attempt to forcibly remount, call drive.mount(\"/content/drive\", force_remount=True).\n"
          ]
        }
      ]
    },
    {
      "cell_type": "markdown",
      "metadata": {
        "id": "FA8sAnS_LQ25"
      },
      "source": [
        "#**Part 2**: GEE basic terminology"
      ]
    },
    {
      "cell_type": "markdown",
      "metadata": {
        "id": "invrohioT-gU"
      },
      "source": [
        "##Python API\n",
        "*   We are using the GEE Python API. You can also interact with GEE in the Javascript based [CodeEditor](https://code.earthengine.google.com/).\n",
        "*   The Python API is not as well documented as Javascript, so be prepared to do some digging when you run into questions.\n",
        "*   All of your assets and exports from GEE in Python will be visible in the CodeEditor dashboard.\n",
        "*   I **highly** recommend using [this website](https://developers.google.com/earth-engine/apidocs) to check the documentation on any functions you use (on the left, click the dropdown arrow for \"Client Libraries\" and do a ctrl-f to search for the function). GEE can be very counterintuitive and oftentimes picks bad default settings that you want to know about."
      ]
    },
    {
      "cell_type": "markdown",
      "metadata": {
        "id": "tLzOYV4cLbpX"
      },
      "source": [
        "\n",
        "##Raster Terminology\n",
        "*   **Asset**: what you call GEE data\n",
        "*   **Image**: single raster, may have multiple bands\n",
        "*   **ImageCollection**: stack of rasters, usually representing a timeseries\n",
        "*   **Reducer**: function to go from a collection --> image or from an image --> single value.  More on this later!\n",
        "\n",
        "\n",
        "\n"
      ]
    },
    {
      "cell_type": "markdown",
      "metadata": {
        "id": "GXEnXBuxLob6"
      },
      "source": [
        "![image.png](data:image/png;base64,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)"
      ]
    },
    {
      "cell_type": "markdown",
      "metadata": {
        "id": "iY4eC9bOMuBc"
      },
      "source": [
        "##Vector Terminology\n",
        "*   **Geometry**: a special feature or a property of a feature that is just a cohesive geometry. You can create these out of a single lat/long, for example, or call this property if it exists with a feature (for example a shapefile of a state).\n",
        "*   **Feature**: a single vector, point, etc.\n",
        "*   **FeatureCollection**: a group of vector data which each retain their own geometry and property details"
      ]
    },
    {
      "cell_type": "markdown",
      "metadata": {
        "id": "QOIQmATcNEaP"
      },
      "source": [
        "Both images and features have **properties** as well as an ID, if they are in a collection. One way to explore the structure of these properties for a given asset is to open an object in the [CodeEditor](https://code.earthengine.google.com/), click on the \"Inspector\" on the right, and browse the dropdown information for a random pixel."
      ]
    },
    {
      "cell_type": "markdown",
      "metadata": {
        "id": "nvxv2tSFONOL"
      },
      "source": [
        "##Server vs Client"
      ]
    },
    {
      "cell_type": "markdown",
      "metadata": {
        "id": "ULh30YJkT23g"
      },
      "source": [
        "###Read more about this [here](https://developers.google.com/earth-engine/guides/client_server)"
      ]
    },
    {
      "cell_type": "markdown",
      "metadata": {
        "id": "OLUN3OBSdxHT"
      },
      "source": [
        "\n",
        "\n",
        "*   You are on the \"client\" side.\n",
        "*   All of the objects (everything that starts ee.XXX) that we interact with are just \"proxies\" for real objects with real data that exist on the \"server\" side.\n",
        "*   Things you do to objects only \"happen\" when they are pushed out to the server.\n",
        "*   This means that your code may seem to run very quickly... *until* you try to actually view a result.\n",
        "\n",
        "### Some notes on how this server/client setup may affect you:\n",
        "*   In order to make calculations happen and see the result, you will either need to fully export the result (like a raster after you've done calculations with it), or you will need to run \".getInfo\" (for example to see a value you have computed). Keep in mind that these tasks can take a LOT longer than you were expecting (especially the first time you run them). Avoid using .getInfo unless you absolutely need to use it. (See the link for more info).\n",
        "*   There are some operations, like loops, which you should avoid at all costs in GEE. Instead, use functions like \".map\". We can go over this more.\n",
        "*   GEE stays computionally feasible in part because it does weird complicated stuff with parallel computing in the cloud (or something). You may have the option with some functions to set extra parameters to make your code run faster, such as \"tileScale\" when using reducers.\n",
        "\n"
      ]
    },
    {
      "cell_type": "code",
      "metadata": {
        "id": "K5l2_9md7pND"
      },
      "source": [
        "def do_my_calc(image):\n",
        "  result = image.divide(2)\n",
        "  return image\n",
        "\n",
        "my_result = image_collection.map(do_my_calc)"
      ],
      "execution_count": null,
      "outputs": []
    },
    {
      "cell_type": "markdown",
      "metadata": {
        "id": "iHOjCWAALDUh"
      },
      "source": [
        "#**Part 3**: Finding, importing, uploading, and exporting datasets"
      ]
    },
    {
      "cell_type": "markdown",
      "metadata": {
        "id": "eRTiDeB-hhb7"
      },
      "source": [
        "You can upload your own assets in the CodeEditor, and even format them with metadata for sharing! [(Here's an example)](\n",
        "https://code.earthengine.google.com/?asset=users/ericamccormick/Dbedrock\n",
        ")"
      ]
    },
    {
      "cell_type": "markdown",
      "metadata": {
        "id": "ug3mf6Hfgs5q"
      },
      "source": [
        "You can search for datasets already in GEE [here](https://developers.google.com/earth-engine/datasets/catalog). Once you find the page, such as this one for [ET](https://developers.google.com/earth-engine/datasets/catalog/CAS_IGSNRR_PML_V2), all you need is the \"snippet,\" in this case: CAS/IGSNRR/PML/V2. This page also has a lot of important information."
      ]
    },
    {
      "cell_type": "code",
      "metadata": {
        "id": "EobIW7GnLoO8"
      },
      "source": [
        "ET = ee.ImageCollection('CAS/IGSNRR/PML/V2')"
      ],
      "execution_count": null,
      "outputs": []
    },
    {
      "cell_type": "markdown",
      "metadata": {
        "id": "qvYr81ACjhVx"
      },
      "source": [
        "You can also export your results as assets so they will show up in your CodeEditor. Note that while you can share the link and the \"snippet\" for these assets, it is not possible for other people to search for them or for others to see them in their own asset folder. You will also have to click on each asset and set the sharing settings in order for the snippet to work for other people. Another note: GEE asset folders are horrible to manipulate, so set up your folder structure as soon as possible and stick with it. I'll share the code for exporting as assets in the example."
      ]
    },
    {
      "cell_type": "markdown",
      "metadata": {
        "id": "E60bWwO_fykD"
      },
      "source": [
        "#**Part 4**: Demonstration! Let's calculate mean annual precipitation for Texas..."
      ]
    },
    {
      "cell_type": "markdown",
      "metadata": {
        "id": "Auc0ql9Gk6Se"
      },
      "source": [
        "### Getting our data ready to go"
      ]
    },
    {
      "cell_type": "markdown",
      "metadata": {
        "id": "uNMohvNpkFgf"
      },
      "source": [
        "First lets get our precipitation dataset from GEE. We'll use the [PRISM dataset](https://developers.google.com/earth-engine/datasets/catalog/OREGONSTATE_PRISM_AN81d). Let's also import a geometry of California that I uploaded as an asset and made public."
      ]
    },
    {
      "cell_type": "code",
      "metadata": {
        "id": "4ye7MAXekWJo"
      },
      "source": [
        "prism = ee.ImageCollection(\"OREGONSTATE/PRISM/AN81d\")\n",
        "\n",
        "# Because the original shapefile had a few parts to it - islands and such - here I select only the first item in the collection\n",
        "tx = ee.Feature(ee.FeatureCollection(\"users/ericaelmstead/20_RockMoisture/Regions/tx\").first())\n"
      ],
      "execution_count": null,
      "outputs": []
    },
    {
      "cell_type": "markdown",
      "metadata": {
        "id": "-lJeRBafkpmM"
      },
      "source": [
        "PRISM includes temperature and precipitation, so let's take a look at all the bands and then select just the one we want."
      ]
    },
    {
      "cell_type": "code",
      "metadata": {
        "colab": {
          "base_uri": "https://localhost:8080/",
          "height": 168
        },
        "id": "fh4OPZPH6huV",
        "outputId": "2e950238-29ec-4c39-82ec-a6fb0255fb1d"
      },
      "source": [
        ""
      ],
      "execution_count": null,
      "outputs": [
        {
          "output_type": "error",
          "ename": "NameError",
          "evalue": "ignored",
          "traceback": [
            "\u001b[0;31m---------------------------------------------------------------------------\u001b[0m",
            "\u001b[0;31mNameError\u001b[0m                                 Traceback (most recent call last)",
            "\u001b[0;32m<ipython-input-10-d89ded0d42ea>\u001b[0m in \u001b[0;36m<module>\u001b[0;34m()\u001b[0m\n\u001b[0;32m----> 1\u001b[0;31m \u001b[0mprint\u001b[0m\u001b[0;34m(\u001b[0m\u001b[0mprecip\u001b[0m\u001b[0;34m)\u001b[0m\u001b[0;34m\u001b[0m\u001b[0;34m\u001b[0m\u001b[0m\n\u001b[0m",
            "\u001b[0;31mNameError\u001b[0m: name 'precip' is not defined"
          ]
        }
      ]
    },
    {
      "cell_type": "code",
      "metadata": {
        "colab": {
          "base_uri": "https://localhost:8080/"
        },
        "id": "jXfxpn7Pkzao",
        "outputId": "23a0a39a-9f2e-4008-d2b0-83dc8401b790"
      },
      "source": [
        "prism.first().bandNames().getInfo()"
      ],
      "execution_count": null,
      "outputs": [
        {
          "output_type": "execute_result",
          "data": {
            "text/plain": [
              "['ppt', 'tmean', 'tmin', 'tmax', 'tdmean', 'vpdmin', 'vpdmax']"
            ]
          },
          "metadata": {},
          "execution_count": 13
        }
      ]
    },
    {
      "cell_type": "code",
      "metadata": {
        "id": "wGRQ-kPTk06h"
      },
      "source": [
        "precip = prism.select('ppt')"
      ],
      "execution_count": null,
      "outputs": []
    },
    {
      "cell_type": "code",
      "metadata": {
        "colab": {
          "base_uri": "https://localhost:8080/"
        },
        "id": "jKp73xjEQRsa",
        "outputId": "0c9de645-a076-48c7-bbb5-37d33dfeb137"
      },
      "source": [
        "precip"
      ],
      "execution_count": null,
      "outputs": [
        {
          "output_type": "execute_result",
          "data": {
            "text/plain": [
              "<ee.imagecollection.ImageCollection at 0x7f336e1cb1d0>"
            ]
          },
          "metadata": {},
          "execution_count": 19
        }
      ]
    },
    {
      "cell_type": "markdown",
      "metadata": {
        "id": "T_L5F82YlePl"
      },
      "source": [
        "Let's select a date range that we are interested in calculating the average precipitation for."
      ]
    },
    {
      "cell_type": "code",
      "metadata": {
        "id": "4QK4INEnlc9z"
      },
      "source": [
        "start = \"2010-10-01\"\n",
        "end = \"2015-09-31\"\n",
        "\n",
        "precip_10_15 = precip.filterDate(start, end)"
      ],
      "execution_count": null,
      "outputs": []
    },
    {
      "cell_type": "markdown",
      "metadata": {
        "id": "j72bVeZ0qlBs"
      },
      "source": [
        "### Calculating MAP"
      ]
    },
    {
      "cell_type": "markdown",
      "metadata": {
        "id": "hdmb-lorl6df"
      },
      "source": [
        "There's also a faster way to get the mean of the years using the function  [ee.Filter.calendarRange()](https://developers.google.com/earth-engine/apidocs/ee-filter-calendarrange)... but I'll leave that one up to y'all!"
      ]
    },
    {
      "cell_type": "code",
      "metadata": {
        "colab": {
          "base_uri": "https://localhost:8080/"
        },
        "id": "ftXGwepDoFBo",
        "outputId": "b44363c5-bc50-42f9-e058-5e7ef92b45f8"
      },
      "source": [
        "# First lets sum up every single day using an ImageCollection reducer:\n",
        "sum_p = precip_10_15.reduce(**{\n",
        "    'reducer': ee.Reducer.sum(),\n",
        "  })\n",
        "\n",
        "# Now we have an image, which you can check by just typing the name of the object. (Don't use \"print\" because it gets weird.)\n",
        "sum_p"
      ],
      "execution_count": null,
      "outputs": [
        {
          "output_type": "execute_result",
          "data": {
            "text/plain": [
              "<ee.image.Image at 0x7f336e209190>"
            ]
          },
          "metadata": {},
          "execution_count": 21
        }
      ]
    },
    {
      "cell_type": "code",
      "metadata": {
        "id": "yKSFzvq8olnD"
      },
      "source": [
        "# Now we can divide by the number of years. You can do .add(), .subtract(), .multiply(), and .divide() with numbers and with other rasters.\n",
        "MAP = sum_p.divide(5)"
      ],
      "execution_count": null,
      "outputs": []
    },
    {
      "cell_type": "markdown",
      "metadata": {
        "id": "C0C2iWWlo0DO"
      },
      "source": [
        "Before we go any further, lets **.clip()** our images (currently CONUS) down to the shape of Texas. \n",
        "\n",
        "GEE uses pyramiding, so it is possible for assets to shapeshift their scale depending on what functions you use, and what (if any) parameters you set. If you want to force an image to be at a certain scale or projection (highly recommended), you lets add the **.reproject()** to this step as well.\n",
        "\n",
        "Note: You can always string things together (including reducers and functions like .mean(), .stdev(), etc. Check out that link above for all of the functions. There are some pretty cool ones that do advanced GIS stuff! "
      ]
    },
    {
      "cell_type": "code",
      "metadata": {
        "id": "6jdZNqxFo4fR"
      },
      "source": [
        "MAP = MAP.clip(tx.geometry()).reproject(crs='EPSG:4326', scale=500)"
      ],
      "execution_count": null,
      "outputs": []
    },
    {
      "cell_type": "markdown",
      "metadata": {
        "id": "4jyPI7DtsoS6"
      },
      "source": [
        "### Masking to forested area"
      ]
    },
    {
      "cell_type": "markdown",
      "metadata": {
        "id": "yPuILnBxsnGX"
      },
      "source": [
        "What if we only wanted to calculate MAP where there is forested or shrubby area in Texas?"
      ]
    },
    {
      "cell_type": "code",
      "metadata": {
        "id": "uUM7CYpvhcZS"
      },
      "source": [
        "# Import our USGS National Land Cover Database asset\n",
        "usgs_nlcd = ee.ImageCollection(\"USGS/NLCD_RELEASES/2016_REL\")"
      ],
      "execution_count": null,
      "outputs": []
    },
    {
      "cell_type": "code",
      "metadata": {
        "id": "VlbGQNRtjZD_"
      },
      "source": [
        "landsort = usgs_nlcd.sort('system:time_start', False) #sort backcwards to get most recent image\n",
        "landsort = ee.Image(landsort.first()) # make sure to get just first image (ie the most recent)\n",
        "img1 = landsort.select('landcover').reproject(crs='EPSG:4326', scale=30) #enforce the native scale\n",
        "\n",
        "# One way to isolate a value is .eq(). You can also use .lt() or .gt() for < and >. All pixels that are accepted take \"1\" and the rest \"0\".\n",
        "shrub = img1.eq(52) #mask to get all values = 52\n",
        "\n",
        "# Alternatively, use .remap() to get only the classes you want.\n",
        "forested = img1.remap([41,42,43],[1,1,1],0) #image.remap([from],[to],defaultVal).\n",
        "\n",
        "## add binary images together to return a mask with 1s and 0s:\n",
        "woody_veg = ee.Image(0).add(forested).add(shrub).clip(tx.geometry()) #.gt(0) #final binary tiff where 1s are places with woody veg"
      ],
      "execution_count": null,
      "outputs": []
    },
    {
      "cell_type": "markdown",
      "metadata": {
        "id": "DTFnAHzXtrrz"
      },
      "source": [
        "If we want to quickly visualize our rasters without exporting them, we can display a thumbnail. Sometimes these take a while. The vis parameters on thumbnails (and GEE visualizations in general) sucks.\n",
        "\n",
        "*Note: this process goes from client to server side, so it will show you if you have errors or your computations are too time consuming!*\n",
        "\n",
        "\n",
        "These thumbnails work best for binary images, but sometimes they don't work at all..."
      ]
    },
    {
      "cell_type": "code",
      "metadata": {
        "id": "kF6c24RZoYdH"
      },
      "source": [
        "# We can now mask our MAP by woody vegetation.\n",
        "MAP_woody = MAP.updateMask(woody_veg)"
      ],
      "execution_count": null,
      "outputs": []
    },
    {
      "cell_type": "code",
      "metadata": {
        "colab": {
          "base_uri": "https://localhost:8080/",
          "height": 452
        },
        "id": "Q7pYcV_bjdDc",
        "outputId": "0374ecc9-7bdf-48b5-b636-3c78ec8f996c"
      },
      "source": [
        "from IPython.display import Image\n",
        "\n",
        "Image(url = MAP.clip(tx.geometry()).getThumbUrl({'min': 0, 'max': 2000, 'dimensions': 512,\n",
        "                'palette': [\"cfdee7\",\"92b4f4\",\"5e7ce2\",\"4472ca\",\"0a369d\"]}))"
      ],
      "execution_count": null,
      "outputs": [
        {
          "output_type": "error",
          "ename": "EEException",
          "evalue": "ignored",
          "traceback": [
            "\u001b[0;31m---------------------------------------------------------------------------\u001b[0m",
            "\u001b[0;31mHttpError\u001b[0m                                 Traceback (most recent call last)",
            "\u001b[0;32m/usr/local/lib/python3.7/dist-packages/ee/data.py\u001b[0m in \u001b[0;36m_execute_cloud_call\u001b[0;34m(call, num_retries)\u001b[0m\n\u001b[1;32m    333\u001b[0m   \u001b[0;32mtry\u001b[0m\u001b[0;34m:\u001b[0m\u001b[0;34m\u001b[0m\u001b[0;34m\u001b[0m\u001b[0m\n\u001b[0;32m--> 334\u001b[0;31m     \u001b[0;32mreturn\u001b[0m \u001b[0mcall\u001b[0m\u001b[0;34m.\u001b[0m\u001b[0mexecute\u001b[0m\u001b[0;34m(\u001b[0m\u001b[0mnum_retries\u001b[0m\u001b[0;34m=\u001b[0m\u001b[0mnum_retries\u001b[0m\u001b[0;34m)\u001b[0m\u001b[0;34m\u001b[0m\u001b[0;34m\u001b[0m\u001b[0m\n\u001b[0m\u001b[1;32m    335\u001b[0m   \u001b[0;32mexcept\u001b[0m \u001b[0mgoogleapiclient\u001b[0m\u001b[0;34m.\u001b[0m\u001b[0merrors\u001b[0m\u001b[0;34m.\u001b[0m\u001b[0mHttpError\u001b[0m \u001b[0;32mas\u001b[0m \u001b[0me\u001b[0m\u001b[0;34m:\u001b[0m\u001b[0;34m\u001b[0m\u001b[0;34m\u001b[0m\u001b[0m\n",
            "\u001b[0;32m/usr/local/lib/python3.7/dist-packages/googleapiclient/_helpers.py\u001b[0m in \u001b[0;36mpositional_wrapper\u001b[0;34m(*args, **kwargs)\u001b[0m\n\u001b[1;32m    133\u001b[0m                     \u001b[0mlogger\u001b[0m\u001b[0;34m.\u001b[0m\u001b[0mwarning\u001b[0m\u001b[0;34m(\u001b[0m\u001b[0mmessage\u001b[0m\u001b[0;34m)\u001b[0m\u001b[0;34m\u001b[0m\u001b[0;34m\u001b[0m\u001b[0m\n\u001b[0;32m--> 134\u001b[0;31m             \u001b[0;32mreturn\u001b[0m \u001b[0mwrapped\u001b[0m\u001b[0;34m(\u001b[0m\u001b[0;34m*\u001b[0m\u001b[0margs\u001b[0m\u001b[0;34m,\u001b[0m \u001b[0;34m**\u001b[0m\u001b[0mkwargs\u001b[0m\u001b[0;34m)\u001b[0m\u001b[0;34m\u001b[0m\u001b[0;34m\u001b[0m\u001b[0m\n\u001b[0m\u001b[1;32m    135\u001b[0m \u001b[0;34m\u001b[0m\u001b[0m\n",
            "\u001b[0;32m/usr/local/lib/python3.7/dist-packages/googleapiclient/http.py\u001b[0m in \u001b[0;36mexecute\u001b[0;34m(self, http, num_retries)\u001b[0m\n\u001b[1;32m    914\u001b[0m         \u001b[0;32mif\u001b[0m \u001b[0mresp\u001b[0m\u001b[0;34m.\u001b[0m\u001b[0mstatus\u001b[0m \u001b[0;34m>=\u001b[0m \u001b[0;36m300\u001b[0m\u001b[0;34m:\u001b[0m\u001b[0;34m\u001b[0m\u001b[0;34m\u001b[0m\u001b[0m\n\u001b[0;32m--> 915\u001b[0;31m             \u001b[0;32mraise\u001b[0m \u001b[0mHttpError\u001b[0m\u001b[0;34m(\u001b[0m\u001b[0mresp\u001b[0m\u001b[0;34m,\u001b[0m \u001b[0mcontent\u001b[0m\u001b[0;34m,\u001b[0m \u001b[0muri\u001b[0m\u001b[0;34m=\u001b[0m\u001b[0mself\u001b[0m\u001b[0;34m.\u001b[0m\u001b[0muri\u001b[0m\u001b[0;34m)\u001b[0m\u001b[0;34m\u001b[0m\u001b[0;34m\u001b[0m\u001b[0m\n\u001b[0m\u001b[1;32m    916\u001b[0m         \u001b[0;32mreturn\u001b[0m \u001b[0mself\u001b[0m\u001b[0;34m.\u001b[0m\u001b[0mpostproc\u001b[0m\u001b[0;34m(\u001b[0m\u001b[0mresp\u001b[0m\u001b[0;34m,\u001b[0m \u001b[0mcontent\u001b[0m\u001b[0;34m)\u001b[0m\u001b[0;34m\u001b[0m\u001b[0;34m\u001b[0m\u001b[0m\n",
            "\u001b[0;31mHttpError\u001b[0m: <HttpError 400 when requesting https://earthengine.googleapis.com/v1alpha/projects/earthengine-legacy/thumbnails?fields=name&alt=json returned \"DateRange: Bad date/time '2015-09-31'.\". Details: \"DateRange: Bad date/time '2015-09-31'.\">",
            "\nDuring handling of the above exception, another exception occurred:\n",
            "\u001b[0;31mEEException\u001b[0m                               Traceback (most recent call last)",
            "\u001b[0;32m<ipython-input-27-e9431e550566>\u001b[0m in \u001b[0;36m<module>\u001b[0;34m()\u001b[0m\n\u001b[1;32m      2\u001b[0m \u001b[0;34m\u001b[0m\u001b[0m\n\u001b[1;32m      3\u001b[0m Image(url = MAP.clip(tx.geometry()).getThumbUrl({'min': 0, 'max': 2000, 'dimensions': 512,\n\u001b[0;32m----> 4\u001b[0;31m                 'palette': [\"cfdee7\",\"92b4f4\",\"5e7ce2\",\"4472ca\",\"0a369d\"]}))\n\u001b[0m",
            "\u001b[0;32m/usr/local/lib/python3.7/dist-packages/ee/deprecation.py\u001b[0m in \u001b[0;36mWrapper\u001b[0;34m(*args, **kwargs)\u001b[0m\n\u001b[1;32m     30\u001b[0m           \u001b[0mfilename\u001b[0m\u001b[0;34m=\u001b[0m\u001b[0mfunc\u001b[0m\u001b[0;34m.\u001b[0m\u001b[0m__code__\u001b[0m\u001b[0;34m.\u001b[0m\u001b[0mco_filename\u001b[0m\u001b[0;34m,\u001b[0m\u001b[0;34m\u001b[0m\u001b[0;34m\u001b[0m\u001b[0m\n\u001b[1;32m     31\u001b[0m           lineno=func.__code__.co_firstlineno + 1)\n\u001b[0;32m---> 32\u001b[0;31m       \u001b[0;32mreturn\u001b[0m \u001b[0mfunc\u001b[0m\u001b[0;34m(\u001b[0m\u001b[0;34m*\u001b[0m\u001b[0margs\u001b[0m\u001b[0;34m,\u001b[0m \u001b[0;34m**\u001b[0m\u001b[0mkwargs\u001b[0m\u001b[0;34m)\u001b[0m\u001b[0;34m\u001b[0m\u001b[0;34m\u001b[0m\u001b[0m\n\u001b[0m\u001b[1;32m     33\u001b[0m     \u001b[0mdeprecation_message\u001b[0m \u001b[0;34m=\u001b[0m \u001b[0;34m'\\nDEPRECATED: '\u001b[0m \u001b[0;34m+\u001b[0m \u001b[0mmessage\u001b[0m\u001b[0;34m\u001b[0m\u001b[0;34m\u001b[0m\u001b[0m\n\u001b[1;32m     34\u001b[0m     \u001b[0;32mtry\u001b[0m\u001b[0;34m:\u001b[0m\u001b[0;34m\u001b[0m\u001b[0;34m\u001b[0m\u001b[0m\n",
            "\u001b[0;32m/usr/local/lib/python3.7/dist-packages/ee/image.py\u001b[0m in \u001b[0;36mgetThumbURL\u001b[0;34m(self, params)\u001b[0m\n\u001b[1;32m    500\u001b[0m     \u001b[0;31m# If it isn't enabled, we have to be bug-for-bug compatible with current\u001b[0m\u001b[0;34m\u001b[0m\u001b[0;34m\u001b[0m\u001b[0;34m\u001b[0m\u001b[0m\n\u001b[1;32m    501\u001b[0m     \u001b[0;31m# behaviour.\u001b[0m\u001b[0;34m\u001b[0m\u001b[0;34m\u001b[0m\u001b[0;34m\u001b[0m\u001b[0m\n\u001b[0;32m--> 502\u001b[0;31m     \u001b[0;32mreturn\u001b[0m \u001b[0mdata\u001b[0m\u001b[0;34m.\u001b[0m\u001b[0mmakeThumbUrl\u001b[0m\u001b[0;34m(\u001b[0m\u001b[0mself\u001b[0m\u001b[0;34m.\u001b[0m\u001b[0mgetThumbId\u001b[0m\u001b[0;34m(\u001b[0m\u001b[0mparams\u001b[0m\u001b[0;34m)\u001b[0m\u001b[0;34m)\u001b[0m\u001b[0;34m\u001b[0m\u001b[0;34m\u001b[0m\u001b[0m\n\u001b[0m\u001b[1;32m    503\u001b[0m \u001b[0;34m\u001b[0m\u001b[0m\n\u001b[1;32m    504\u001b[0m   \u001b[0;31m# Deprecated spellings to match the JS library.\u001b[0m\u001b[0;34m\u001b[0m\u001b[0;34m\u001b[0m\u001b[0;34m\u001b[0m\u001b[0m\n",
            "\u001b[0;32m/usr/local/lib/python3.7/dist-packages/ee/image.py\u001b[0m in \u001b[0;36mgetThumbId\u001b[0;34m(self, params)\u001b[0m\n\u001b[1;32m    473\u001b[0m     \u001b[0mimage\u001b[0m\u001b[0;34m,\u001b[0m \u001b[0mparams\u001b[0m \u001b[0;34m=\u001b[0m \u001b[0mimage\u001b[0m\u001b[0;34m.\u001b[0m\u001b[0m_apply_visualization\u001b[0m\u001b[0;34m(\u001b[0m\u001b[0mparams\u001b[0m\u001b[0;34m)\u001b[0m  \u001b[0;31m# pylint: disable=protected-access\u001b[0m\u001b[0;34m\u001b[0m\u001b[0;34m\u001b[0m\u001b[0m\n\u001b[1;32m    474\u001b[0m     \u001b[0mparams\u001b[0m\u001b[0;34m[\u001b[0m\u001b[0;34m'image'\u001b[0m\u001b[0;34m]\u001b[0m \u001b[0;34m=\u001b[0m \u001b[0mimage\u001b[0m\u001b[0;34m\u001b[0m\u001b[0;34m\u001b[0m\u001b[0m\n\u001b[0;32m--> 475\u001b[0;31m     \u001b[0;32mreturn\u001b[0m \u001b[0mdata\u001b[0m\u001b[0;34m.\u001b[0m\u001b[0mgetThumbId\u001b[0m\u001b[0;34m(\u001b[0m\u001b[0mparams\u001b[0m\u001b[0;34m)\u001b[0m\u001b[0;34m\u001b[0m\u001b[0;34m\u001b[0m\u001b[0m\n\u001b[0m\u001b[1;32m    476\u001b[0m \u001b[0;34m\u001b[0m\u001b[0m\n\u001b[1;32m    477\u001b[0m   \u001b[0;32mdef\u001b[0m \u001b[0mgetThumbURL\u001b[0m\u001b[0;34m(\u001b[0m\u001b[0mself\u001b[0m\u001b[0;34m,\u001b[0m \u001b[0mparams\u001b[0m\u001b[0;34m=\u001b[0m\u001b[0;32mNone\u001b[0m\u001b[0;34m)\u001b[0m\u001b[0;34m:\u001b[0m\u001b[0;34m\u001b[0m\u001b[0;34m\u001b[0m\u001b[0m\n",
            "\u001b[0;32m/usr/local/lib/python3.7/dist-packages/ee/data.py\u001b[0m in \u001b[0;36mgetThumbId\u001b[0;34m(params, thumbType)\u001b[0m\n\u001b[1;32m    784\u001b[0m     result = _execute_cloud_call(\n\u001b[1;32m    785\u001b[0m         _get_cloud_api_resource().projects().thumbnails().create(\n\u001b[0;32m--> 786\u001b[0;31m             parent=_get_projects_path(), fields='name', body=request))\n\u001b[0m\u001b[1;32m    787\u001b[0m   \u001b[0;32mreturn\u001b[0m \u001b[0;34m{\u001b[0m\u001b[0;34m'thumbid'\u001b[0m\u001b[0;34m:\u001b[0m \u001b[0mresult\u001b[0m\u001b[0;34m[\u001b[0m\u001b[0;34m'name'\u001b[0m\u001b[0;34m]\u001b[0m\u001b[0;34m,\u001b[0m \u001b[0;34m'token'\u001b[0m\u001b[0;34m:\u001b[0m \u001b[0;34m''\u001b[0m\u001b[0;34m}\u001b[0m\u001b[0;34m\u001b[0m\u001b[0;34m\u001b[0m\u001b[0m\n\u001b[1;32m    788\u001b[0m \u001b[0;34m\u001b[0m\u001b[0m\n",
            "\u001b[0;32m/usr/local/lib/python3.7/dist-packages/ee/data.py\u001b[0m in \u001b[0;36m_execute_cloud_call\u001b[0;34m(call, num_retries)\u001b[0m\n\u001b[1;32m    334\u001b[0m     \u001b[0;32mreturn\u001b[0m \u001b[0mcall\u001b[0m\u001b[0;34m.\u001b[0m\u001b[0mexecute\u001b[0m\u001b[0;34m(\u001b[0m\u001b[0mnum_retries\u001b[0m\u001b[0;34m=\u001b[0m\u001b[0mnum_retries\u001b[0m\u001b[0;34m)\u001b[0m\u001b[0;34m\u001b[0m\u001b[0;34m\u001b[0m\u001b[0m\n\u001b[1;32m    335\u001b[0m   \u001b[0;32mexcept\u001b[0m \u001b[0mgoogleapiclient\u001b[0m\u001b[0;34m.\u001b[0m\u001b[0merrors\u001b[0m\u001b[0;34m.\u001b[0m\u001b[0mHttpError\u001b[0m \u001b[0;32mas\u001b[0m \u001b[0me\u001b[0m\u001b[0;34m:\u001b[0m\u001b[0;34m\u001b[0m\u001b[0;34m\u001b[0m\u001b[0m\n\u001b[0;32m--> 336\u001b[0;31m     \u001b[0;32mraise\u001b[0m \u001b[0m_translate_cloud_exception\u001b[0m\u001b[0;34m(\u001b[0m\u001b[0me\u001b[0m\u001b[0;34m)\u001b[0m\u001b[0;34m\u001b[0m\u001b[0;34m\u001b[0m\u001b[0m\n\u001b[0m\u001b[1;32m    337\u001b[0m \u001b[0;34m\u001b[0m\u001b[0m\n\u001b[1;32m    338\u001b[0m \u001b[0;34m\u001b[0m\u001b[0m\n",
            "\u001b[0;31mEEException\u001b[0m: DateRange: Bad date/time '2015-09-31'."
          ]
        }
      ]
    },
    {
      "cell_type": "code",
      "metadata": {
        "id": "3iUAi7XZj7uW"
      },
      "source": [
        "Image(url = MAP_woody.clip(tx.geometry()).getThumbUrl({'min': 0, 'max': 2000, 'dimensions': 512,\n",
        "                'palette': [\"cfdee7\",\"92b4f4\",\"5e7ce2\",\"4472ca\",\"0a369d\"]}))"
      ],
      "execution_count": null,
      "outputs": []
    },
    {
      "cell_type": "markdown",
      "metadata": {
        "id": "NLU1S5ROqvFx"
      },
      "source": [
        "If you want to *really* explore a map in Colab, you can use the package [geemap](https://github.com/giswqs/geemap), which does lots of very exciting things and leverages folium and ipyleaflet for amazing visualizations! This could be a topic for another skillshare..."
      ]
    },
    {
      "cell_type": "markdown",
      "metadata": {
        "id": "LGpwPkwArdUQ"
      },
      "source": [
        "###Export image to drive"
      ]
    },
    {
      "cell_type": "code",
      "metadata": {
        "id": "rx6H1KuakQzJ"
      },
      "source": [
        "to_save = woody_veg.toDouble().clip(tx.geometry()) # I have found that this .toDouble() is very important when exporting to drive. DON'T include it for exporting to an asset though.\n",
        "task_config = {\n",
        "        'region': tx.geometry(),\n",
        "        'fileFormat': 'GeoTIFF',\n",
        "        'fileNamePrefix': 'woody_veg',\n",
        "        'image': to_save,\n",
        "        'description': 'woody_veg',\n",
        "        'scale': 500,\n",
        "        'maxPixels': 10000000000000\n",
        "    }\n",
        "\n",
        "task=ee.batch.Export.image.toDrive(**task_config)\n",
        "task.start()"
      ],
      "execution_count": null,
      "outputs": []
    },
    {
      "cell_type": "code",
      "metadata": {
        "id": "sQ-TcKNsrdUQ"
      },
      "source": [
        "to_save = MAP.toDouble().clip(tx.geometry()) # I have found that this .toDouble() is very important when exporting to drive. DON'T include it for exporting to an asset though.\n",
        "task_config = {\n",
        "        'region': tx.geometry(),\n",
        "        'fileFormat': 'GeoTIFF',\n",
        "        'fileNamePrefix': 'skillshare_MAP',\n",
        "        'image': to_save,\n",
        "        'description': 'skillshare_MAP',\n",
        "        'scale': 500,\n",
        "        'maxPixels': 10000000000000\n",
        "    }\n",
        "\n",
        "task=ee.batch.Export.image.toDrive(**task_config)\n",
        "task.start()"
      ],
      "execution_count": null,
      "outputs": []
    },
    {
      "cell_type": "markdown",
      "metadata": {
        "id": "klAICV0mrdUQ"
      },
      "source": [
        "###Export image to asset"
      ]
    },
    {
      "cell_type": "code",
      "metadata": {
        "id": "Jk_E2rLXrdUR"
      },
      "source": [
        "task_config = {\n",
        "        'region': tx.geometry(),\n",
        "        'image': MAP,\n",
        "        'description': 'skillshare_MAP',\n",
        "        'assetId' : 'users/ericaelmstead/skillshare_MAP',\n",
        "        'scale': 500,\n",
        "        'maxPixels': 10000000000000\n",
        "    }\n",
        "\n",
        "task=ee.batch.Export.image.toAsset(**task_config)\n",
        "task.start()"
      ],
      "execution_count": null,
      "outputs": []
    },
    {
      "cell_type": "markdown",
      "metadata": {
        "id": "MDRPELXLr6H5"
      },
      "source": [
        "#**Part 5**: Point-level GEE calculations"
      ]
    },
    {
      "cell_type": "markdown",
      "metadata": {
        "id": "hUAfIyZMkfOQ"
      },
      "source": [
        "One way to get a value for an area, for example the mean precipitation over our study site, is to use an **ImageReducer**. We used an **ImageCollection Reducer** before when calculating MAP.\n",
        "\n",
        "One of these reducers is the **reduceRegion** function, which works for features and feature collections, including points."
      ]
    },
    {
      "cell_type": "code",
      "metadata": {
        "id": "qIDXaI8RkUhA"
      },
      "source": [
        "CO_Bend_SP = ee.Geometry.Point([-98.495119, 31.055434])\n",
        "point_MAP = MAP.reduceRegion(ee.Reducer.first(), CO_Bend_SP, 1000)\n"
      ],
      "execution_count": null,
      "outputs": []
    },
    {
      "cell_type": "code",
      "metadata": {
        "id": "jU7pl-IV7P4q"
      },
      "source": [
        "point_MAP.getInfo()"
      ],
      "execution_count": null,
      "outputs": []
    },
    {
      "cell_type": "code",
      "metadata": {
        "colab": {
          "base_uri": "https://localhost:8080/"
        },
        "id": "CZpN0IeZVKYb",
        "outputId": "4328e06c-4c65-4cbd-dc34-f15cda3651a8"
      },
      "source": [
        "MAP.bandNames().getInfo()"
      ],
      "execution_count": null,
      "outputs": [
        {
          "output_type": "execute_result",
          "data": {
            "text/plain": [
              "['ppt_sum']"
            ]
          },
          "metadata": {},
          "execution_count": 110
        }
      ]
    },
    {
      "cell_type": "markdown",
      "metadata": {
        "id": "30SZKz2dteTh"
      },
      "source": [
        "There are two other ways to extract timeseries of a point (or feature, feature collection, etc) from an image collection. The way our lab has been doing it requires a bit of work for each new collection you want to extract from, but there are also some easier ways that I am just getting the hang of!"
      ]
    },
    {
      "cell_type": "markdown",
      "metadata": {
        "id": "jKhOrXyKt5zL"
      },
      "source": [
        "Say we have some sites that we want precipitation timeseries of:"
      ]
    },
    {
      "cell_type": "code",
      "metadata": {
        "id": "3juhbcBLt9d0"
      },
      "source": [
        "import pandas as pd\n",
        "import matplotlib.pyplot as plt\n",
        "import numpy as np"
      ],
      "execution_count": null,
      "outputs": []
    },
    {
      "cell_type": "code",
      "metadata": {
        "colab": {
          "base_uri": "https://localhost:8080/",
          "height": 206
        },
        "id": "_n-dR34NtcBL",
        "outputId": "2db60c24-480e-4f1f-9f44-e491e43665c2"
      },
      "source": [
        "docID = '1VtyuCPu80X4ohARm1_w-ifNoORw6BEVwocx-yV223-A'\n",
        "gID = '0'\n",
        "df = pd.read_csv('https://docs.google.com/spreadsheets/d/' + docID + '/export?gid=' + gID + '&format=csv')\n",
        "df.head()"
      ],
      "execution_count": null,
      "outputs": [
        {
          "output_type": "execute_result",
          "data": {
            "text/html": [
              "<div>\n",
              "<style scoped>\n",
              "    .dataframe tbody tr th:only-of-type {\n",
              "        vertical-align: middle;\n",
              "    }\n",
              "\n",
              "    .dataframe tbody tr th {\n",
              "        vertical-align: top;\n",
              "    }\n",
              "\n",
              "    .dataframe thead th {\n",
              "        text-align: right;\n",
              "    }\n",
              "</style>\n",
              "<table border=\"1\" class=\"dataframe\">\n",
              "  <thead>\n",
              "    <tr style=\"text-align: right;\">\n",
              "      <th></th>\n",
              "      <th>Sites</th>\n",
              "      <th>Name</th>\n",
              "      <th>ID</th>\n",
              "      <th>Latitude</th>\n",
              "      <th>Longitude</th>\n",
              "    </tr>\n",
              "  </thead>\n",
              "  <tbody>\n",
              "    <tr>\n",
              "      <th>0</th>\n",
              "      <td>ACRR</td>\n",
              "      <td>Rempe and Dietrich, 2018</td>\n",
              "      <td>10</td>\n",
              "      <td>39.729000</td>\n",
              "      <td>-123.644000</td>\n",
              "    </tr>\n",
              "    <tr>\n",
              "      <th>1</th>\n",
              "      <td>SRR</td>\n",
              "      <td>Hahm et al, 2019</td>\n",
              "      <td>11</td>\n",
              "      <td>39.574518</td>\n",
              "      <td>-123.477000</td>\n",
              "    </tr>\n",
              "    <tr>\n",
              "      <th>2</th>\n",
              "      <td>RV</td>\n",
              "      <td>Pedrazas, 2020</td>\n",
              "      <td>12</td>\n",
              "      <td>39.152361</td>\n",
              "      <td>-122.348690</td>\n",
              "    </tr>\n",
              "    <tr>\n",
              "      <th>3</th>\n",
              "      <td>Soaproot</td>\n",
              "      <td>O'Geen et al., 2018</td>\n",
              "      <td>13</td>\n",
              "      <td>37.028281</td>\n",
              "      <td>-119.254844</td>\n",
              "    </tr>\n",
              "    <tr>\n",
              "      <th>4</th>\n",
              "      <td>San Joaquin</td>\n",
              "      <td>O'Geen et al., 2018</td>\n",
              "      <td>14</td>\n",
              "      <td>37.099393</td>\n",
              "      <td>-119.740149</td>\n",
              "    </tr>\n",
              "  </tbody>\n",
              "</table>\n",
              "</div>"
            ],
            "text/plain": [
              "         Sites                      Name  ID   Latitude   Longitude\n",
              "0         ACRR  Rempe and Dietrich, 2018  10  39.729000 -123.644000\n",
              "1          SRR          Hahm et al, 2019  11  39.574518 -123.477000\n",
              "2           RV            Pedrazas, 2020  12  39.152361 -122.348690\n",
              "3     Soaproot       O'Geen et al., 2018  13  37.028281 -119.254844\n",
              "4  San Joaquin       O'Geen et al., 2018  14  37.099393 -119.740149"
            ]
          },
          "metadata": {},
          "execution_count": 113
        }
      ]
    },
    {
      "cell_type": "markdown",
      "metadata": {
        "id": "XpfP2_QBuGKJ"
      },
      "source": [
        "First, we'll convert this table of lat/longs to a feature collection:"
      ]
    },
    {
      "cell_type": "code",
      "metadata": {
        "id": "oWdOPU2_2p9o"
      },
      "source": [
        "lons = np.array(df['Longitude'])\n",
        "lats = np.array(df['Latitude'])\n",
        "ids = np.array(df['ID'])\n",
        "site_names = df['Sites']"
      ],
      "execution_count": null,
      "outputs": []
    },
    {
      "cell_type": "code",
      "metadata": {
        "id": "hVbnGGPb0_5V"
      },
      "source": [
        "fts_list = []\n",
        "for i in range(len(ids)):\n",
        "  ft = ee.Feature(ee.Geometry.Point((lons[i],lats[i])))\n",
        "  ft = ft.set({'Site':str(ids[i])})\n",
        "  fts_list.append(ft)\n",
        "\n",
        "fts = ee.FeatureCollection(fts_list)"
      ],
      "execution_count": null,
      "outputs": []
    },
    {
      "cell_type": "markdown",
      "metadata": {
        "id": "4pTm5d3GuUQO"
      },
      "source": [
        "Now we'll grab our precipitation asset again, set the start and end dates, and then run some extraction code.."
      ]
    },
    {
      "cell_type": "code",
      "metadata": {
        "colab": {
          "base_uri": "https://localhost:8080/"
        },
        "id": "byyOLc28uaWZ",
        "outputId": "e9374fc4-8f63-4817-9d15-917c51b672ba"
      },
      "source": [
        "prism = ee.ImageCollection(\"OREGONSTATE/PRISM/AN81d\")\n",
        "\n",
        "minyear = 2010\n",
        "maxyear = 2011\n",
        "variable = 'ppt'\n",
        "\n",
        "path = '/content/drive/MyDrive/'\n",
        "\n",
        "# Reduce regions on our feature collection\n",
        "def extract(image):\n",
        "        val = image.reduceRegions(fts, ee.Reducer.mean(), tileScale = 16, crs='EPSG:4326',scale=500)\n",
        "        return val\n",
        "\n",
        "#### .map()\n",
        "#imagecollection.map(name_of_function)\n",
        "#ndvi = my_landsat.map(calculate_ndvi)\n",
        "\n",
        "def get_prism(minyear, maxyear, variable):\n",
        "    dfs = []\n",
        "    for year in range(minyear, maxyear):\n",
        "      print('Getting year %s'%str(year))\n",
        "      for month in range(1,13):\n",
        "        start = (\n",
        "          pd.to_datetime(str(year) + '-' + str(month)) - pd.to_timedelta(1,unit='D')\n",
        "        ).strftime('%Y-%m-%d')\n",
        "        if month==12:\n",
        "          stop = (\n",
        "            pd.to_datetime(str(year+1) + '-' + str(1)) - pd.to_timedelta(1,unit='D')\n",
        "          ).strftime('%Y-%m-%d')\n",
        "        else:\n",
        "          stop = (\n",
        "            pd.to_datetime(str(year) + '-' + str(month+1)) - pd.to_timedelta(1,unit='D')\n",
        "          ).strftime('%Y-%m-%d')\n",
        "\n",
        "        prism = ee.ImageCollection('OREGONSTATE/PRISM/AN81d').select(variable).filterDate(start, stop)\n",
        "        extracted = prism.map(extract).flatten().getInfo()\n",
        "        sites = []\n",
        "        vals = []\n",
        "        dates = []\n",
        "        for feat in extracted['features']:\n",
        "            site = feat['properties']['Site']\n",
        "            try:\n",
        "                val = feat['properties']['mean']\n",
        "            except:\n",
        "                val = np.nan\n",
        "            date = pd.to_datetime(feat['id'].split('_')[0])\n",
        "            sites.append(site), vals.append(val), dates.append(date)     \n",
        "        df = pd.DataFrame(vals, index=dates, columns=[variable])\n",
        "        df['site'] = sites\n",
        "        df = df.pivot(columns='site')\n",
        "        dfs.append(df)\n",
        "    prism = pd.concat(dfs)\n",
        "    return prism[variable]\n",
        "\n",
        "\n",
        "def make_dataframe(variable, product):\n",
        "  column_names = []\n",
        "  for i in site_names:\n",
        "    name = i + '_' + str(variable)\n",
        "    column_names.append(name)\n",
        "\n",
        "  df = product.copy()\n",
        "  df.columns = column_names\n",
        "  df.index.names = ['Date']\n",
        "\n",
        "  return df\n",
        "\n",
        "ppt = get_prism(minyear, maxyear, variable)\n",
        "ppt_named = make_dataframe(variable, ppt)\n",
        "\n",
        "with open(path + variable + '.csv', 'w') as f:\n",
        "  ppt_named.to_csv(f)"
      ],
      "execution_count": null,
      "outputs": [
        {
          "output_type": "stream",
          "name": "stdout",
          "text": [
            "Getting year 2010\n"
          ]
        }
      ]
    },
    {
      "cell_type": "code",
      "metadata": {
        "colab": {
          "base_uri": "https://localhost:8080/",
          "height": 206
        },
        "id": "7hbTrp8GvbRh",
        "outputId": "0c43ee69-7eb8-4890-ec63-4300cf67da90"
      },
      "source": [
        "ppt = pd.read_csv('/content/drive/MyDrive/ppt.csv')\n",
        "ppt.head()"
      ],
      "execution_count": null,
      "outputs": [
        {
          "output_type": "execute_result",
          "data": {
            "text/html": [
              "<div>\n",
              "<style scoped>\n",
              "    .dataframe tbody tr th:only-of-type {\n",
              "        vertical-align: middle;\n",
              "    }\n",
              "\n",
              "    .dataframe tbody tr th {\n",
              "        vertical-align: top;\n",
              "    }\n",
              "\n",
              "    .dataframe thead th {\n",
              "        text-align: right;\n",
              "    }\n",
              "</style>\n",
              "<table border=\"1\" class=\"dataframe\">\n",
              "  <thead>\n",
              "    <tr style=\"text-align: right;\">\n",
              "      <th></th>\n",
              "      <th>Date</th>\n",
              "      <th>ACRR_ppt</th>\n",
              "      <th>SRR_ppt</th>\n",
              "      <th>RV_ppt</th>\n",
              "      <th>Soaproot_ppt</th>\n",
              "      <th>San Joaquin_ppt</th>\n",
              "      <th>Providence Creek_ppt</th>\n",
              "      <th>McDonald_ppt</th>\n",
              "      <th>Freeman_ppt</th>\n",
              "      <th>Rocksprings_ppt</th>\n",
              "      <th>White _ppt</th>\n",
              "      <th>Slate_ppt</th>\n",
              "      <th>Gordon_ppt</th>\n",
              "    </tr>\n",
              "  </thead>\n",
              "  <tbody>\n",
              "    <tr>\n",
              "      <th>0</th>\n",
              "      <td>2010-01-01</td>\n",
              "      <td>32.799</td>\n",
              "      <td>20.271999</td>\n",
              "      <td>0.423</td>\n",
              "      <td>0.0</td>\n",
              "      <td>0.0</td>\n",
              "      <td>0.0</td>\n",
              "      <td>0.0</td>\n",
              "      <td>0.0</td>\n",
              "      <td>0.0</td>\n",
              "      <td>0.0</td>\n",
              "      <td>0.000</td>\n",
              "      <td>0.033</td>\n",
              "    </tr>\n",
              "    <tr>\n",
              "      <th>1</th>\n",
              "      <td>2010-01-02</td>\n",
              "      <td>46.931</td>\n",
              "      <td>19.281000</td>\n",
              "      <td>2.648</td>\n",
              "      <td>0.0</td>\n",
              "      <td>0.0</td>\n",
              "      <td>0.0</td>\n",
              "      <td>0.0</td>\n",
              "      <td>0.0</td>\n",
              "      <td>0.0</td>\n",
              "      <td>0.0</td>\n",
              "      <td>4.116</td>\n",
              "      <td>0.001</td>\n",
              "    </tr>\n",
              "    <tr>\n",
              "      <th>2</th>\n",
              "      <td>2010-01-03</td>\n",
              "      <td>0.403</td>\n",
              "      <td>0.141000</td>\n",
              "      <td>0.000</td>\n",
              "      <td>0.0</td>\n",
              "      <td>0.0</td>\n",
              "      <td>0.0</td>\n",
              "      <td>0.0</td>\n",
              "      <td>0.0</td>\n",
              "      <td>0.0</td>\n",
              "      <td>0.0</td>\n",
              "      <td>2.454</td>\n",
              "      <td>0.304</td>\n",
              "    </tr>\n",
              "    <tr>\n",
              "      <th>3</th>\n",
              "      <td>2010-01-04</td>\n",
              "      <td>0.000</td>\n",
              "      <td>0.000000</td>\n",
              "      <td>0.000</td>\n",
              "      <td>0.0</td>\n",
              "      <td>0.0</td>\n",
              "      <td>0.0</td>\n",
              "      <td>0.0</td>\n",
              "      <td>0.0</td>\n",
              "      <td>0.0</td>\n",
              "      <td>0.0</td>\n",
              "      <td>0.000</td>\n",
              "      <td>0.013</td>\n",
              "    </tr>\n",
              "    <tr>\n",
              "      <th>4</th>\n",
              "      <td>2010-01-05</td>\n",
              "      <td>0.000</td>\n",
              "      <td>0.000000</td>\n",
              "      <td>0.000</td>\n",
              "      <td>0.0</td>\n",
              "      <td>0.0</td>\n",
              "      <td>0.0</td>\n",
              "      <td>0.0</td>\n",
              "      <td>0.0</td>\n",
              "      <td>0.0</td>\n",
              "      <td>0.0</td>\n",
              "      <td>0.000</td>\n",
              "      <td>0.000</td>\n",
              "    </tr>\n",
              "  </tbody>\n",
              "</table>\n",
              "</div>"
            ],
            "text/plain": [
              "         Date  ACRR_ppt    SRR_ppt  ...  White _ppt  Slate_ppt  Gordon_ppt\n",
              "0  2010-01-01    32.799  20.271999  ...         0.0      0.000       0.033\n",
              "1  2010-01-02    46.931  19.281000  ...         0.0      4.116       0.001\n",
              "2  2010-01-03     0.403   0.141000  ...         0.0      2.454       0.304\n",
              "3  2010-01-04     0.000   0.000000  ...         0.0      0.000       0.013\n",
              "4  2010-01-05     0.000   0.000000  ...         0.0      0.000       0.000\n",
              "\n",
              "[5 rows x 13 columns]"
            ]
          },
          "metadata": {},
          "execution_count": 67
        }
      ]
    },
    {
      "cell_type": "code",
      "metadata": {
        "colab": {
          "base_uri": "https://localhost:8080/",
          "height": 237
        },
        "id": "vrWJbiyrvmMf",
        "outputId": "d4bd32ef-8da8-4022-8d13-e17f087a536c"
      },
      "source": [
        "# Let's get the cumulative water year precip for a better plot\n",
        "temp = ppt.copy()\n",
        "temp['Date'] = pd.to_datetime(temp['Date'])\n",
        "temp = temp.set_index('Date')\n",
        "temp['wateryear'] = np.where(~temp.index.month.isin([10,11,12]),temp.index.year,temp.index.year+1)\n",
        "\n",
        "ppt_wtryr = temp.groupby(['wateryear']).cumsum()\n",
        "\n",
        "ppt_wtryr.head()"
      ],
      "execution_count": null,
      "outputs": [
        {
          "output_type": "execute_result",
          "data": {
            "text/html": [
              "<div>\n",
              "<style scoped>\n",
              "    .dataframe tbody tr th:only-of-type {\n",
              "        vertical-align: middle;\n",
              "    }\n",
              "\n",
              "    .dataframe tbody tr th {\n",
              "        vertical-align: top;\n",
              "    }\n",
              "\n",
              "    .dataframe thead th {\n",
              "        text-align: right;\n",
              "    }\n",
              "</style>\n",
              "<table border=\"1\" class=\"dataframe\">\n",
              "  <thead>\n",
              "    <tr style=\"text-align: right;\">\n",
              "      <th></th>\n",
              "      <th>ACRR_ppt</th>\n",
              "      <th>SRR_ppt</th>\n",
              "      <th>RV_ppt</th>\n",
              "      <th>Soaproot_ppt</th>\n",
              "      <th>San Joaquin_ppt</th>\n",
              "      <th>Providence Creek_ppt</th>\n",
              "      <th>McDonald_ppt</th>\n",
              "      <th>Freeman_ppt</th>\n",
              "      <th>Rocksprings_ppt</th>\n",
              "      <th>White _ppt</th>\n",
              "      <th>Slate_ppt</th>\n",
              "      <th>Gordon_ppt</th>\n",
              "    </tr>\n",
              "    <tr>\n",
              "      <th>Date</th>\n",
              "      <th></th>\n",
              "      <th></th>\n",
              "      <th></th>\n",
              "      <th></th>\n",
              "      <th></th>\n",
              "      <th></th>\n",
              "      <th></th>\n",
              "      <th></th>\n",
              "      <th></th>\n",
              "      <th></th>\n",
              "      <th></th>\n",
              "      <th></th>\n",
              "    </tr>\n",
              "  </thead>\n",
              "  <tbody>\n",
              "    <tr>\n",
              "      <th>2010-01-01</th>\n",
              "      <td>32.799</td>\n",
              "      <td>20.271999</td>\n",
              "      <td>0.423</td>\n",
              "      <td>0.0</td>\n",
              "      <td>0.0</td>\n",
              "      <td>0.0</td>\n",
              "      <td>0.0</td>\n",
              "      <td>0.0</td>\n",
              "      <td>0.0</td>\n",
              "      <td>0.0</td>\n",
              "      <td>0.000</td>\n",
              "      <td>0.033</td>\n",
              "    </tr>\n",
              "    <tr>\n",
              "      <th>2010-01-02</th>\n",
              "      <td>79.730</td>\n",
              "      <td>39.552999</td>\n",
              "      <td>3.071</td>\n",
              "      <td>0.0</td>\n",
              "      <td>0.0</td>\n",
              "      <td>0.0</td>\n",
              "      <td>0.0</td>\n",
              "      <td>0.0</td>\n",
              "      <td>0.0</td>\n",
              "      <td>0.0</td>\n",
              "      <td>4.116</td>\n",
              "      <td>0.034</td>\n",
              "    </tr>\n",
              "    <tr>\n",
              "      <th>2010-01-03</th>\n",
              "      <td>80.133</td>\n",
              "      <td>39.693999</td>\n",
              "      <td>3.071</td>\n",
              "      <td>0.0</td>\n",
              "      <td>0.0</td>\n",
              "      <td>0.0</td>\n",
              "      <td>0.0</td>\n",
              "      <td>0.0</td>\n",
              "      <td>0.0</td>\n",
              "      <td>0.0</td>\n",
              "      <td>6.570</td>\n",
              "      <td>0.338</td>\n",
              "    </tr>\n",
              "    <tr>\n",
              "      <th>2010-01-04</th>\n",
              "      <td>80.133</td>\n",
              "      <td>39.693999</td>\n",
              "      <td>3.071</td>\n",
              "      <td>0.0</td>\n",
              "      <td>0.0</td>\n",
              "      <td>0.0</td>\n",
              "      <td>0.0</td>\n",
              "      <td>0.0</td>\n",
              "      <td>0.0</td>\n",
              "      <td>0.0</td>\n",
              "      <td>6.570</td>\n",
              "      <td>0.351</td>\n",
              "    </tr>\n",
              "    <tr>\n",
              "      <th>2010-01-05</th>\n",
              "      <td>80.133</td>\n",
              "      <td>39.693999</td>\n",
              "      <td>3.071</td>\n",
              "      <td>0.0</td>\n",
              "      <td>0.0</td>\n",
              "      <td>0.0</td>\n",
              "      <td>0.0</td>\n",
              "      <td>0.0</td>\n",
              "      <td>0.0</td>\n",
              "      <td>0.0</td>\n",
              "      <td>6.570</td>\n",
              "      <td>0.351</td>\n",
              "    </tr>\n",
              "  </tbody>\n",
              "</table>\n",
              "</div>"
            ],
            "text/plain": [
              "            ACRR_ppt    SRR_ppt  RV_ppt  ...  White _ppt  Slate_ppt  Gordon_ppt\n",
              "Date                                     ...                                   \n",
              "2010-01-01    32.799  20.271999   0.423  ...         0.0      0.000       0.033\n",
              "2010-01-02    79.730  39.552999   3.071  ...         0.0      4.116       0.034\n",
              "2010-01-03    80.133  39.693999   3.071  ...         0.0      6.570       0.338\n",
              "2010-01-04    80.133  39.693999   3.071  ...         0.0      6.570       0.351\n",
              "2010-01-05    80.133  39.693999   3.071  ...         0.0      6.570       0.351\n",
              "\n",
              "[5 rows x 12 columns]"
            ]
          },
          "metadata": {},
          "execution_count": 116
        }
      ]
    },
    {
      "cell_type": "code",
      "metadata": {
        "colab": {
          "base_uri": "https://localhost:8080/",
          "height": 312
        },
        "id": "hlHe-oH0xGmw",
        "outputId": "43f51fa6-7fbc-4b28-d8c1-d4b8f9407660"
      },
      "source": [
        "plt.plot(ppt_wtryr.index, ppt_wtryr.ACRR_ppt)\n",
        "plt.xlabel('Date')\n",
        "plt.ylabel('Cumulative precip (mm)')\n",
        "plt.title('ACRR')"
      ],
      "execution_count": null,
      "outputs": [
        {
          "output_type": "execute_result",
          "data": {
            "text/plain": [
              "Text(0.5, 1.0, 'ACRR')"
            ]
          },
          "metadata": {},
          "execution_count": 79
        },
        {
          "output_type": "display_data",
          "data": {
            "image/png": "[encoded data removed]",
            "text/plain": [
              "<Figure size 432x288 with 1 Axes>"
            ]
          },
          "metadata": {
            "needs_background": "light"
          }
        }
      ]
    },
    {
      "cell_type": "markdown",
      "metadata": {
        "id": "b_7wSCD6xTRr"
      },
      "source": [
        "Another way to accomplish a similiar task is to transform the image collection into a single image with many bands:"
      ]
    },
    {
      "cell_type": "code",
      "metadata": {
        "id": "OLLpVvioxYha"
      },
      "source": [
        "start = \"2010-01-01\"\n",
        "end = \"2011-01-01\"\n",
        "\n",
        "precip_10_11 = precip.filterDate(start, end)\n",
        "\n",
        "precip_10_11_image = precip_10_11.toBands()"
      ],
      "execution_count": null,
      "outputs": []
    },
    {
      "cell_type": "code",
      "metadata": {
        "id": "P3ddtWjaxkC2"
      },
      "source": [
        "ACRR = ee.Geometry.Point([-123.644000, 39.729000])\n",
        "ACRR_precip = precip_10_11_image.reduceRegion(ee.Reducer.first(), ACRR, 500)\n",
        "\n",
        "ACRR_precip.getInfo()\n"
      ],
      "execution_count": null,
      "outputs": []
    }
  ]
}